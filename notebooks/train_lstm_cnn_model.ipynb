{
 "cells": [
  {
   "cell_type": "code",
   "execution_count": 1,
   "metadata": {},
   "outputs": [],
   "source": [
    "import tensorflow as tf\n",
    "tf.debugging.set_log_device_placement(True)\n",
    "import logging\n",
    "\n",
    "\n",
    "def allow_soft_placement():\n",
    "    physical_devices = tf.config.experimental.list_physical_devices('GPU')\n",
    "    if  len(physical_devices) == 0:\n",
    "        logging.warning(\"Not enough GPU hardware devices available\")\n",
    "    else:\n",
    "        tf.config.experimental.set_memory_growth(physical_devices[0], True)\n",
    "\n",
    "allow_soft_placement()\n",
    "\n",
    "import os\n",
    "os.chdir('../src/models/')\n",
    "\n",
    "import sys\n",
    "from dotenv import load_dotenv, find_dotenv\n",
    "import numpy as np\n",
    "import pandas as pd\n",
    "from hyperopt import space_eval\n",
    "sys.path.append(os.path.abspath(\"../..\"))\n",
    "# find .env automagically by walking up directories until it's found\n",
    "dotenv_path = find_dotenv()\n",
    "# load up the entries as environment variables\n",
    "load_dotenv(dotenv_path)\n",
    "# import pandas as pd\n",
    "\n",
    "import random\n",
    "import matplotlib.pyplot as plt\n",
    "from src.code_snippets.utils.data_handler import read_pickle,save_to_pickle\n",
    "from src.code_snippets.models.many_to_one_lstm_cnn import LstmCnn\n",
    "from src.code_snippets.models.hyperparameter_tuning import safeHyperopt,extract_trial_results\n",
    "import seaborn as sns\n"
   ]
  },
  {
   "cell_type": "code",
   "execution_count": 2,
   "metadata": {},
   "outputs": [],
   "source": [
    "seed = 100\n",
    "random.seed(seed)\n",
    "np.random.seed(seed)"
   ]
  },
  {
   "cell_type": "code",
   "execution_count": 3,
   "metadata": {},
   "outputs": [],
   "source": [
    "train_data = read_pickle('../../data/processed/processed_data_train.pickle')\n",
    "val_data = read_pickle('../../data/processed/processed_data_val.pickle')\n",
    "#test_data = read_pickle('../data/processed/processed_data_test.pickle')\n"
   ]
  },
  {
   "cell_type": "code",
   "execution_count": 4,
   "metadata": {},
   "outputs": [
    {
     "name": "stdout",
     "output_type": "stream",
     "text": [
      "12292\n"
     ]
    }
   ],
   "source": [
    "num_observations = len(train_data['X_aux'])\n",
    "idx = np.arange(num_observations)\n",
    "\n",
    "sample_portion = 0.1\n",
    "sample_size = int(num_observations*sample_portion)\n",
    "print(sample_size)"
   ]
  },
  {
   "cell_type": "code",
   "execution_count": 5,
   "metadata": {},
   "outputs": [
    {
     "name": "stdout",
     "output_type": "stream",
     "text": [
      "Num GPUs Available:  1\n"
     ]
    }
   ],
   "source": [
    "num_gpus_available = len(tf.config.experimental.list_physical_devices('GPU'))\n",
    "assert num_gpus_available == 1, 'GPU IS NOT AVAILABLE' \n",
    "print(\"Num GPUs Available: \",num_gpus_available )"
   ]
  },
  {
   "cell_type": "code",
   "execution_count": 6,
   "metadata": {},
   "outputs": [],
   "source": [
    "np.random.seed(seed)\n",
    "sampled_idx = np.random.choice(idx,sample_size,replace = False)\n",
    "\n",
    "use_sample = False\n",
    "\n",
    "if use_sample:\n",
    "    train_data['X_indices'] = train_data['X_indices'][sampled_idx]\n",
    "    train_data['X_aux'] = train_data['X_aux'][sampled_idx]\n",
    "    train_data['y'] = train_data['y'][sampled_idx]\n",
    "else:\n",
    "    train_data['X_indices'] = train_data['X_indices']\n",
    "    train_data['X_aux'] = train_data['X_aux']\n",
    "    train_data['y'] = train_data['y']"
   ]
  },
  {
   "cell_type": "code",
   "execution_count": 7,
   "metadata": {},
   "outputs": [],
   "source": [
    "trainer = LstmCnn(train_data,\n",
    "                            val_data,\n",
    "                            \"../../data/raw/pretrained_embeddings/glove.twitter.27B/glove.twitter.27B.200d.txt\")\n"
   ]
  },
  {
   "cell_type": "code",
   "execution_count": null,
   "metadata": {},
   "outputs": [],
   "source": [
    "from hyperopt import hp, space_eval\n",
    "\n",
    "space = {   'n_units': 256,\n",
    "            'add_recurrent_layer': True,\n",
    "            'dropout': hp.choice('dropout', np.arange(.4,0.6,0.1)),\n",
    "            'spatial_dropout':hp.choice('spatial_dropout',np.arange(.4,.6,.1)),\n",
    "            'hidden_dense_units': 128,\n",
    "            'batch_size' :2**5,\n",
    "            'epochs' : 1,\n",
    "            'learning_rate':10**hp.uniform('learning_rate',-3,-2.559),\n",
    "            'bidirectional':True\n",
    "        }\n",
    "\n"
   ]
  },
  {
   "cell_type": "code",
   "execution_count": null,
   "metadata": {},
   "outputs": [],
   "source": [
    "trainer.search_hyperparameters(space = space,\n",
    "                               version = 4,\n",
    "                               total_trials = 30)"
   ]
  },
  {
   "cell_type": "code",
   "execution_count": null,
   "metadata": {},
   "outputs": [],
   "source": [
    "trials = read_pickle('../../models/many_to_one_LSTM/V2/trials.pickle')\n",
    "space = read_pickle('../../models/many_to_one_LSTM/V2/space_hyperopt.pickle')"
   ]
  },
  {
   "cell_type": "code",
   "execution_count": null,
   "metadata": {},
   "outputs": [],
   "source": [
    "best_params = space_eval(space,trials.argmin) \n",
    "print(trials.best_trial['result']['loss'])\n",
    "best_params\n"
   ]
  },
  {
   "cell_type": "code",
   "execution_count": null,
   "metadata": {},
   "outputs": [],
   "source": [
    "plot_metrics(trials.best_trial['result']['model_history'],ylim=(0,0.35))"
   ]
  },
  {
   "cell_type": "code",
   "execution_count": null,
   "metadata": {},
   "outputs": [],
   "source": [
    "results = list(map(extract_trial_results,trials.trials))"
   ]
  },
  {
   "cell_type": "code",
   "execution_count": null,
   "metadata": {},
   "outputs": [],
   "source": [
    "results = pd.DataFrame(results)\n",
    "results.drop('epochs',axis=1,inplace=True)\n",
    "results.sort_values(by='f1_val',inplace=True,ascending=False)"
   ]
  },
  {
   "cell_type": "code",
   "execution_count": null,
   "metadata": {},
   "outputs": [],
   "source": [
    "plt.figure(figsize=(13,10))\n",
    "sns.heatmap(results.corr(),cmap='coolwarm',annot=True)\n",
    "plt.show()"
   ]
  },
  {
   "cell_type": "code",
   "execution_count": null,
   "metadata": {},
   "outputs": [],
   "source": [
    "sns.boxenplot(x='batch_size',y='f1_val',data=results)\n"
   ]
  },
  {
   "cell_type": "markdown",
   "metadata": {},
   "source": [
    "# ======================================================================================="
   ]
  },
  {
   "cell_type": "markdown",
   "metadata": {},
   "source": [
    "# Playground"
   ]
  },
  {
   "cell_type": "code",
   "execution_count": null,
   "metadata": {},
   "outputs": [],
   "source": [
    "def get_layer_output(model,layer,input_):\n",
    "    get_layer_output = K.function([model.layers[0].input],\n",
    "                      [model.layers[layer].output])\n",
    "\n",
    "    layer_output = get_layer_output(input_)\n",
    "    return layer_output[0]"
   ]
  },
  {
   "cell_type": "code",
   "execution_count": 8,
   "metadata": {},
   "outputs": [
    {
     "name": "stdout",
     "output_type": "stream",
     "text": [
      "Executing op RandomUniform in device /job:localhost/replica:0/task:0/device:CPU:0\n",
      "Executing op Sub in device /job:localhost/replica:0/task:0/device:CPU:0\n",
      "Executing op Mul in device /job:localhost/replica:0/task:0/device:CPU:0\n",
      "Executing op Add in device /job:localhost/replica:0/task:0/device:CPU:0\n",
      "Executing op VarHandleOp in device /job:localhost/replica:0/task:0/device:CPU:0\n",
      "Executing op VarIsInitializedOp in device /job:localhost/replica:0/task:0/device:CPU:0\n",
      "Executing op LogicalNot in device /job:localhost/replica:0/task:0/device:CPU:0\n",
      "Executing op Assert in device /job:localhost/replica:0/task:0/device:CPU:0\n",
      "Executing op AssignVariableOp in device /job:localhost/replica:0/task:0/device:CPU:0\n",
      "Executing op RandomUniform in device /job:localhost/replica:0/task:0/device:GPU:0\n",
      "Executing op Sub in device /job:localhost/replica:0/task:0/device:GPU:0\n",
      "Executing op Mul in device /job:localhost/replica:0/task:0/device:GPU:0\n",
      "Executing op Add in device /job:localhost/replica:0/task:0/device:GPU:0\n",
      "Executing op VarHandleOp in device /job:localhost/replica:0/task:0/device:GPU:0\n",
      "Executing op VarIsInitializedOp in device /job:localhost/replica:0/task:0/device:GPU:0\n",
      "Executing op LogicalNot in device /job:localhost/replica:0/task:0/device:GPU:0\n",
      "Executing op Assert in device /job:localhost/replica:0/task:0/device:GPU:0\n",
      "Executing op AssignVariableOp in device /job:localhost/replica:0/task:0/device:GPU:0\n",
      "Executing op RandomStandardNormal in device /job:localhost/replica:0/task:0/device:GPU:0\n",
      "Executing op Qr in device /job:localhost/replica:0/task:0/device:GPU:0\n",
      "Executing op DiagPart in device /job:localhost/replica:0/task:0/device:GPU:0\n",
      "Executing op Sign in device /job:localhost/replica:0/task:0/device:GPU:0\n",
      "Executing op Transpose in device /job:localhost/replica:0/task:0/device:GPU:0\n",
      "Executing op Reshape in device /job:localhost/replica:0/task:0/device:GPU:0\n",
      "Executing op VarHandleOp in device /job:localhost/replica:0/task:0/device:GPU:0\n",
      "Executing op Fill in device /job:localhost/replica:0/task:0/device:GPU:0\n",
      "Executing op ConcatV2 in device /job:localhost/replica:0/task:0/device:GPU:0\n",
      "Executing op VarHandleOp in device /job:localhost/replica:0/task:0/device:GPU:0\n",
      "Executing op VarHandleOp in device /job:localhost/replica:0/task:0/device:GPU:0\n",
      "Executing op VarHandleOp in device /job:localhost/replica:0/task:0/device:GPU:0\n",
      "Executing op VarHandleOp in device /job:localhost/replica:0/task:0/device:GPU:0\n",
      "Executing op VarHandleOp in device /job:localhost/replica:0/task:0/device:GPU:0\n",
      "Executing op VarHandleOp in device /job:localhost/replica:0/task:0/device:GPU:0\n"
     ]
    }
   ],
   "source": [
    "trainer.set_model(n_units=256,\n",
    "             n_filters = 128,\n",
    "             dropout=0.4,\n",
    "             spatial_dropout=0.4,\n",
    "             hidden_dense_units=0,\n",
    "             learning_rate=0.0017436142055397088,\n",
    "             global_avg_pool=True,\n",
    "             global_max_pool=True\n",
    "    )\n",
    "\n"
   ]
  },
  {
   "cell_type": "code",
   "execution_count": 20,
   "metadata": {},
   "outputs": [
    {
     "name": "stdout",
     "output_type": "stream",
     "text": [
      "Model: \"model_2\"\n",
      "__________________________________________________________________________________________________\n",
      "Layer (type)                    Output Shape         Param #     Connected to                     \n",
      "==================================================================================================\n",
      "input_7 (InputLayer)            [(None, 115)]        0                                            \n",
      "__________________________________________________________________________________________________\n",
      "embedding_5 (Embedding)         (None, 115, 200)     238703000   input_7[0][0]                    \n",
      "__________________________________________________________________________________________________\n",
      "spatial_dropout1d_5 (SpatialDro (None, 115, 200)     0           embedding_5[0][0]                \n",
      "__________________________________________________________________________________________________\n",
      "bidirectional_5 (Bidirectional) (None, 115, 512)     935936      spatial_dropout1d_5[0][0]        \n",
      "__________________________________________________________________________________________________\n",
      "conv1d_4 (Conv1D)               (None, 57, 64)       65600       bidirectional_5[0][0]            \n",
      "__________________________________________________________________________________________________\n",
      "batch_normalization_3 (BatchNor (None, 57, 64)       256         conv1d_4[0][0]                   \n",
      "__________________________________________________________________________________________________\n",
      "activation_1 (Activation)       (None, 57, 64)       0           batch_normalization_3[0][0]      \n",
      "__________________________________________________________________________________________________\n",
      "global_average_pooling1d_2 (Glo (None, 64)           0           activation_1[0][0]               \n",
      "__________________________________________________________________________________________________\n",
      "global_max_pooling1d_2 (GlobalM (None, 64)           0           activation_1[0][0]               \n",
      "__________________________________________________________________________________________________\n",
      "concatenate_2 (Concatenate)     (None, 128)          0           global_average_pooling1d_2[0][0] \n",
      "                                                                 global_max_pooling1d_2[0][0]     \n",
      "__________________________________________________________________________________________________\n",
      "dense_2 (Dense)                 (None, 1)            129         concatenate_2[0][0]              \n",
      "==================================================================================================\n",
      "Total params: 239,704,921\n",
      "Trainable params: 1,001,793\n",
      "Non-trainable params: 238,703,128\n",
      "__________________________________________________________________________________________________\n"
     ]
    }
   ],
   "source": [
    "trainer.model.summary()"
   ]
  },
  {
   "cell_type": "code",
   "execution_count": 8,
   "metadata": {},
   "outputs": [
    {
     "name": "stdout",
     "output_type": "stream",
     "text": [
      "Executing op RandomUniform in device /job:localhost/replica:0/task:0/device:CPU:0\n",
      "Executing op Sub in device /job:localhost/replica:0/task:0/device:CPU:0\n",
      "Executing op Mul in device /job:localhost/replica:0/task:0/device:CPU:0\n",
      "Executing op Add in device /job:localhost/replica:0/task:0/device:CPU:0\n",
      "Executing op VarHandleOp in device /job:localhost/replica:0/task:0/device:CPU:0\n",
      "Executing op VarIsInitializedOp in device /job:localhost/replica:0/task:0/device:CPU:0\n",
      "Executing op LogicalNot in device /job:localhost/replica:0/task:0/device:CPU:0\n",
      "Executing op Assert in device /job:localhost/replica:0/task:0/device:CPU:0\n",
      "Executing op AssignVariableOp in device /job:localhost/replica:0/task:0/device:CPU:0\n",
      "Executing op RandomUniform in device /job:localhost/replica:0/task:0/device:GPU:0\n",
      "Executing op Sub in device /job:localhost/replica:0/task:0/device:GPU:0\n",
      "Executing op Mul in device /job:localhost/replica:0/task:0/device:GPU:0\n",
      "Executing op Add in device /job:localhost/replica:0/task:0/device:GPU:0\n",
      "Executing op VarHandleOp in device /job:localhost/replica:0/task:0/device:GPU:0\n",
      "Executing op VarIsInitializedOp in device /job:localhost/replica:0/task:0/device:GPU:0\n",
      "Executing op LogicalNot in device /job:localhost/replica:0/task:0/device:GPU:0\n",
      "Executing op Assert in device /job:localhost/replica:0/task:0/device:GPU:0\n",
      "Executing op AssignVariableOp in device /job:localhost/replica:0/task:0/device:GPU:0\n",
      "Executing op RandomStandardNormal in device /job:localhost/replica:0/task:0/device:GPU:0\n",
      "Executing op Qr in device /job:localhost/replica:0/task:0/device:GPU:0\n",
      "Executing op DiagPart in device /job:localhost/replica:0/task:0/device:GPU:0\n",
      "Executing op Sign in device /job:localhost/replica:0/task:0/device:GPU:0\n",
      "Executing op Transpose in device /job:localhost/replica:0/task:0/device:GPU:0\n",
      "Executing op Reshape in device /job:localhost/replica:0/task:0/device:GPU:0\n",
      "Executing op VarHandleOp in device /job:localhost/replica:0/task:0/device:GPU:0\n",
      "Executing op Fill in device /job:localhost/replica:0/task:0/device:GPU:0\n",
      "Executing op ConcatV2 in device /job:localhost/replica:0/task:0/device:GPU:0\n",
      "Executing op VarHandleOp in device /job:localhost/replica:0/task:0/device:GPU:0\n",
      "Executing op VarHandleOp in device /job:localhost/replica:0/task:0/device:GPU:0\n",
      "Executing op VarHandleOp in device /job:localhost/replica:0/task:0/device:GPU:0\n",
      "Executing op VarHandleOp in device /job:localhost/replica:0/task:0/device:GPU:0\n",
      "Executing op VarHandleOp in device /job:localhost/replica:0/task:0/device:GPU:0\n",
      "Executing op VarHandleOp in device /job:localhost/replica:0/task:0/device:GPU:0\n",
      "Executing op VarHandleOp in device /job:localhost/replica:0/task:0/device:GPU:0\n",
      "Executing op VarHandleOp in device /job:localhost/replica:0/task:0/device:GPU:0\n",
      "Executing op VarHandleOp in device /job:localhost/replica:0/task:0/device:GPU:0\n"
     ]
    }
   ],
   "source": [
    "#Input layer\n",
    "from tensorflow.keras.layers import (MaxPool1D,GlobalAveragePooling1D, GlobalMaxPooling1D,\n",
    "                                     Input,LSTM,Conv1D,\n",
    "                                     Dropout, Dense, BatchNormalization, \n",
    "                                     Activation, Bidirectional,SpatialDropout1D,\n",
    "                                     concatenate)\n",
    "from tensorflow.keras.optimizers import Adam\n",
    "from tensorflow.keras import Model\n",
    "from src.code_snippets.dataprep.embeddings_preprocessing.data_preparation import pretrained_embedding_layer\n",
    "from src.code_snippets.evaluation.model_evaluation import f1_metric, plot_metrics\n",
    "\n",
    "global_max_pool = True\n",
    "global_avg_pool = False\n",
    "n_units=256\n",
    "dropout=0.4\n",
    "spatial_dropout=0.4\n",
    "hidden_dense_units=128\n",
    "learning_rate=0.0017436142055397088\n",
    "filter_size = 2\n",
    "n_filters=128\n",
    "padding='valid'\n",
    "stride = 1\n",
    "\n",
    "sentence_indices = Input((115),dtype='int32')\n",
    "\n",
    "# Embedding Layer\n",
    "embedding_layer = pretrained_embedding_layer(trainer.gensim_model,\n",
    "                                             trainer.word_to_index)\n",
    "\n",
    "# Propagate sentence_indices through your embedding layer\n",
    "embeddings = embedding_layer(sentence_indices)   \n",
    "embeddings = SpatialDropout1D(spatial_dropout,seed= seed)(embeddings)\n",
    "\n",
    "#LSTM 1\n",
    "X = Bidirectional(LSTM(n_units,return_sequences=True))(embeddings)\n",
    "\n",
    "items_to_concat = []\n",
    "\n",
    "#1D Convolution\n",
    "\n",
    "X = Conv1D(filters = n_filters, kernel_size = filter_size,strides = stride,padding = padding)(X)\n",
    "#X = BatchNormalization()(X)\n",
    "X = Activation(activation='relu')(X)\n",
    "\n",
    "X = MaxPool1D()(X)\n",
    "\n",
    "X = Conv1D(filters = n_filters*2, kernel_size = filter_size,strides = stride,padding = padding)(X)\n",
    "#X = BatchNormalization()(X)\n",
    "X = Activation(activation='relu')(X)\n",
    "\n",
    "#TODO: ADD BATCH NORM ??\n",
    "if global_avg_pool:\n",
    "    avg_pool = GlobalAveragePooling1D()(X)\n",
    "    items_to_concat.append(avg_pool)\n",
    "\n",
    "if global_max_pool:\n",
    "    max_pool = GlobalMaxPooling1D()(X)\n",
    "    items_to_concat.append(max_pool)\n",
    "\n",
    "if len(items_to_concat) == 1:\n",
    "    X = items_to_concat[0]\n",
    "else:\n",
    "    X = concatenate(items_to_concat)\n",
    "\n",
    "if hidden_dense_units>0:\n",
    "    #Hiden Dense Layer 1\n",
    "    X = Dense(hidden_dense_units)(X)\n",
    "    X = BatchNormalization()(X) \n",
    "    X = Activation(activation='relu')(X)\n",
    "    X = Dropout(dropout,seed = seed)(X)\n",
    "\n",
    "#Output layer\n",
    "X = Dense(1,activation='sigmoid')(X)\n",
    "\n",
    "trainer.model = Model(sentence_indices,X)\n",
    "\n",
    "opt = Adam(learning_rate=learning_rate)\n",
    "trainer.model.compile(loss='binary_crossentropy',metrics = [f1_metric],optimizer=opt)\n",
    "\n"
   ]
  },
  {
   "cell_type": "code",
   "execution_count": 32,
   "metadata": {},
   "outputs": [
    {
     "name": "stdout",
     "output_type": "stream",
     "text": [
      "Executing op __inference_keras_scratch_graph_158726 in device /job:localhost/replica:0/task:0/device:GPU:0\n",
      "Executing op VarHandleOp in device /job:localhost/replica:0/task:0/device:GPU:0\n",
      "Executing op VarHandleOp in device /job:localhost/replica:0/task:0/device:GPU:0\n"
     ]
    }
   ],
   "source": [
    "#Input layer\n",
    "from tensorflow.keras.layers import (MaxPool1D,GlobalAveragePooling1D, GlobalMaxPooling1D,\n",
    "                                     Input,LSTM,Conv1D, Conv2D,MaxPool2D,\n",
    "                                     Dropout, Dense, BatchNormalization, \n",
    "                                     Activation, Bidirectional,SpatialDropout1D,\n",
    "                                     concatenate)\n",
    "from tensorflow.keras.optimizers import Adam\n",
    "from tensorflow.keras import Model\n",
    "from src.code_snippets.dataprep.embeddings_preprocessing.data_preparation import pretrained_embedding_layer\n",
    "from src.code_snippets.evaluation.model_evaluation import f1_metric, plot_metrics\n",
    "\n",
    "\n",
    "hidden_dense_units = 256\n",
    "dropout = 0.4\n",
    "spatial_dropout = 0.4\n",
    "learning_rate=0.0017436142055397088\n",
    "n_units = 128\n",
    "\n",
    "sentence_indices = Input((115),dtype='int32')\n",
    "\n",
    "# Embedding Layer\n",
    "embedding_layer = pretrained_embedding_layer(trainer.gensim_model,\n",
    "                                             trainer.word_to_index)\n",
    "\n",
    "# Propagate sentence_indices through your embedding layer\n",
    "embeddings = embedding_layer(sentence_indices)   \n",
    "embeddings = SpatialDropout1D(spatial_dropout,seed= seed)(embeddings)\n",
    "\n",
    "X = Bidirectional(LSTM(n_units,return_sequences=True))(embeddings)\n",
    "\n",
    "X = tf.expand_dims(X,axis=-1)\n",
    "X = Conv2D(filters = 100, kernel_size = 5,padding = 'valid', activation = 'relu')(X)\n",
    "X = MaxPool2D(pool_size=(5, 5))(X)\n",
    "X = Conv2D(filters = 100, kernel_size = 5,padding = 'valid', activation = 'relu')(X)\n",
    "X = MaxPool2D(pool_size=(5, 5))(X)\n",
    "\n",
    "#X = Dense(hidden_dense_units)(X)\n",
    "#X = BatchNormalization()(X) \n",
    "#X = Activation(activation='relu')(X)\n",
    "#X = Dropout(dropout,seed = seed)(X)\n",
    "\n",
    "X = BatchNormalization()(X) \n",
    "X = Activation(activation='relu')(X)\n",
    "X = Dropout(dropout,seed = seed)(X)\n",
    "#Output layer\n",
    "X = tf.keras.layers.Flatten()(X)\n",
    "X = Dense(1,activation='sigmoid')(X)\n",
    "\n",
    "trainer.model = Model(sentence_indices,X)\n",
    "\n",
    "opt = Adam(learning_rate=learning_rate)\n",
    "trainer.model.compile(loss='binary_crossentropy',metrics = [f1_metric],optimizer=opt)\n",
    "\n"
   ]
  },
  {
   "cell_type": "code",
   "execution_count": 33,
   "metadata": {},
   "outputs": [
    {
     "name": "stdout",
     "output_type": "stream",
     "text": [
      "Model: \"model_5\"\n",
      "_________________________________________________________________\n",
      "Layer (type)                 Output Shape              Param #   \n",
      "=================================================================\n",
      "input_13 (InputLayer)        [(None, 115)]             0         \n",
      "_________________________________________________________________\n",
      "embedding_11 (Embedding)     (None, 115, 200)          238703000 \n",
      "_________________________________________________________________\n",
      "spatial_dropout1d_11 (Spatia (None, 115, 200)          0         \n",
      "_________________________________________________________________\n",
      "bidirectional_6 (Bidirection (None, 115, 256)          336896    \n",
      "_________________________________________________________________\n",
      "tf_op_layer_ExpandDims_5 (Te [(None, 115, 256, 1)]     0         \n",
      "_________________________________________________________________\n",
      "conv2d_10 (Conv2D)           (None, 111, 252, 100)     2600      \n",
      "_________________________________________________________________\n",
      "max_pooling2d_9 (MaxPooling2 (None, 22, 50, 100)       0         \n",
      "_________________________________________________________________\n",
      "batch_normalization_5 (Batch (None, 22, 50, 100)       400       \n",
      "_________________________________________________________________\n",
      "activation_5 (Activation)    (None, 22, 50, 100)       0         \n",
      "_________________________________________________________________\n",
      "dropout_5 (Dropout)          (None, 22, 50, 100)       0         \n",
      "_________________________________________________________________\n",
      "flatten_4 (Flatten)          (None, 110000)            0         \n",
      "_________________________________________________________________\n",
      "dense_5 (Dense)              (None, 1)                 110001    \n",
      "=================================================================\n",
      "Total params: 239,152,897\n",
      "Trainable params: 449,697\n",
      "Non-trainable params: 238,703,200\n",
      "_________________________________________________________________\n"
     ]
    }
   ],
   "source": [
    "trainer.model.summary()"
   ]
  },
  {
   "cell_type": "code",
   "execution_count": null,
   "metadata": {},
   "outputs": [
    {
     "name": "stdout",
     "output_type": "stream",
     "text": [
      "Executing op RangeDataset in device /job:localhost/replica:0/task:0/device:CPU:0\n",
      "Executing op RepeatDataset in device /job:localhost/replica:0/task:0/device:CPU:0\n",
      "Executing op MapDataset in device /job:localhost/replica:0/task:0/device:CPU:0\n",
      "Executing op PrefetchDataset in device /job:localhost/replica:0/task:0/device:CPU:0\n",
      "Executing op FlatMapDataset in device /job:localhost/replica:0/task:0/device:CPU:0\n",
      "Executing op TensorDataset in device /job:localhost/replica:0/task:0/device:CPU:0\n",
      "Executing op RepeatDataset in device /job:localhost/replica:0/task:0/device:CPU:0\n",
      "Executing op ZipDataset in device /job:localhost/replica:0/task:0/device:CPU:0\n",
      "Executing op ParallelMapDataset in device /job:localhost/replica:0/task:0/device:CPU:0\n",
      "Executing op RangeDataset in device /job:localhost/replica:0/task:0/device:CPU:0\n",
      "Executing op RepeatDataset in device /job:localhost/replica:0/task:0/device:CPU:0\n",
      "Executing op MapDataset in device /job:localhost/replica:0/task:0/device:CPU:0\n",
      "Executing op PrefetchDataset in device /job:localhost/replica:0/task:0/device:CPU:0\n",
      "Executing op FlatMapDataset in device /job:localhost/replica:0/task:0/device:CPU:0\n",
      "Executing op TensorDataset in device /job:localhost/replica:0/task:0/device:CPU:0\n",
      "Executing op RepeatDataset in device /job:localhost/replica:0/task:0/device:CPU:0\n",
      "Executing op ZipDataset in device /job:localhost/replica:0/task:0/device:CPU:0\n",
      "Executing op ParallelMapDataset in device /job:localhost/replica:0/task:0/device:CPU:0\n",
      "Train on 122920 samples, validate on 6489 samples\n",
      "Epoch 1/100\n",
      "Executing op ModelDataset in device /job:localhost/replica:0/task:0/device:CPU:0\n"
     ]
    }
   ],
   "source": [
    "trainer.fit_model(epochs=100,batch_size = 64)"
   ]
  },
  {
   "cell_type": "code",
   "execution_count": 11,
   "metadata": {},
   "outputs": [
    {
     "data": {
      "image/png": "[encoded data removed]",
      "text/plain": [
       "<Figure size 432x288 with 1 Axes>"
      ]
     },
     "metadata": {
      "needs_background": "light"
     },
     "output_type": "display_data"
    }
   ],
   "source": [
    "plot_metrics(trainer.model.history,ylim=(0,0.3))"
   ]
  },
  {
   "cell_type": "code",
   "execution_count": 15,
   "metadata": {},
   "outputs": [
    {
     "data": {
      "image/png": "[encoded data removed]",
      "text/plain": [
       "<Figure size 432x288 with 1 Axes>"
      ]
     },
     "metadata": {
      "needs_background": "light"
     },
     "output_type": "display_data"
    }
   ],
   "source": [
    "plot_metrics(trainer.model.history,ylim=(0,0.3))"
   ]
  },
  {
   "cell_type": "code",
   "execution_count": 17,
   "metadata": {},
   "outputs": [
    {
     "data": {
      "image/png": "[encoded data removed]",
      "text/plain": [
       "<Figure size 432x288 with 1 Axes>"
      ]
     },
     "metadata": {
      "needs_background": "light"
     },
     "output_type": "display_data"
    }
   ],
   "source": [
    "A = plot_metrics(trainer.model.history,ylim=(0,0.3))"
   ]
  },
  {
   "cell_type": "code",
   "execution_count": 45,
   "metadata": {},
   "outputs": [
    {
     "name": "stdout",
     "output_type": "stream",
     "text": [
      "Executing op DestroyResourceOp in device /job:localhost/replica:0/task:0/device:GPU:0\n",
      "Executing op VarHandleOp in device /job:localhost/replica:0/task:0/device:GPU:0\n",
      "Executing op Fill in device /job:localhost/replica:0/task:0/device:GPU:0\n",
      "Executing op VarHandleOp in device /job:localhost/replica:0/task:0/device:GPU:0\n",
      "Executing op VarHandleOp in device /job:localhost/replica:0/task:0/device:GPU:0\n",
      "Executing op VarHandleOp in device /job:localhost/replica:0/task:0/device:GPU:0\n",
      "Executing op VarHandleOp in device /job:localhost/replica:0/task:0/device:GPU:0\n",
      "Executing op VarHandleOp in device /job:localhost/replica:0/task:0/device:GPU:0\n",
      "Executing op VarHandleOp in device /job:localhost/replica:0/task:0/device:GPU:0\n",
      "Executing op VarHandleOp in device /job:localhost/replica:0/task:0/device:GPU:0\n",
      "Executing op Reshape in device /job:localhost/replica:0/task:0/device:GPU:0\n",
      "Executing op VarHandleOp in device /job:localhost/replica:0/task:0/device:GPU:0\n",
      "Executing op ReadVariableOp in device /job:localhost/replica:0/task:0/device:GPU:0\n",
      "Executing op Identity in device /job:localhost/replica:0/task:0/device:GPU:0\n"
     ]
    }
   ],
   "source": [
    "model = tf.keras.models.load_model('../../models/many_to_one_LSTM/model.h5',custom_objects={'f1_metric':f1_metric})"
   ]
  },
  {
   "cell_type": "code",
   "execution_count": 46,
   "metadata": {},
   "outputs": [],
   "source": [
    "trainer.model = model"
   ]
  },
  {
   "cell_type": "code",
   "execution_count": 47,
   "metadata": {},
   "outputs": [
    {
     "name": "stdout",
     "output_type": "stream",
     "text": [
      "Executing op RangeDataset in device /job:localhost/replica:0/task:0/device:CPU:0\n",
      "Executing op RepeatDataset in device /job:localhost/replica:0/task:0/device:CPU:0\n",
      "Executing op MapDataset in device /job:localhost/replica:0/task:0/device:CPU:0\n",
      "Executing op PrefetchDataset in device /job:localhost/replica:0/task:0/device:CPU:0\n",
      "Executing op FlatMapDataset in device /job:localhost/replica:0/task:0/device:CPU:0\n",
      "Executing op TensorDataset in device /job:localhost/replica:0/task:0/device:CPU:0\n",
      "Executing op RepeatDataset in device /job:localhost/replica:0/task:0/device:CPU:0\n",
      "Executing op ZipDataset in device /job:localhost/replica:0/task:0/device:CPU:0\n",
      "Executing op ParallelMapDataset in device /job:localhost/replica:0/task:0/device:CPU:0\n",
      "Executing op ModelDataset in device /job:localhost/replica:0/task:0/device:CPU:0\n",
      "Executing op __inference_distributed_function_143037 in device /job:localhost/replica:0/task:0/device:GPU:0\n"
     ]
    },
    {
     "data": {
      "text/plain": [
       "0.8555478"
      ]
     },
     "execution_count": 47,
     "metadata": {},
     "output_type": "execute_result"
    }
   ],
   "source": [
    "trainer.generate_metrics(trainer.val_data['X_indices'],y_test = trainer.val_data['y'])"
   ]
  },
  {
   "cell_type": "code",
   "execution_count": 8,
   "metadata": {
    "scrolled": false
   },
   "outputs": [
    {
     "name": "stdout",
     "output_type": "stream",
     "text": [
      "Executing op RandomUniform in device /job:localhost/replica:0/task:0/device:CPU:0\n",
      "Executing op Sub in device /job:localhost/replica:0/task:0/device:CPU:0\n",
      "Executing op Mul in device /job:localhost/replica:0/task:0/device:CPU:0\n",
      "Executing op Add in device /job:localhost/replica:0/task:0/device:CPU:0\n",
      "Executing op VarHandleOp in device /job:localhost/replica:0/task:0/device:CPU:0\n",
      "Executing op VarIsInitializedOp in device /job:localhost/replica:0/task:0/device:CPU:0\n",
      "Executing op LogicalNot in device /job:localhost/replica:0/task:0/device:CPU:0\n",
      "Executing op Assert in device /job:localhost/replica:0/task:0/device:CPU:0\n",
      "Executing op AssignVariableOp in device /job:localhost/replica:0/task:0/device:CPU:0\n",
      "Executing op RandomUniform in device /job:localhost/replica:0/task:0/device:GPU:0\n",
      "Executing op Sub in device /job:localhost/replica:0/task:0/device:GPU:0\n",
      "Executing op Mul in device /job:localhost/replica:0/task:0/device:GPU:0\n",
      "Executing op Add in device /job:localhost/replica:0/task:0/device:GPU:0\n",
      "Executing op VarHandleOp in device /job:localhost/replica:0/task:0/device:GPU:0\n",
      "Executing op VarIsInitializedOp in device /job:localhost/replica:0/task:0/device:GPU:0\n",
      "Executing op LogicalNot in device /job:localhost/replica:0/task:0/device:GPU:0\n",
      "Executing op Assert in device /job:localhost/replica:0/task:0/device:GPU:0\n",
      "Executing op AssignVariableOp in device /job:localhost/replica:0/task:0/device:GPU:0\n",
      "Executing op RandomStandardNormal in device /job:localhost/replica:0/task:0/device:GPU:0\n",
      "Executing op Qr in device /job:localhost/replica:0/task:0/device:GPU:0\n",
      "Executing op DiagPart in device /job:localhost/replica:0/task:0/device:GPU:0\n",
      "Executing op Sign in device /job:localhost/replica:0/task:0/device:GPU:0\n",
      "Executing op Transpose in device /job:localhost/replica:0/task:0/device:GPU:0\n",
      "Executing op Reshape in device /job:localhost/replica:0/task:0/device:GPU:0\n",
      "Executing op VarHandleOp in device /job:localhost/replica:0/task:0/device:GPU:0\n",
      "Executing op Fill in device /job:localhost/replica:0/task:0/device:GPU:0\n",
      "Executing op ConcatV2 in device /job:localhost/replica:0/task:0/device:GPU:0\n",
      "Executing op VarHandleOp in device /job:localhost/replica:0/task:0/device:GPU:0\n",
      "Executing op VarHandleOp in device /job:localhost/replica:0/task:0/device:GPU:0\n",
      "Executing op VarHandleOp in device /job:localhost/replica:0/task:0/device:GPU:0\n",
      "Executing op VarHandleOp in device /job:localhost/replica:0/task:0/device:GPU:0\n",
      "Executing op VarHandleOp in device /job:localhost/replica:0/task:0/device:GPU:0\n",
      "Executing op VarHandleOp in device /job:localhost/replica:0/task:0/device:GPU:0\n",
      "Executing op VarHandleOp in device /job:localhost/replica:0/task:0/device:GPU:0\n"
     ]
    }
   ],
   "source": [
    "#Input layer\n",
    "from tensorflow.keras.layers import (Attention,MaxPool1D,GlobalAveragePooling1D, GlobalMaxPooling1D,\n",
    "                                     Input,LSTM,Conv1D, Conv2D,MaxPool2D,\n",
    "                                     Dropout, Dense, BatchNormalization, \n",
    "                                     Activation, Bidirectional,SpatialDropout1D,\n",
    "                                     concatenate)\n",
    "from tensorflow.keras.optimizers import Adam\n",
    "from tensorflow.keras import Model\n",
    "from src.code_snippets.dataprep.embeddings_preprocessing.data_preparation import pretrained_embedding_layer\n",
    "from src.code_snippets.evaluation.model_evaluation import f1_metric, plot_metrics\n",
    "\n",
    "\n",
    "hidden_dense_units = 128\n",
    "dropout = 0.5\n",
    "spatial_dropout = 0.4\n",
    "learning_rate=0.0017436142055397088\n",
    "n_units = 256\n",
    "\n",
    "sentence_indices = Input((115),dtype='int32')\n",
    "\n",
    "# Embedding Layer\n",
    "embedding_layer = pretrained_embedding_layer(trainer.gensim_model,\n",
    "                                             trainer.word_to_index)\n",
    "\n",
    "# Propagate sentence_indices through your embedding layer\n",
    "embeddings = embedding_layer(sentence_indices)   \n",
    "embeddings = SpatialDropout1D(spatial_dropout,seed= seed)(embeddings)\n",
    "\n",
    "lstm_output = Bidirectional(LSTM(n_units,return_sequences=True))(embeddings)\n",
    "lstm_output = Bidirectional(LSTM(n_units,return_sequences=True))(lstm_output)\n",
    "\n",
    "e = Dense(128,activation = 'tanh')(lstm_output)\n",
    "energies = Dense(1,activation = 'relu')(e)\n",
    "alphas = Activation('softmax')(energies)\n",
    "X = tf.keras.layers.Dot(axes=1)([alphas,lstm_output])\n",
    "\n",
    "\n",
    "X = Dense(hidden_dense_units)(X)\n",
    "X = BatchNormalization()(X) \n",
    "X = Activation(activation='relu')(X)\n",
    "X = Dropout(dropout,seed = seed)(X)\n",
    "\n",
    "X = Dense(1,activation='sigmoid')(X)\n",
    "\n",
    "trainer.model = Model(sentence_indices,X)\n",
    "\n",
    "opt = Adam(learning_rate=learning_rate)\n",
    "trainer.model.compile(loss='binary_crossentropy',metrics = [f1_metric],optimizer=opt)\n",
    "\n"
   ]
  },
  {
   "cell_type": "code",
   "execution_count": 9,
   "metadata": {},
   "outputs": [
    {
     "name": "stdout",
     "output_type": "stream",
     "text": [
      "Model: \"model\"\n",
      "__________________________________________________________________________________________________\n",
      "Layer (type)                    Output Shape         Param #     Connected to                     \n",
      "==================================================================================================\n",
      "input_1 (InputLayer)            [(None, 115)]        0                                            \n",
      "__________________________________________________________________________________________________\n",
      "embedding (Embedding)           (None, 115, 200)     238703000   input_1[0][0]                    \n",
      "__________________________________________________________________________________________________\n",
      "spatial_dropout1d (SpatialDropo (None, 115, 200)     0           embedding[0][0]                  \n",
      "__________________________________________________________________________________________________\n",
      "bidirectional (Bidirectional)   (None, 115, 512)     935936      spatial_dropout1d[0][0]          \n",
      "__________________________________________________________________________________________________\n",
      "bidirectional_1 (Bidirectional) (None, 115, 512)     1574912     bidirectional[0][0]              \n",
      "__________________________________________________________________________________________________\n",
      "dense (Dense)                   (None, 115, 128)     65664       bidirectional_1[0][0]            \n",
      "__________________________________________________________________________________________________\n",
      "dense_1 (Dense)                 (None, 115, 1)       129         dense[0][0]                      \n",
      "__________________________________________________________________________________________________\n",
      "activation (Activation)         (None, 115, 1)       0           dense_1[0][0]                    \n",
      "__________________________________________________________________________________________________\n",
      "dot (Dot)                       (None, 1, 512)       0           activation[0][0]                 \n",
      "                                                                 bidirectional_1[0][0]            \n",
      "__________________________________________________________________________________________________\n",
      "dense_2 (Dense)                 (None, 1, 128)       65664       dot[0][0]                        \n",
      "__________________________________________________________________________________________________\n",
      "batch_normalization (BatchNorma (None, 1, 128)       512         dense_2[0][0]                    \n",
      "__________________________________________________________________________________________________\n",
      "activation_1 (Activation)       (None, 1, 128)       0           batch_normalization[0][0]        \n",
      "__________________________________________________________________________________________________\n",
      "dropout (Dropout)               (None, 1, 128)       0           activation_1[0][0]               \n",
      "__________________________________________________________________________________________________\n",
      "dense_3 (Dense)                 (None, 1, 1)         129         dropout[0][0]                    \n",
      "==================================================================================================\n",
      "Total params: 241,345,946\n",
      "Trainable params: 2,642,690\n",
      "Non-trainable params: 238,703,256\n",
      "__________________________________________________________________________________________________\n"
     ]
    }
   ],
   "source": [
    "trainer.model.summary()"
   ]
  },
  {
   "cell_type": "code",
   "execution_count": 10,
   "metadata": {},
   "outputs": [
    {
     "name": "stdout",
     "output_type": "stream",
     "text": [
      "Executing op RangeDataset in device /job:localhost/replica:0/task:0/device:CPU:0\n",
      "Executing op RepeatDataset in device /job:localhost/replica:0/task:0/device:CPU:0\n",
      "Executing op MapDataset in device /job:localhost/replica:0/task:0/device:CPU:0\n",
      "Executing op PrefetchDataset in device /job:localhost/replica:0/task:0/device:CPU:0\n",
      "Executing op FlatMapDataset in device /job:localhost/replica:0/task:0/device:CPU:0\n",
      "Executing op TensorDataset in device /job:localhost/replica:0/task:0/device:CPU:0\n",
      "Executing op RepeatDataset in device /job:localhost/replica:0/task:0/device:CPU:0\n",
      "Executing op ZipDataset in device /job:localhost/replica:0/task:0/device:CPU:0\n",
      "Executing op ParallelMapDataset in device /job:localhost/replica:0/task:0/device:CPU:0\n",
      "Executing op RangeDataset in device /job:localhost/replica:0/task:0/device:CPU:0\n",
      "Executing op RepeatDataset in device /job:localhost/replica:0/task:0/device:CPU:0\n",
      "Executing op MapDataset in device /job:localhost/replica:0/task:0/device:CPU:0\n",
      "Executing op PrefetchDataset in device /job:localhost/replica:0/task:0/device:CPU:0\n",
      "Executing op FlatMapDataset in device /job:localhost/replica:0/task:0/device:CPU:0\n",
      "Executing op TensorDataset in device /job:localhost/replica:0/task:0/device:CPU:0\n",
      "Executing op RepeatDataset in device /job:localhost/replica:0/task:0/device:CPU:0\n",
      "Executing op ZipDataset in device /job:localhost/replica:0/task:0/device:CPU:0\n",
      "Executing op ParallelMapDataset in device /job:localhost/replica:0/task:0/device:CPU:0\n",
      "Executing op DatasetCardinality in device /job:localhost/replica:0/task:0/device:CPU:0\n",
      "Train on 122920 samples, validate on 6489 samples\n",
      "Epoch 1/100\n",
      "Executing op ModelDataset in device /job:localhost/replica:0/task:0/device:CPU:0\n",
      "Executing op AnonymousIteratorV2 in device /job:localhost/replica:0/task:0/device:CPU:0\n",
      "Executing op MakeIterator in device /job:localhost/replica:0/task:0/device:CPU:0\n",
      "Executing op VarHandleOp in device /job:localhost/replica:0/task:0/device:GPU:0\n",
      "Executing op AssignVariableOp in device /job:localhost/replica:0/task:0/device:GPU:0\n",
      "Executing op VarHandleOp in device /job:localhost/replica:0/task:0/device:GPU:0\n",
      "Executing op VarHandleOp in device /job:localhost/replica:0/task:0/device:GPU:0\n",
      "Executing op VarHandleOp in device /job:localhost/replica:0/task:0/device:GPU:0\n",
      "Executing op VarHandleOp in device /job:localhost/replica:0/task:0/device:GPU:0\n",
      "Executing op VarHandleOp in device /job:localhost/replica:0/task:0/device:GPU:0\n",
      "Executing op LogicalNot in device /job:localhost/replica:0/task:0/device:GPU:0\n",
      "Executing op Assert in device /job:localhost/replica:0/task:0/device:GPU:0\n",
      "Executing op VarHandleOp in device /job:localhost/replica:0/task:0/device:GPU:0\n",
      "Executing op VarHandleOp in device /job:localhost/replica:0/task:0/device:GPU:0\n",
      "Executing op VarHandleOp in device /job:localhost/replica:0/task:0/device:GPU:0\n",
      "Executing op VarHandleOp in device /job:localhost/replica:0/task:0/device:GPU:0\n",
      "Executing op VarHandleOp in device /job:localhost/replica:0/task:0/device:GPU:0\n",
      "Executing op VarHandleOp in device /job:localhost/replica:0/task:0/device:GPU:0\n",
      "Executing op VarHandleOp in device /job:localhost/replica:0/task:0/device:GPU:0\n",
      "Executing op VarHandleOp in device /job:localhost/replica:0/task:0/device:GPU:0\n",
      "Executing op VarHandleOp in device /job:localhost/replica:0/task:0/device:GPU:0\n",
      "Executing op VarHandleOp in device /job:localhost/replica:0/task:0/device:GPU:0\n",
      "Executing op VarHandleOp in device /job:localhost/replica:0/task:0/device:GPU:0\n",
      "Executing op VarHandleOp in device /job:localhost/replica:0/task:0/device:GPU:0\n",
      "Executing op VarHandleOp in device /job:localhost/replica:0/task:0/device:GPU:0\n",
      "Executing op VarHandleOp in device /job:localhost/replica:0/task:0/device:GPU:0\n",
      "Executing op VarHandleOp in device /job:localhost/replica:0/task:0/device:GPU:0\n",
      "Executing op VarHandleOp in device /job:localhost/replica:0/task:0/device:GPU:0\n",
      "Executing op VarHandleOp in device /job:localhost/replica:0/task:0/device:GPU:0\n",
      "Executing op VarHandleOp in device /job:localhost/replica:0/task:0/device:GPU:0\n",
      "Executing op VarHandleOp in device /job:localhost/replica:0/task:0/device:GPU:0\n",
      "Executing op VarHandleOp in device /job:localhost/replica:0/task:0/device:GPU:0\n",
      "Executing op VarHandleOp in device /job:localhost/replica:0/task:0/device:GPU:0\n",
      "Executing op VarHandleOp in device /job:localhost/replica:0/task:0/device:GPU:0\n",
      "Executing op VarHandleOp in device /job:localhost/replica:0/task:0/device:GPU:0\n",
      "Executing op VarHandleOp in device /job:localhost/replica:0/task:0/device:GPU:0\n",
      "Executing op VarHandleOp in device /job:localhost/replica:0/task:0/device:GPU:0\n",
      "Executing op VarHandleOp in device /job:localhost/replica:0/task:0/device:GPU:0\n",
      "Executing op VarHandleOp in device /job:localhost/replica:0/task:0/device:GPU:0\n",
      "Executing op VarHandleOp in device /job:localhost/replica:0/task:0/device:GPU:0\n",
      "Executing op VarHandleOp in device /job:localhost/replica:0/task:0/device:GPU:0\n",
      "Executing op VarHandleOp in device /job:localhost/replica:0/task:0/device:GPU:0\n",
      "Executing op VarHandleOp in device /job:localhost/replica:0/task:0/device:GPU:0\n",
      "Executing op VarHandleOp in device /job:localhost/replica:0/task:0/device:GPU:0\n",
      "Executing op VarHandleOp in device /job:localhost/replica:0/task:0/device:GPU:0\n",
      "Executing op VarHandleOp in device /job:localhost/replica:0/task:0/device:GPU:0\n",
      "Executing op VarHandleOp in device /job:localhost/replica:0/task:0/device:GPU:0\n",
      "Executing op VarHandleOp in device /job:localhost/replica:0/task:0/device:GPU:0\n",
      "Executing op VarHandleOp in device /job:localhost/replica:0/task:0/device:GPU:0\n",
      "Executing op VarHandleOp in device /job:localhost/replica:0/task:0/device:GPU:0\n",
      "Executing op VarHandleOp in device /job:localhost/replica:0/task:0/device:GPU:0\n",
      "Executing op VarHandleOp in device /job:localhost/replica:0/task:0/device:GPU:0\n",
      "Executing op VarHandleOp in device /job:localhost/replica:0/task:0/device:GPU:0\n",
      "Executing op VarHandleOp in device /job:localhost/replica:0/task:0/device:GPU:0\n",
      "Executing op VarHandleOp in device /job:localhost/replica:0/task:0/device:GPU:0\n",
      "Executing op __inference_distributed_function_25750 in device /job:localhost/replica:0/task:0/device:GPU:0\n",
      "122880/122920 [============================>.] - ETA: 0s - loss: 0.1604 - f1_metric: 0.7051Executing op ModelDataset in device /job:localhost/replica:0/task:0/device:CPU:0\n",
      "Executing op __inference_distributed_function_34895 in device /job:localhost/replica:0/task:0/device:GPU:0\n",
      "Executing op ReadVariableOp in device /job:localhost/replica:0/task:0/device:CPU:0\n",
      "Executing op Identity in device /job:localhost/replica:0/task:0/device:GPU:0\n",
      "Executing op ReadVariableOp in device /job:localhost/replica:0/task:0/device:GPU:0\n",
      "122920/122920 [==============================] - 134s 1ms/sample - loss: 0.1604 - f1_metric: 0.7051 - val_loss: 0.0990 - val_f1_metric: 0.8205\n",
      "Epoch 2/100\n",
      "122880/122920 [============================>.] - ETA: 0s - loss: 0.1128 - f1_metric: 0.7979Executing op ModelDataset in device /job:localhost/replica:0/task:0/device:CPU:0\n",
      "Executing op DeleteIterator in device /job:localhost/replica:0/task:0/device:CPU:0\n",
      "122920/122920 [==============================] - 108s 882us/sample - loss: 0.1128 - f1_metric: 0.7979 - val_loss: 0.0930 - val_f1_metric: 0.8094\n",
      "Epoch 3/100\n",
      "122880/122920 [============================>.] - ETA: 0s - loss: 0.1022 - f1_metric: 0.8124Executing op ModelDataset in device /job:localhost/replica:0/task:0/device:CPU:0\n",
      "122920/122920 [==============================] - 110s 893us/sample - loss: 0.1022 - f1_metric: 0.8125 - val_loss: 0.0914 - val_f1_metric: 0.8269\n",
      "Epoch 4/100\n",
      "122880/122920 [============================>.] - ETA: 0s - loss: 0.0947 - f1_metric: 0.8259Executing op ModelDataset in device /job:localhost/replica:0/task:0/device:CPU:0\n",
      "122920/122920 [==============================] - 110s 892us/sample - loss: 0.0947 - f1_metric: 0.8259 - val_loss: 0.0913 - val_f1_metric: 0.8321\n",
      "Epoch 5/100\n",
      "122880/122920 [============================>.] - ETA: 0s - loss: 0.0889 - f1_metric: 0.8354Executing op ModelDataset in device /job:localhost/replica:0/task:0/device:CPU:0\n",
      "122920/122920 [==============================] - 111s 900us/sample - loss: 0.0889 - f1_metric: 0.8356 - val_loss: 0.0872 - val_f1_metric: 0.8479\n"
     ]
    },
    {
     "name": "stdout",
     "output_type": "stream",
     "text": [
      "Epoch 6/100\n",
      "122880/122920 [============================>.] - ETA: 0s - loss: 0.0823 - f1_metric: 0.8452Executing op ModelDataset in device /job:localhost/replica:0/task:0/device:CPU:0\n",
      "122920/122920 [==============================] - 112s 913us/sample - loss: 0.0823 - f1_metric: 0.8451 - val_loss: 0.0902 - val_f1_metric: 0.8317\n",
      "Epoch 7/100\n",
      "122880/122920 [============================>.] - ETA: 0s - loss: 0.0773 - f1_metric: 0.8531Executing op ModelDataset in device /job:localhost/replica:0/task:0/device:CPU:0\n",
      "122920/122920 [==============================] - 112s 909us/sample - loss: 0.0773 - f1_metric: 0.8529 - val_loss: 0.0875 - val_f1_metric: 0.8437\n",
      "Epoch 8/100\n",
      "122880/122920 [============================>.] - ETA: 0s - loss: 0.0708 - f1_metric: 0.8677Executing op ModelDataset in device /job:localhost/replica:0/task:0/device:CPU:0\n",
      "122920/122920 [==============================] - 111s 902us/sample - loss: 0.0708 - f1_metric: 0.8676 - val_loss: 0.0958 - val_f1_metric: 0.8496\n",
      "Epoch 9/100\n",
      "122880/122920 [============================>.] - ETA: 0s - loss: 0.0656 - f1_metric: 0.8777Executing op ModelDataset in device /job:localhost/replica:0/task:0/device:CPU:0\n",
      "122920/122920 [==============================] - 110s 898us/sample - loss: 0.0656 - f1_metric: 0.8779 - val_loss: 0.0945 - val_f1_metric: 0.8503\n",
      "Epoch 10/100\n",
      "122880/122920 [============================>.] - ETA: 0s - loss: 0.0596 - f1_metric: 0.8907Executing op ModelDataset in device /job:localhost/replica:0/task:0/device:CPU:0\n",
      "122920/122920 [==============================] - 109s 889us/sample - loss: 0.0596 - f1_metric: 0.8906 - val_loss: 0.0942 - val_f1_metric: 0.8346\n",
      "Epoch 11/100\n",
      "122880/122920 [============================>.] - ETA: 0s - loss: 0.0564 - f1_metric: 0.8948Executing op ModelDataset in device /job:localhost/replica:0/task:0/device:CPU:0\n",
      "122920/122920 [==============================] - 109s 890us/sample - loss: 0.0563 - f1_metric: 0.8949 - val_loss: 0.1049 - val_f1_metric: 0.8309\n",
      "Epoch 12/100\n",
      "122880/122920 [============================>.] - ETA: 0s - loss: 0.0521 - f1_metric: 0.9019Executing op ModelDataset in device /job:localhost/replica:0/task:0/device:CPU:0\n",
      "122920/122920 [==============================] - 109s 890us/sample - loss: 0.0521 - f1_metric: 0.9020 - val_loss: 0.0996 - val_f1_metric: 0.8385\n",
      "Epoch 13/100\n",
      "122880/122920 [============================>.] - ETA: 0s - loss: 0.0486 - f1_metric: 0.9103Executing op ModelDataset in device /job:localhost/replica:0/task:0/device:CPU:0\n",
      "122920/122920 [==============================] - 109s 889us/sample - loss: 0.0486 - f1_metric: 0.9104 - val_loss: 0.1084 - val_f1_metric: 0.8359\n",
      "Epoch 14/100\n",
      "122880/122920 [============================>.] - ETA: 0s - loss: 0.0447 - f1_metric: 0.9163Executing op ModelDataset in device /job:localhost/replica:0/task:0/device:CPU:0\n",
      "122920/122920 [==============================] - 109s 890us/sample - loss: 0.0447 - f1_metric: 0.9164 - val_loss: 0.1073 - val_f1_metric: 0.8295\n",
      "Epoch 15/100\n",
      "122880/122920 [============================>.] - ETA: 0s - loss: 0.0412 - f1_metric: 0.9214Executing op ModelDataset in device /job:localhost/replica:0/task:0/device:CPU:0\n",
      "122920/122920 [==============================] - 110s 892us/sample - loss: 0.0412 - f1_metric: 0.9215 - val_loss: 0.1334 - val_f1_metric: 0.8253\n",
      "Epoch 16/100\n",
      "122880/122920 [============================>.] - ETA: 0s - loss: 0.0388 - f1_metric: 0.9288Executing op ModelDataset in device /job:localhost/replica:0/task:0/device:CPU:0\n",
      "122920/122920 [==============================] - 110s 892us/sample - loss: 0.0388 - f1_metric: 0.9289 - val_loss: 0.1217 - val_f1_metric: 0.8275\n",
      "Epoch 17/100\n",
      "122880/122920 [============================>.] - ETA: 0s - loss: 0.0378 - f1_metric: 0.9320Executing op ModelDataset in device /job:localhost/replica:0/task:0/device:CPU:0\n",
      "122920/122920 [==============================] - 110s 892us/sample - loss: 0.0378 - f1_metric: 0.9320 - val_loss: 0.1293 - val_f1_metric: 0.8406\n",
      "Epoch 18/100\n",
      "122880/122920 [============================>.] - ETA: 0s - loss: 0.0342 - f1_metric: 0.9392Executing op ModelDataset in device /job:localhost/replica:0/task:0/device:CPU:0\n",
      "122920/122920 [==============================] - 109s 891us/sample - loss: 0.0342 - f1_metric: 0.9393 - val_loss: 0.1295 - val_f1_metric: 0.8281\n",
      "Epoch 19/100\n",
      "122880/122920 [============================>.] - ETA: 0s - loss: 0.0331 - f1_metric: 0.9404Executing op ModelDataset in device /job:localhost/replica:0/task:0/device:CPU:0\n",
      "122920/122920 [==============================] - 109s 890us/sample - loss: 0.0331 - f1_metric: 0.9404 - val_loss: 0.1397 - val_f1_metric: 0.8262\n",
      "Epoch 20/100\n",
      "122880/122920 [============================>.] - ETA: 0s - loss: 0.0319 - f1_metric: 0.9438Executing op ModelDataset in device /job:localhost/replica:0/task:0/device:CPU:0\n",
      "122920/122920 [==============================] - 109s 890us/sample - loss: 0.0319 - f1_metric: 0.9438 - val_loss: 0.1295 - val_f1_metric: 0.8305\n",
      "Epoch 21/100\n",
      "122880/122920 [============================>.] - ETA: 0s - loss: 0.0299 - f1_metric: 0.9473Executing op ModelDataset in device /job:localhost/replica:0/task:0/device:CPU:0\n",
      "122920/122920 [==============================] - 109s 891us/sample - loss: 0.0299 - f1_metric: 0.9472 - val_loss: 0.1441 - val_f1_metric: 0.8203\n",
      "Epoch 22/100\n",
      "122880/122920 [============================>.] - ETA: 0s - loss: 0.0290 - f1_metric: 0.9480Executing op ModelDataset in device /job:localhost/replica:0/task:0/device:CPU:0\n",
      "122920/122920 [==============================] - 110s 893us/sample - loss: 0.0290 - f1_metric: 0.9479 - val_loss: 0.1342 - val_f1_metric: 0.8367\n",
      "Epoch 23/100\n",
      "122880/122920 [============================>.] - ETA: 0s - loss: 0.0279 - f1_metric: 0.9511Executing op ModelDataset in device /job:localhost/replica:0/task:0/device:CPU:0\n",
      "122920/122920 [==============================] - 110s 895us/sample - loss: 0.0279 - f1_metric: 0.9511 - val_loss: 0.1589 - val_f1_metric: 0.8094\n",
      "Epoch 24/100\n",
      "122880/122920 [============================>.] - ETA: 0s - loss: 0.0267 - f1_metric: 0.9524Executing op ModelDataset in device /job:localhost/replica:0/task:0/device:CPU:0\n",
      "Restoring model weights from the end of the best epoch.\n",
      "122920/122920 [==============================] - 111s 903us/sample - loss: 0.0267 - f1_metric: 0.9525 - val_loss: 0.1563 - val_f1_metric: 0.8255\n",
      "Epoch 00024: early stopping\n"
     ]
    }
   ],
   "source": [
    "trainer.fit_model(epochs=100,batch_size = 128)"
   ]
  },
  {
   "cell_type": "code",
   "execution_count": 12,
   "metadata": {},
   "outputs": [
    {
     "data": {
      "image/png": "[encoded data removed]",
      "text/plain": [
       "<Figure size 432x288 with 1 Axes>"
      ]
     },
     "metadata": {
      "needs_background": "light"
     },
     "output_type": "display_data"
    }
   ],
   "source": [
    "plot_metrics(trainer.model.history,ylim=(0,0.35))"
   ]
  },
  {
   "cell_type": "code",
   "execution_count": 16,
   "metadata": {},
   "outputs": [
    {
     "data": {
      "image/png": "[encoded data removed]",
      "text/plain": [
       "<Figure size 432x288 with 1 Axes>"
      ]
     },
     "metadata": {
      "needs_background": "light"
     },
     "output_type": "display_data"
    }
   ],
   "source": [
    "plot_metrics(trainer.model.history,ylim=(0,0.35))"
   ]
  },
  {
   "cell_type": "code",
   "execution_count": null,
   "metadata": {},
   "outputs": [],
   "source": []
  }
 ],
 "metadata": {
  "kernelspec": {
   "display_name": "Python 3",
   "language": "python",
   "name": "python3"
  },
  "language_info": {
   "codemirror_mode": {
    "name": "ipython",
    "version": 3
   },
   "file_extension": ".py",
   "mimetype": "text/x-python",
   "name": "python",
   "nbconvert_exporter": "python",
   "pygments_lexer": "ipython3",
   "version": "3.7.2"
  }
 },
 "nbformat": 4,
 "nbformat_minor": 4
}
