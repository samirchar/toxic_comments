{
 "cells": [
  {
   "cell_type": "code",
   "execution_count": 1,
   "metadata": {},
   "outputs": [],
   "source": [
    "import tensorflow as tf\n",
    "tf.debugging.set_log_device_placement(True)\n",
    "import logging\n",
    "\n",
    "\n",
    "def allow_soft_placement():\n",
    "    physical_devices = tf.config.experimental.list_physical_devices('GPU')\n",
    "    if  len(physical_devices) == 0:\n",
    "        logging.warning(\"Not enough GPU hardware devices available\")\n",
    "    else:\n",
    "        tf.config.experimental.set_memory_growth(physical_devices[0], True)\n",
    "\n",
    "allow_soft_placement()\n",
    "\n",
    "import os\n",
    "os.chdir('../src/models/')\n",
    "\n",
    "import sys\n",
    "from dotenv import load_dotenv, find_dotenv\n",
    "import numpy as np\n",
    "import pandas as pd\n",
    "from hyperopt import space_eval\n",
    "sys.path.append(os.path.abspath(\"../..\"))\n",
    "sys.path.append(os.path.abspath('../code_snippets/'))\n",
    "\n",
    "# find .env automagically by walking up directories until it's found\n",
    "dotenv_path = find_dotenv()\n",
    "# load up the entries as environment variables\n",
    "load_dotenv(dotenv_path)\n",
    "# import pandas as pd\n",
    "\n",
    "import random\n",
    "import matplotlib.pyplot as plt\n",
    "from src.code_snippets.utils.data_handler import read_pickle,save_to_pickle\n",
    "from src.code_snippets.models.many_to_one_models import BidirectionalLSTM\n",
    "from src.code_snippets.models.hyperparameter_tuning import safeHyperopt,extract_trial_results\n",
    "import seaborn as sns\n",
    "from hyperopt import hp, space_eval\n",
    "from src.code_snippets.visualization.hyperparameter_tuning import analyze_hyperparameters\n",
    "from itertools import product"
   ]
  },
  {
   "cell_type": "code",
   "execution_count": 2,
   "metadata": {},
   "outputs": [],
   "source": [
    "from tensorflow.nn import relu"
   ]
  },
  {
   "cell_type": "code",
   "execution_count": 3,
   "metadata": {},
   "outputs": [],
   "source": [
    "from src.code_snippets.evaluation.model_evaluation import plot_metrics"
   ]
  },
  {
   "cell_type": "code",
   "execution_count": 4,
   "metadata": {},
   "outputs": [],
   "source": [
    "seed = 100\n",
    "random.seed(seed)\n",
    "np.random.seed(seed)"
   ]
  },
  {
   "cell_type": "code",
   "execution_count": 5,
   "metadata": {},
   "outputs": [],
   "source": [
    "train_data = read_pickle('../../data/processed/processed_data_train.pickle')\n",
    "val_data = read_pickle('../../data/processed/processed_data_val.pickle')\n",
    "test_data = read_pickle('../../data/processed/processed_data_test.pickle')\n"
   ]
  },
  {
   "cell_type": "code",
   "execution_count": 6,
   "metadata": {},
   "outputs": [
    {
     "name": "stdout",
     "output_type": "stream",
     "text": [
      "Num GPUs Available:  1\n"
     ]
    }
   ],
   "source": [
    "num_gpus_available = len(tf.config.experimental.list_physical_devices('GPU'))\n",
    "assert num_gpus_available == 1, 'GPU IS NOT AVAILABLE' \n",
    "print(\"Num GPUs Available: \",num_gpus_available )"
   ]
  },
  {
   "cell_type": "code",
   "execution_count": 13,
   "metadata": {},
   "outputs": [],
   "source": [
    "trials = read_pickle('../../models/InceptionTime/V3/trials.pickle')\n",
    "space = read_pickle('../../models/InceptionTime/V3/space_hyperopt.pickle')"
   ]
  },
  {
   "cell_type": "code",
   "execution_count": 14,
   "metadata": {},
   "outputs": [
    {
     "data": {
      "text/plain": [
       "100"
      ]
     },
     "execution_count": 14,
     "metadata": {},
     "output_type": "execute_result"
    }
   ],
   "source": [
    "len(trials.trials)"
   ]
  },
  {
   "cell_type": "code",
   "execution_count": 17,
   "metadata": {},
   "outputs": [
    {
     "data": {
      "text/plain": [
       "'\\nexperiments_dict= {}\\nfrom hyperopt.pyll.stochastic import sample\\nfor k in space.keys():\\n    experiments_dict[k] = [sample(space)[k] for i in range(1000)]\\n    \\n{k:[min(v),max(v)] for k,v in experiments_dict.items()}'"
      ]
     },
     "execution_count": 17,
     "metadata": {},
     "output_type": "execute_result"
    }
   ],
   "source": [
    "'''\n",
    "experiments_dict= {}\n",
    "from hyperopt.pyll.stochastic import sample\n",
    "for k in space.keys():\n",
    "    experiments_dict[k] = [sample(space)[k] for i in range(1000)]\n",
    "    \n",
    "{k:[min(v),max(v)] for k,v in experiments_dict.items()}'''"
   ]
  },
  {
   "cell_type": "code",
   "execution_count": 47,
   "metadata": {},
   "outputs": [
    {
     "name": "stdout",
     "output_type": "stream",
     "text": [
      "0.1891014575958252\n"
     ]
    },
    {
     "data": {
      "text/plain": [
       "{'batch_size': 512,\n",
       " 'dropout': 0.3,\n",
       " 'epochs': 100,\n",
       " 'learning_rate': 0.016994314341916783,\n",
       " 'max_pool': True,\n",
       " 'num_modules': 6,\n",
       " 'spatial_dropout': 0.3}"
      ]
     },
     "execution_count": 47,
     "metadata": {},
     "output_type": "execute_result"
    }
   ],
   "source": [
    "best_params = space_eval(space,trials.argmin) \n",
    "print(trials.best_trial['result']['loss'])\n",
    "best_params\n"
   ]
  },
  {
   "cell_type": "code",
   "execution_count": 48,
   "metadata": {},
   "outputs": [
    {
     "data": {
      "image/png": "[encoded data removed]",
      "text/plain": [
       "<Figure size 432x288 with 1 Axes>"
      ]
     },
     "metadata": {
      "needs_background": "light"
     },
     "output_type": "display_data"
    }
   ],
   "source": [
    "plot_metrics(\n",
    "             trials.best_trial['result']['model_history'],\n",
    "             ylim=(0,0.4)\n",
    "                )"
   ]
  },
  {
   "cell_type": "code",
   "execution_count": 50,
   "metadata": {},
   "outputs": [],
   "source": [
    "results = list(map(lambda x: extract_trial_results(x,space),trials.trials))"
   ]
  },
  {
   "cell_type": "code",
   "execution_count": 51,
   "metadata": {},
   "outputs": [],
   "source": [
    "results = pd.DataFrame(results)\n",
    "results.drop('epochs',axis=1,inplace=True)\n",
    "results.sort_values(by='f1_val',inplace=True,ascending=False)"
   ]
  },
  {
   "cell_type": "code",
   "execution_count": 52,
   "metadata": {},
   "outputs": [
    {
     "data": {
      "text/plain": [
       "Index(['batch_size', 'dropout', 'learning_rate', 'max_pool', 'num_modules',\n",
       "       'spatial_dropout', 'num_epochs', 'f1_train', 'f1_val'],\n",
       "      dtype='object')"
      ]
     },
     "execution_count": 52,
     "metadata": {},
     "output_type": "execute_result"
    }
   ],
   "source": [
    "results.columns"
   ]
  },
  {
   "cell_type": "code",
   "execution_count": 53,
   "metadata": {},
   "outputs": [
    {
     "data": {
      "image/png": "[encoded data removed]",
      "text/plain": [
       "<Figure size 432x288 with 1 Axes>"
      ]
     },
     "metadata": {
      "needs_background": "light"
     },
     "output_type": "display_data"
    },
    {
     "data": {
      "image/png": "[encoded data removed]",
      "text/plain": [
       "<Figure size 432x288 with 1 Axes>"
      ]
     },
     "metadata": {
      "needs_background": "light"
     },
     "output_type": "display_data"
    },
    {
     "data": {
      "image/png": "[encoded data removed]",
      "text/plain": [
       "<Figure size 432x288 with 1 Axes>"
      ]
     },
     "metadata": {
      "needs_background": "light"
     },
     "output_type": "display_data"
    },
    {
     "data": {
      "image/png": "[encoded data removed]",
      "text/plain": [
       "<Figure size 432x288 with 1 Axes>"
      ]
     },
     "metadata": {
      "needs_background": "light"
     },
     "output_type": "display_data"
    },
    {
     "data": {
      "image/png": "[encoded data removed]",
      "text/plain": [
       "<Figure size 432x288 with 1 Axes>"
      ]
     },
     "metadata": {
      "needs_background": "light"
     },
     "output_type": "display_data"
    },
    {
     "data": {
      "image/png": "[encoded data removed]",
      "text/plain": [
       "<Figure size 432x288 with 1 Axes>"
      ]
     },
     "metadata": {
      "needs_background": "light"
     },
     "output_type": "display_data"
    },
    {
     "data": {
      "application/vnd.plotly.v1+json": {
       "config": {
        "plotlyServerURL": "https://plot.ly"
       },
       "data": [
        {
         "dimensions": [
          {
           "label": "batch_size",
           "values": [
            512,
            512,
            512,
            512,
            512,
            512,
            512,
            512,
            512,
            512,
            512,
            512,
            512,
            512,
            512,
            512,
            512,
            512,
            512,
            512,
            512,
            512,
            512,
            512,
            512,
            512,
            512,
            512,
            512,
            512,
            512,
            512,
            512,
            512,
            512,
            512,
            512,
            512,
            512,
            512,
            512,
            512,
            512,
            512,
            512,
            512,
            512,
            512,
            512,
            512,
            512,
            512,
            512,
            512,
            512,
            512,
            512,
            512,
            512,
            512,
            512,
            512,
            512,
            512,
            512,
            512,
            512,
            512,
            512,
            512,
            512,
            512,
            512,
            512,
            512,
            512,
            512,
            512,
            512,
            512,
            512,
            512,
            512,
            512,
            512,
            512,
            512,
            512,
            512,
            512,
            512,
            512,
            512,
            512,
            512,
            512,
            512,
            512,
            512,
            512
           ]
          },
          {
           "label": "dropout",
           "values": [
            0.3,
            0.3,
            0.3,
            0.3,
            0.3,
            0.3,
            0.3,
            0.3,
            0.3,
            0.3,
            0.3,
            0.3,
            0.3,
            0.3,
            0.5,
            0.3,
            0.3,
            0.3,
            0.3,
            0.5,
            0.3,
            0.3,
            0.3,
            0.3,
            0.4,
            0.3,
            0.3,
            0.3,
            0.3,
            0.3,
            0.3,
            0.3,
            0.3,
            0.4,
            0.4,
            0.3,
            0.3,
            0.3,
            0.3,
            0.5,
            0.3,
            0.3,
            0.3,
            0.3,
            0.3,
            0.4,
            0.5,
            0.3,
            0.4,
            0.3,
            0.4,
            0.5,
            0.3,
            0.3,
            0.3,
            0.5,
            0.5,
            0.3,
            0.4,
            0.3,
            0.3,
            0.5,
            0.4,
            0.3,
            0.4,
            0.5,
            0.3,
            0.3,
            0.5,
            0.4,
            0.3,
            0.4,
            0.5,
            0.3,
            0.3,
            0.4,
            0.3,
            0.3,
            0.4,
            0.4,
            0.3,
            0.3,
            0.3,
            0.5,
            0.4,
            0.4,
            0.3,
            0.4,
            0.3,
            0.5,
            0.5,
            0.3,
            0.5,
            0.5,
            0.3,
            0.5,
            0.3,
            0.3,
            0.3,
            0.3
           ]
          },
          {
           "label": "num_modules",
           "values": [
            6,
            6,
            6,
            6,
            6,
            6,
            6,
            6,
            6,
            6,
            6,
            6,
            6,
            6,
            6,
            6,
            6,
            6,
            6,
            6,
            6,
            6,
            6,
            6,
            6,
            6,
            6,
            6,
            6,
            6,
            6,
            6,
            6,
            6,
            6,
            6,
            6,
            6,
            6,
            6,
            6,
            6,
            6,
            6,
            6,
            6,
            6,
            6,
            6,
            6,
            6,
            6,
            6,
            6,
            6,
            6,
            6,
            6,
            6,
            6,
            6,
            6,
            6,
            6,
            6,
            6,
            6,
            6,
            6,
            6,
            6,
            6,
            6,
            6,
            6,
            6,
            6,
            6,
            6,
            6,
            6,
            6,
            6,
            6,
            6,
            6,
            6,
            6,
            6,
            6,
            6,
            6,
            6,
            6,
            6,
            6,
            6,
            6,
            6,
            6
           ]
          },
          {
           "label": "learning_rate",
           "values": [
            0.016994314341916783,
            0.007353743257755088,
            0.008623328895421483,
            0.014403827781549037,
            0.01959990513862892,
            0.009231428647394244,
            0.0016489382726256618,
            0.015118005721890686,
            0.011767006458426335,
            0.02509286471477065,
            0.008487106192756735,
            0.018237283197099944,
            0.007477352592304776,
            0.002727898690139999,
            0.021468927014912563,
            0.006774244325137839,
            0.010580341236781494,
            0.0024201490437008996,
            0.010677681573748822,
            0.009167297338881485,
            0.007482354603082449,
            0.012285946610170939,
            0.008178807809262835,
            0.03820617220097451,
            0.007333961602357029,
            0.004392692460172,
            0.020818537131656444,
            0.011115813565434469,
            0.025907025091426093,
            0.0035219713221564066,
            0.03158529211795736,
            0.003933554819596787,
            0.028787379671946518,
            0.005407203898565906,
            0.006969308200841124,
            0.03226374031214796,
            0.001895040478616574,
            0.028893819174915212,
            0.006659653782246604,
            0.013135519472862192,
            0.0029911043100217883,
            0.014226774276169585,
            0.009828975628323525,
            0.0035551380944409653,
            0.029060135135263284,
            0.011003413157039633,
            0.005904884441989474,
            0.022632601648129656,
            0.0014831594193217303,
            0.004324916667062039,
            0.04313052146541754,
            0.0032802415672835055,
            0.009932907815268186,
            0.018905791761237092,
            0.001998189982342605,
            0.022788285781104863,
            0.002961668993293462,
            0.013667268667906421,
            0.015519312747984413,
            0.010211537056197612,
            0.012592170949071066,
            0.005021108002641634,
            0.007488430532190667,
            0.004727448757993782,
            0.004260946663274094,
            0.025319058761993862,
            0.0088750649567847,
            0.0013560091781610426,
            0.0018728083035010584,
            0.008161912680067423,
            0.005013274926307436,
            0.0038775149154658263,
            0.002292102713214055,
            0.0025000567108487363,
            0.014317046538645902,
            0.003495212365001692,
            0.04365983904812012,
            0.006286216176030321,
            0.009872110892126992,
            0.005607970130909863,
            0.054234371712040014,
            0.015407670806620697,
            0.012022254322120904,
            0.03939079541636632,
            0.016739399295779517,
            0.005639884399956909,
            0.0013413913073345581,
            0.018258091894761134,
            0.016699341066703823,
            0.0061515103073698394,
            0.00104067242841939,
            0.016381225236204337,
            0.006666006228732761,
            0.0026331877714833867,
            0.05219130481051746,
            0.005153903159689557,
            0.035888848506564756,
            0.04899758395043023,
            0.017373918854346103,
            0.0010421041361813618
           ]
          },
          {
           "label": "spatial_dropout",
           "values": [
            0.3,
            0.4,
            0.3,
            0.3,
            0.3,
            0.3,
            0.4,
            0.3,
            0.4,
            0.4,
            0.5,
            0.3,
            0.4,
            0.4,
            0.4,
            0.4,
            0.3,
            0.3,
            0.4,
            0.3,
            0.4,
            0.4,
            0.3,
            0.3,
            0.4,
            0.4,
            0.4,
            0.3,
            0.3,
            0.4,
            0.3,
            0.3,
            0.3,
            0.3,
            0.5,
            0.4,
            0.4,
            0.3,
            0.4,
            0.3,
            0.3,
            0.4,
            0.4,
            0.3,
            0.3,
            0.3,
            0.3,
            0.3,
            0.5,
            0.4,
            0.5,
            0.3,
            0.3,
            0.4,
            0.4,
            0.3,
            0.3,
            0.3,
            0.5,
            0.3,
            0.3,
            0.3,
            0.5,
            0.4,
            0.5,
            0.3,
            0.4,
            0.3,
            0.4,
            0.5,
            0.3,
            0.5,
            0.3,
            0.4,
            0.4,
            0.3,
            0.4,
            0.3,
            0.5,
            0.5,
            0.4,
            0.3,
            0.3,
            0.3,
            0.5,
            0.5,
            0.5,
            0.5,
            0.4,
            0.3,
            0.4,
            0.3,
            0.5,
            0.4,
            0.5,
            0.3,
            0.4,
            0.4,
            0.3,
            0.4
           ]
          },
          {
           "label": "f1_val",
           "values": [
            0.8108985424041748,
            0.8096091747283936,
            0.8075584173202515,
            0.8074972033500671,
            0.8069762587547302,
            0.8068282604217529,
            0.8066773414611816,
            0.8060795664787292,
            0.8057404160499573,
            0.8056666851043701,
            0.8055126667022705,
            0.8054414391517639,
            0.8052417039871216,
            0.8052156567573547,
            0.8048938512802124,
            0.8045352697372437,
            0.804340660572052,
            0.8040769100189209,
            0.8040223717689514,
            0.8038855195045471,
            0.8037602305412292,
            0.8034815788269043,
            0.8033672571182251,
            0.8032639026641846,
            0.8032362461090088,
            0.8030941486358643,
            0.8025274872779846,
            0.8024288415908813,
            0.8020825386047363,
            0.8020586967468262,
            0.8019893765449524,
            0.8019635677337646,
            0.8016581535339355,
            0.8016190528869629,
            0.801612377166748,
            0.8014247417449951,
            0.8013877868652344,
            0.8012651205062866,
            0.801209568977356,
            0.8011444211006165,
            0.8010373115539551,
            0.8010327219963074,
            0.8010168075561523,
            0.8008749485015869,
            0.8007436990737915,
            0.8006666898727417,
            0.800647497177124,
            0.80049729347229,
            0.800354540348053,
            0.8002240061759949,
            0.800126314163208,
            0.7998882532119751,
            0.7997821569442749,
            0.7993945479393005,
            0.7992136478424072,
            0.799145519733429,
            0.7989516854286194,
            0.798795223236084,
            0.798687219619751,
            0.798634946346283,
            0.7985162138938904,
            0.7984097003936768,
            0.7983007431030273,
            0.7982115149497986,
            0.7981169819831848,
            0.7980873584747314,
            0.7980395555496216,
            0.7979779243469238,
            0.7979475259780884,
            0.7979081273078918,
            0.7978986501693726,
            0.7977830767631531,
            0.7977713942527771,
            0.7976670265197754,
            0.7976362109184265,
            0.7975008487701416,
            0.797461748123169,
            0.797282338142395,
            0.7972059845924377,
            0.7971397042274475,
            0.7970354557037354,
            0.7969790101051331,
            0.796766996383667,
            0.7965373992919922,
            0.7962825298309326,
            0.7962077856063843,
            0.7959268093109131,
            0.7958109974861145,
            0.7953871488571167,
            0.7952673435211182,
            0.7949904799461365,
            0.7948399782180786,
            0.7947831153869629,
            0.7947733998298645,
            0.7936182618141174,
            0.7933973073959351,
            0.7919341921806335,
            0.7914493083953857,
            0.7885894179344177,
            0.7883073091506958
           ]
          }
         ],
         "domain": {
          "x": [
           0,
           1
          ],
          "y": [
           0,
           1
          ]
         },
         "line": {
          "color": [
           0.8108985424041748,
           0.8096091747283936,
           0.8075584173202515,
           0.8074972033500671,
           0.8069762587547302,
           0.8068282604217529,
           0.8066773414611816,
           0.8060795664787292,
           0.8057404160499573,
           0.8056666851043701,
           0.8055126667022705,
           0.8054414391517639,
           0.8052417039871216,
           0.8052156567573547,
           0.8048938512802124,
           0.8045352697372437,
           0.804340660572052,
           0.8040769100189209,
           0.8040223717689514,
           0.8038855195045471,
           0.8037602305412292,
           0.8034815788269043,
           0.8033672571182251,
           0.8032639026641846,
           0.8032362461090088,
           0.8030941486358643,
           0.8025274872779846,
           0.8024288415908813,
           0.8020825386047363,
           0.8020586967468262,
           0.8019893765449524,
           0.8019635677337646,
           0.8016581535339355,
           0.8016190528869629,
           0.801612377166748,
           0.8014247417449951,
           0.8013877868652344,
           0.8012651205062866,
           0.801209568977356,
           0.8011444211006165,
           0.8010373115539551,
           0.8010327219963074,
           0.8010168075561523,
           0.8008749485015869,
           0.8007436990737915,
           0.8006666898727417,
           0.800647497177124,
           0.80049729347229,
           0.800354540348053,
           0.8002240061759949,
           0.800126314163208,
           0.7998882532119751,
           0.7997821569442749,
           0.7993945479393005,
           0.7992136478424072,
           0.799145519733429,
           0.7989516854286194,
           0.798795223236084,
           0.798687219619751,
           0.798634946346283,
           0.7985162138938904,
           0.7984097003936768,
           0.7983007431030273,
           0.7982115149497986,
           0.7981169819831848,
           0.7980873584747314,
           0.7980395555496216,
           0.7979779243469238,
           0.7979475259780884,
           0.7979081273078918,
           0.7978986501693726,
           0.7977830767631531,
           0.7977713942527771,
           0.7976670265197754,
           0.7976362109184265,
           0.7975008487701416,
           0.797461748123169,
           0.797282338142395,
           0.7972059845924377,
           0.7971397042274475,
           0.7970354557037354,
           0.7969790101051331,
           0.796766996383667,
           0.7965373992919922,
           0.7962825298309326,
           0.7962077856063843,
           0.7959268093109131,
           0.7958109974861145,
           0.7953871488571167,
           0.7952673435211182,
           0.7949904799461365,
           0.7948399782180786,
           0.7947831153869629,
           0.7947733998298645,
           0.7936182618141174,
           0.7933973073959351,
           0.7919341921806335,
           0.7914493083953857,
           0.7885894179344177,
           0.7883073091506958
          ],
          "coloraxis": "coloraxis"
         },
         "name": "",
         "type": "parcoords"
        }
       ],
       "layout": {
        "autosize": true,
        "coloraxis": {
         "colorbar": {
          "title": {
           "text": "f1_val"
          }
         },
         "colorscale": [
          [
           0,
           "rgb(165,0,38)"
          ],
          [
           0.1,
           "rgb(215,48,39)"
          ],
          [
           0.2,
           "rgb(244,109,67)"
          ],
          [
           0.3,
           "rgb(253,174,97)"
          ],
          [
           0.4,
           "rgb(254,224,139)"
          ],
          [
           0.5,
           "rgb(255,255,191)"
          ],
          [
           0.6,
           "rgb(217,239,139)"
          ],
          [
           0.7,
           "rgb(166,217,106)"
          ],
          [
           0.8,
           "rgb(102,189,99)"
          ],
          [
           0.9,
           "rgb(26,152,80)"
          ],
          [
           1,
           "rgb(0,104,55)"
          ]
         ]
        },
        "legend": {
         "tracegroupgap": 0
        },
        "margin": {
         "t": 60
        },
        "template": {
         "data": {
          "bar": [
           {
            "error_x": {
             "color": "#2a3f5f"
            },
            "error_y": {
             "color": "#2a3f5f"
            },
            "marker": {
             "line": {
              "color": "#E5ECF6",
              "width": 0.5
             }
            },
            "type": "bar"
           }
          ],
          "barpolar": [
           {
            "marker": {
             "line": {
              "color": "#E5ECF6",
              "width": 0.5
             }
            },
            "type": "barpolar"
           }
          ],
          "carpet": [
           {
            "aaxis": {
             "endlinecolor": "#2a3f5f",
             "gridcolor": "white",
             "linecolor": "white",
             "minorgridcolor": "white",
             "startlinecolor": "#2a3f5f"
            },
            "baxis": {
             "endlinecolor": "#2a3f5f",
             "gridcolor": "white",
             "linecolor": "white",
             "minorgridcolor": "white",
             "startlinecolor": "#2a3f5f"
            },
            "type": "carpet"
           }
          ],
          "choropleth": [
           {
            "colorbar": {
             "outlinewidth": 0,
             "ticks": ""
            },
            "type": "choropleth"
           }
          ],
          "contour": [
           {
            "colorbar": {
             "outlinewidth": 0,
             "ticks": ""
            },
            "colorscale": [
             [
              0,
              "#0d0887"
             ],
             [
              0.1111111111111111,
              "#46039f"
             ],
             [
              0.2222222222222222,
              "#7201a8"
             ],
             [
              0.3333333333333333,
              "#9c179e"
             ],
             [
              0.4444444444444444,
              "#bd3786"
             ],
             [
              0.5555555555555556,
              "#d8576b"
             ],
             [
              0.6666666666666666,
              "#ed7953"
             ],
             [
              0.7777777777777778,
              "#fb9f3a"
             ],
             [
              0.8888888888888888,
              "#fdca26"
             ],
             [
              1,
              "#f0f921"
             ]
            ],
            "type": "contour"
           }
          ],
          "contourcarpet": [
           {
            "colorbar": {
             "outlinewidth": 0,
             "ticks": ""
            },
            "type": "contourcarpet"
           }
          ],
          "heatmap": [
           {
            "colorbar": {
             "outlinewidth": 0,
             "ticks": ""
            },
            "colorscale": [
             [
              0,
              "#0d0887"
             ],
             [
              0.1111111111111111,
              "#46039f"
             ],
             [
              0.2222222222222222,
              "#7201a8"
             ],
             [
              0.3333333333333333,
              "#9c179e"
             ],
             [
              0.4444444444444444,
              "#bd3786"
             ],
             [
              0.5555555555555556,
              "#d8576b"
             ],
             [
              0.6666666666666666,
              "#ed7953"
             ],
             [
              0.7777777777777778,
              "#fb9f3a"
             ],
             [
              0.8888888888888888,
              "#fdca26"
             ],
             [
              1,
              "#f0f921"
             ]
            ],
            "type": "heatmap"
           }
          ],
          "heatmapgl": [
           {
            "colorbar": {
             "outlinewidth": 0,
             "ticks": ""
            },
            "colorscale": [
             [
              0,
              "#0d0887"
             ],
             [
              0.1111111111111111,
              "#46039f"
             ],
             [
              0.2222222222222222,
              "#7201a8"
             ],
             [
              0.3333333333333333,
              "#9c179e"
             ],
             [
              0.4444444444444444,
              "#bd3786"
             ],
             [
              0.5555555555555556,
              "#d8576b"
             ],
             [
              0.6666666666666666,
              "#ed7953"
             ],
             [
              0.7777777777777778,
              "#fb9f3a"
             ],
             [
              0.8888888888888888,
              "#fdca26"
             ],
             [
              1,
              "#f0f921"
             ]
            ],
            "type": "heatmapgl"
           }
          ],
          "histogram": [
           {
            "marker": {
             "colorbar": {
              "outlinewidth": 0,
              "ticks": ""
             }
            },
            "type": "histogram"
           }
          ],
          "histogram2d": [
           {
            "colorbar": {
             "outlinewidth": 0,
             "ticks": ""
            },
            "colorscale": [
             [
              0,
              "#0d0887"
             ],
             [
              0.1111111111111111,
              "#46039f"
             ],
             [
              0.2222222222222222,
              "#7201a8"
             ],
             [
              0.3333333333333333,
              "#9c179e"
             ],
             [
              0.4444444444444444,
              "#bd3786"
             ],
             [
              0.5555555555555556,
              "#d8576b"
             ],
             [
              0.6666666666666666,
              "#ed7953"
             ],
             [
              0.7777777777777778,
              "#fb9f3a"
             ],
             [
              0.8888888888888888,
              "#fdca26"
             ],
             [
              1,
              "#f0f921"
             ]
            ],
            "type": "histogram2d"
           }
          ],
          "histogram2dcontour": [
           {
            "colorbar": {
             "outlinewidth": 0,
             "ticks": ""
            },
            "colorscale": [
             [
              0,
              "#0d0887"
             ],
             [
              0.1111111111111111,
              "#46039f"
             ],
             [
              0.2222222222222222,
              "#7201a8"
             ],
             [
              0.3333333333333333,
              "#9c179e"
             ],
             [
              0.4444444444444444,
              "#bd3786"
             ],
             [
              0.5555555555555556,
              "#d8576b"
             ],
             [
              0.6666666666666666,
              "#ed7953"
             ],
             [
              0.7777777777777778,
              "#fb9f3a"
             ],
             [
              0.8888888888888888,
              "#fdca26"
             ],
             [
              1,
              "#f0f921"
             ]
            ],
            "type": "histogram2dcontour"
           }
          ],
          "mesh3d": [
           {
            "colorbar": {
             "outlinewidth": 0,
             "ticks": ""
            },
            "type": "mesh3d"
           }
          ],
          "parcoords": [
           {
            "line": {
             "colorbar": {
              "outlinewidth": 0,
              "ticks": ""
             }
            },
            "type": "parcoords"
           }
          ],
          "pie": [
           {
            "automargin": true,
            "type": "pie"
           }
          ],
          "scatter": [
           {
            "marker": {
             "colorbar": {
              "outlinewidth": 0,
              "ticks": ""
             }
            },
            "type": "scatter"
           }
          ],
          "scatter3d": [
           {
            "line": {
             "colorbar": {
              "outlinewidth": 0,
              "ticks": ""
             }
            },
            "marker": {
             "colorbar": {
              "outlinewidth": 0,
              "ticks": ""
             }
            },
            "type": "scatter3d"
           }
          ],
          "scattercarpet": [
           {
            "marker": {
             "colorbar": {
              "outlinewidth": 0,
              "ticks": ""
             }
            },
            "type": "scattercarpet"
           }
          ],
          "scattergeo": [
           {
            "marker": {
             "colorbar": {
              "outlinewidth": 0,
              "ticks": ""
             }
            },
            "type": "scattergeo"
           }
          ],
          "scattergl": [
           {
            "marker": {
             "colorbar": {
              "outlinewidth": 0,
              "ticks": ""
             }
            },
            "type": "scattergl"
           }
          ],
          "scattermapbox": [
           {
            "marker": {
             "colorbar": {
              "outlinewidth": 0,
              "ticks": ""
             }
            },
            "type": "scattermapbox"
           }
          ],
          "scatterpolar": [
           {
            "marker": {
             "colorbar": {
              "outlinewidth": 0,
              "ticks": ""
             }
            },
            "type": "scatterpolar"
           }
          ],
          "scatterpolargl": [
           {
            "marker": {
             "colorbar": {
              "outlinewidth": 0,
              "ticks": ""
             }
            },
            "type": "scatterpolargl"
           }
          ],
          "scatterternary": [
           {
            "marker": {
             "colorbar": {
              "outlinewidth": 0,
              "ticks": ""
             }
            },
            "type": "scatterternary"
           }
          ],
          "surface": [
           {
            "colorbar": {
             "outlinewidth": 0,
             "ticks": ""
            },
            "colorscale": [
             [
              0,
              "#0d0887"
             ],
             [
              0.1111111111111111,
              "#46039f"
             ],
             [
              0.2222222222222222,
              "#7201a8"
             ],
             [
              0.3333333333333333,
              "#9c179e"
             ],
             [
              0.4444444444444444,
              "#bd3786"
             ],
             [
              0.5555555555555556,
              "#d8576b"
             ],
             [
              0.6666666666666666,
              "#ed7953"
             ],
             [
              0.7777777777777778,
              "#fb9f3a"
             ],
             [
              0.8888888888888888,
              "#fdca26"
             ],
             [
              1,
              "#f0f921"
             ]
            ],
            "type": "surface"
           }
          ],
          "table": [
           {
            "cells": {
             "fill": {
              "color": "#EBF0F8"
             },
             "line": {
              "color": "white"
             }
            },
            "header": {
             "fill": {
              "color": "#C8D4E3"
             },
             "line": {
              "color": "white"
             }
            },
            "type": "table"
           }
          ]
         },
         "layout": {
          "annotationdefaults": {
           "arrowcolor": "#2a3f5f",
           "arrowhead": 0,
           "arrowwidth": 1
          },
          "coloraxis": {
           "colorbar": {
            "outlinewidth": 0,
            "ticks": ""
           }
          },
          "colorscale": {
           "diverging": [
            [
             0,
             "#8e0152"
            ],
            [
             0.1,
             "#c51b7d"
            ],
            [
             0.2,
             "#de77ae"
            ],
            [
             0.3,
             "#f1b6da"
            ],
            [
             0.4,
             "#fde0ef"
            ],
            [
             0.5,
             "#f7f7f7"
            ],
            [
             0.6,
             "#e6f5d0"
            ],
            [
             0.7,
             "#b8e186"
            ],
            [
             0.8,
             "#7fbc41"
            ],
            [
             0.9,
             "#4d9221"
            ],
            [
             1,
             "#276419"
            ]
           ],
           "sequential": [
            [
             0,
             "#0d0887"
            ],
            [
             0.1111111111111111,
             "#46039f"
            ],
            [
             0.2222222222222222,
             "#7201a8"
            ],
            [
             0.3333333333333333,
             "#9c179e"
            ],
            [
             0.4444444444444444,
             "#bd3786"
            ],
            [
             0.5555555555555556,
             "#d8576b"
            ],
            [
             0.6666666666666666,
             "#ed7953"
            ],
            [
             0.7777777777777778,
             "#fb9f3a"
            ],
            [
             0.8888888888888888,
             "#fdca26"
            ],
            [
             1,
             "#f0f921"
            ]
           ],
           "sequentialminus": [
            [
             0,
             "#0d0887"
            ],
            [
             0.1111111111111111,
             "#46039f"
            ],
            [
             0.2222222222222222,
             "#7201a8"
            ],
            [
             0.3333333333333333,
             "#9c179e"
            ],
            [
             0.4444444444444444,
             "#bd3786"
            ],
            [
             0.5555555555555556,
             "#d8576b"
            ],
            [
             0.6666666666666666,
             "#ed7953"
            ],
            [
             0.7777777777777778,
             "#fb9f3a"
            ],
            [
             0.8888888888888888,
             "#fdca26"
            ],
            [
             1,
             "#f0f921"
            ]
           ]
          },
          "colorway": [
           "#636efa",
           "#EF553B",
           "#00cc96",
           "#ab63fa",
           "#FFA15A",
           "#19d3f3",
           "#FF6692",
           "#B6E880",
           "#FF97FF",
           "#FECB52"
          ],
          "font": {
           "color": "#2a3f5f"
          },
          "geo": {
           "bgcolor": "white",
           "lakecolor": "white",
           "landcolor": "#E5ECF6",
           "showlakes": true,
           "showland": true,
           "subunitcolor": "white"
          },
          "hoverlabel": {
           "align": "left"
          },
          "hovermode": "closest",
          "mapbox": {
           "style": "light"
          },
          "paper_bgcolor": "white",
          "plot_bgcolor": "#E5ECF6",
          "polar": {
           "angularaxis": {
            "gridcolor": "white",
            "linecolor": "white",
            "ticks": ""
           },
           "bgcolor": "#E5ECF6",
           "radialaxis": {
            "gridcolor": "white",
            "linecolor": "white",
            "ticks": ""
           }
          },
          "scene": {
           "xaxis": {
            "backgroundcolor": "#E5ECF6",
            "gridcolor": "white",
            "gridwidth": 2,
            "linecolor": "white",
            "showbackground": true,
            "ticks": "",
            "zerolinecolor": "white"
           },
           "yaxis": {
            "backgroundcolor": "#E5ECF6",
            "gridcolor": "white",
            "gridwidth": 2,
            "linecolor": "white",
            "showbackground": true,
            "ticks": "",
            "zerolinecolor": "white"
           },
           "zaxis": {
            "backgroundcolor": "#E5ECF6",
            "gridcolor": "white",
            "gridwidth": 2,
            "linecolor": "white",
            "showbackground": true,
            "ticks": "",
            "zerolinecolor": "white"
           }
          },
          "shapedefaults": {
           "line": {
            "color": "#2a3f5f"
           }
          },
          "ternary": {
           "aaxis": {
            "gridcolor": "white",
            "linecolor": "white",
            "ticks": ""
           },
           "baxis": {
            "gridcolor": "white",
            "linecolor": "white",
            "ticks": ""
           },
           "bgcolor": "#E5ECF6",
           "caxis": {
            "gridcolor": "white",
            "linecolor": "white",
            "ticks": ""
           }
          },
          "title": {
           "x": 0.05
          },
          "xaxis": {
           "automargin": true,
           "gridcolor": "white",
           "linecolor": "white",
           "ticks": "",
           "title": {
            "standoff": 15
           },
           "zerolinecolor": "white",
           "zerolinewidth": 2
          },
          "yaxis": {
           "automargin": true,
           "gridcolor": "white",
           "linecolor": "white",
           "ticks": "",
           "title": {
            "standoff": 15
           },
           "zerolinecolor": "white",
           "zerolinewidth": 2
          }
         }
        }
       }
      },
      "image/png": "[encoded data removed]",
      "text/html": [
       "<div>\n",
       "        \n",
       "        \n",
       "            <div id=\"70dee918-47b0-4acb-bcc3-fe8d7a8fa60e\" class=\"plotly-graph-div\" style=\"height:525px; width:100%;\"></div>\n",
       "            <script type=\"text/javascript\">\n",
       "                require([\"plotly\"], function(Plotly) {\n",
       "                    window.PLOTLYENV=window.PLOTLYENV || {};\n",
       "                    \n",
       "                if (document.getElementById(\"70dee918-47b0-4acb-bcc3-fe8d7a8fa60e\")) {\n",
       "                    Plotly.newPlot(\n",
       "                        '70dee918-47b0-4acb-bcc3-fe8d7a8fa60e',\n",
       "                        [{\"dimensions\": [{\"label\": \"batch_size\", \"values\": [512, 512, 512, 512, 512, 512, 512, 512, 512, 512, 512, 512, 512, 512, 512, 512, 512, 512, 512, 512, 512, 512, 512, 512, 512, 512, 512, 512, 512, 512, 512, 512, 512, 512, 512, 512, 512, 512, 512, 512, 512, 512, 512, 512, 512, 512, 512, 512, 512, 512, 512, 512, 512, 512, 512, 512, 512, 512, 512, 512, 512, 512, 512, 512, 512, 512, 512, 512, 512, 512, 512, 512, 512, 512, 512, 512, 512, 512, 512, 512, 512, 512, 512, 512, 512, 512, 512, 512, 512, 512, 512, 512, 512, 512, 512, 512, 512, 512, 512, 512]}, {\"label\": \"dropout\", \"values\": [0.3, 0.3, 0.3, 0.3, 0.3, 0.3, 0.3, 0.3, 0.3, 0.3, 0.3, 0.3, 0.3, 0.3, 0.5, 0.3, 0.3, 0.3, 0.3, 0.5, 0.3, 0.3, 0.3, 0.3, 0.4, 0.3, 0.3, 0.3, 0.3, 0.3, 0.3, 0.3, 0.3, 0.4, 0.4, 0.3, 0.3, 0.3, 0.3, 0.5, 0.3, 0.3, 0.3, 0.3, 0.3, 0.4, 0.5, 0.3, 0.4, 0.3, 0.4, 0.5, 0.3, 0.3, 0.3, 0.5, 0.5, 0.3, 0.4, 0.3, 0.3, 0.5, 0.4, 0.3, 0.4, 0.5, 0.3, 0.3, 0.5, 0.4, 0.3, 0.4, 0.5, 0.3, 0.3, 0.4, 0.3, 0.3, 0.4, 0.4, 0.3, 0.3, 0.3, 0.5, 0.4, 0.4, 0.3, 0.4, 0.3, 0.5, 0.5, 0.3, 0.5, 0.5, 0.3, 0.5, 0.3, 0.3, 0.3, 0.3]}, {\"label\": \"num_modules\", \"values\": [6, 6, 6, 6, 6, 6, 6, 6, 6, 6, 6, 6, 6, 6, 6, 6, 6, 6, 6, 6, 6, 6, 6, 6, 6, 6, 6, 6, 6, 6, 6, 6, 6, 6, 6, 6, 6, 6, 6, 6, 6, 6, 6, 6, 6, 6, 6, 6, 6, 6, 6, 6, 6, 6, 6, 6, 6, 6, 6, 6, 6, 6, 6, 6, 6, 6, 6, 6, 6, 6, 6, 6, 6, 6, 6, 6, 6, 6, 6, 6, 6, 6, 6, 6, 6, 6, 6, 6, 6, 6, 6, 6, 6, 6, 6, 6, 6, 6, 6, 6]}, {\"label\": \"learning_rate\", \"values\": [0.016994314341916783, 0.007353743257755088, 0.008623328895421483, 0.014403827781549037, 0.01959990513862892, 0.009231428647394244, 0.0016489382726256618, 0.015118005721890686, 0.011767006458426335, 0.02509286471477065, 0.008487106192756735, 0.018237283197099944, 0.007477352592304776, 0.002727898690139999, 0.021468927014912563, 0.006774244325137839, 0.010580341236781494, 0.0024201490437008996, 0.010677681573748822, 0.009167297338881485, 0.007482354603082449, 0.012285946610170939, 0.008178807809262835, 0.03820617220097451, 0.007333961602357029, 0.004392692460172, 0.020818537131656444, 0.011115813565434469, 0.025907025091426093, 0.0035219713221564066, 0.03158529211795736, 0.003933554819596787, 0.028787379671946518, 0.005407203898565906, 0.006969308200841124, 0.03226374031214796, 0.001895040478616574, 0.028893819174915212, 0.006659653782246604, 0.013135519472862192, 0.0029911043100217883, 0.014226774276169585, 0.009828975628323525, 0.0035551380944409653, 0.029060135135263284, 0.011003413157039633, 0.005904884441989474, 0.022632601648129656, 0.0014831594193217303, 0.004324916667062039, 0.04313052146541754, 0.0032802415672835055, 0.009932907815268186, 0.018905791761237092, 0.001998189982342605, 0.022788285781104863, 0.002961668993293462, 0.013667268667906421, 0.015519312747984413, 0.010211537056197612, 0.012592170949071066, 0.005021108002641634, 0.007488430532190667, 0.004727448757993782, 0.004260946663274094, 0.025319058761993862, 0.0088750649567847, 0.0013560091781610426, 0.0018728083035010584, 0.008161912680067423, 0.005013274926307436, 0.0038775149154658263, 0.002292102713214055, 0.0025000567108487363, 0.014317046538645902, 0.003495212365001692, 0.04365983904812012, 0.006286216176030321, 0.009872110892126992, 0.005607970130909863, 0.054234371712040014, 0.015407670806620697, 0.012022254322120904, 0.03939079541636632, 0.016739399295779517, 0.005639884399956909, 0.0013413913073345581, 0.018258091894761134, 0.016699341066703823, 0.0061515103073698394, 0.00104067242841939, 0.016381225236204337, 0.006666006228732761, 0.0026331877714833867, 0.05219130481051746, 0.005153903159689557, 0.035888848506564756, 0.04899758395043023, 0.017373918854346103, 0.0010421041361813618]}, {\"label\": \"spatial_dropout\", \"values\": [0.3, 0.4, 0.3, 0.3, 0.3, 0.3, 0.4, 0.3, 0.4, 0.4, 0.5, 0.3, 0.4, 0.4, 0.4, 0.4, 0.3, 0.3, 0.4, 0.3, 0.4, 0.4, 0.3, 0.3, 0.4, 0.4, 0.4, 0.3, 0.3, 0.4, 0.3, 0.3, 0.3, 0.3, 0.5, 0.4, 0.4, 0.3, 0.4, 0.3, 0.3, 0.4, 0.4, 0.3, 0.3, 0.3, 0.3, 0.3, 0.5, 0.4, 0.5, 0.3, 0.3, 0.4, 0.4, 0.3, 0.3, 0.3, 0.5, 0.3, 0.3, 0.3, 0.5, 0.4, 0.5, 0.3, 0.4, 0.3, 0.4, 0.5, 0.3, 0.5, 0.3, 0.4, 0.4, 0.3, 0.4, 0.3, 0.5, 0.5, 0.4, 0.3, 0.3, 0.3, 0.5, 0.5, 0.5, 0.5, 0.4, 0.3, 0.4, 0.3, 0.5, 0.4, 0.5, 0.3, 0.4, 0.4, 0.3, 0.4]}, {\"label\": \"f1_val\", \"values\": [0.8108985424041748, 0.8096091747283936, 0.8075584173202515, 0.8074972033500671, 0.8069762587547302, 0.8068282604217529, 0.8066773414611816, 0.8060795664787292, 0.8057404160499573, 0.8056666851043701, 0.8055126667022705, 0.8054414391517639, 0.8052417039871216, 0.8052156567573547, 0.8048938512802124, 0.8045352697372437, 0.804340660572052, 0.8040769100189209, 0.8040223717689514, 0.8038855195045471, 0.8037602305412292, 0.8034815788269043, 0.8033672571182251, 0.8032639026641846, 0.8032362461090088, 0.8030941486358643, 0.8025274872779846, 0.8024288415908813, 0.8020825386047363, 0.8020586967468262, 0.8019893765449524, 0.8019635677337646, 0.8016581535339355, 0.8016190528869629, 0.801612377166748, 0.8014247417449951, 0.8013877868652344, 0.8012651205062866, 0.801209568977356, 0.8011444211006165, 0.8010373115539551, 0.8010327219963074, 0.8010168075561523, 0.8008749485015869, 0.8007436990737915, 0.8006666898727417, 0.800647497177124, 0.80049729347229, 0.800354540348053, 0.8002240061759949, 0.800126314163208, 0.7998882532119751, 0.7997821569442749, 0.7993945479393005, 0.7992136478424072, 0.799145519733429, 0.7989516854286194, 0.798795223236084, 0.798687219619751, 0.798634946346283, 0.7985162138938904, 0.7984097003936768, 0.7983007431030273, 0.7982115149497986, 0.7981169819831848, 0.7980873584747314, 0.7980395555496216, 0.7979779243469238, 0.7979475259780884, 0.7979081273078918, 0.7978986501693726, 0.7977830767631531, 0.7977713942527771, 0.7976670265197754, 0.7976362109184265, 0.7975008487701416, 0.797461748123169, 0.797282338142395, 0.7972059845924377, 0.7971397042274475, 0.7970354557037354, 0.7969790101051331, 0.796766996383667, 0.7965373992919922, 0.7962825298309326, 0.7962077856063843, 0.7959268093109131, 0.7958109974861145, 0.7953871488571167, 0.7952673435211182, 0.7949904799461365, 0.7948399782180786, 0.7947831153869629, 0.7947733998298645, 0.7936182618141174, 0.7933973073959351, 0.7919341921806335, 0.7914493083953857, 0.7885894179344177, 0.7883073091506958]}], \"domain\": {\"x\": [0.0, 1.0], \"y\": [0.0, 1.0]}, \"line\": {\"color\": [0.8108985424041748, 0.8096091747283936, 0.8075584173202515, 0.8074972033500671, 0.8069762587547302, 0.8068282604217529, 0.8066773414611816, 0.8060795664787292, 0.8057404160499573, 0.8056666851043701, 0.8055126667022705, 0.8054414391517639, 0.8052417039871216, 0.8052156567573547, 0.8048938512802124, 0.8045352697372437, 0.804340660572052, 0.8040769100189209, 0.8040223717689514, 0.8038855195045471, 0.8037602305412292, 0.8034815788269043, 0.8033672571182251, 0.8032639026641846, 0.8032362461090088, 0.8030941486358643, 0.8025274872779846, 0.8024288415908813, 0.8020825386047363, 0.8020586967468262, 0.8019893765449524, 0.8019635677337646, 0.8016581535339355, 0.8016190528869629, 0.801612377166748, 0.8014247417449951, 0.8013877868652344, 0.8012651205062866, 0.801209568977356, 0.8011444211006165, 0.8010373115539551, 0.8010327219963074, 0.8010168075561523, 0.8008749485015869, 0.8007436990737915, 0.8006666898727417, 0.800647497177124, 0.80049729347229, 0.800354540348053, 0.8002240061759949, 0.800126314163208, 0.7998882532119751, 0.7997821569442749, 0.7993945479393005, 0.7992136478424072, 0.799145519733429, 0.7989516854286194, 0.798795223236084, 0.798687219619751, 0.798634946346283, 0.7985162138938904, 0.7984097003936768, 0.7983007431030273, 0.7982115149497986, 0.7981169819831848, 0.7980873584747314, 0.7980395555496216, 0.7979779243469238, 0.7979475259780884, 0.7979081273078918, 0.7978986501693726, 0.7977830767631531, 0.7977713942527771, 0.7976670265197754, 0.7976362109184265, 0.7975008487701416, 0.797461748123169, 0.797282338142395, 0.7972059845924377, 0.7971397042274475, 0.7970354557037354, 0.7969790101051331, 0.796766996383667, 0.7965373992919922, 0.7962825298309326, 0.7962077856063843, 0.7959268093109131, 0.7958109974861145, 0.7953871488571167, 0.7952673435211182, 0.7949904799461365, 0.7948399782180786, 0.7947831153869629, 0.7947733998298645, 0.7936182618141174, 0.7933973073959351, 0.7919341921806335, 0.7914493083953857, 0.7885894179344177, 0.7883073091506958], \"coloraxis\": \"coloraxis\"}, \"name\": \"\", \"type\": \"parcoords\"}],\n",
       "                        {\"coloraxis\": {\"colorbar\": {\"title\": {\"text\": \"f1_val\"}}, \"colorscale\": [[0.0, \"rgb(165,0,38)\"], [0.1, \"rgb(215,48,39)\"], [0.2, \"rgb(244,109,67)\"], [0.3, \"rgb(253,174,97)\"], [0.4, \"rgb(254,224,139)\"], [0.5, \"rgb(255,255,191)\"], [0.6, \"rgb(217,239,139)\"], [0.7, \"rgb(166,217,106)\"], [0.8, \"rgb(102,189,99)\"], [0.9, \"rgb(26,152,80)\"], [1.0, \"rgb(0,104,55)\"]]}, \"legend\": {\"tracegroupgap\": 0}, \"margin\": {\"t\": 60}, \"template\": {\"data\": {\"bar\": [{\"error_x\": {\"color\": \"#2a3f5f\"}, \"error_y\": {\"color\": \"#2a3f5f\"}, \"marker\": {\"line\": {\"color\": \"#E5ECF6\", \"width\": 0.5}}, \"type\": \"bar\"}], \"barpolar\": [{\"marker\": {\"line\": {\"color\": \"#E5ECF6\", \"width\": 0.5}}, \"type\": \"barpolar\"}], \"carpet\": [{\"aaxis\": {\"endlinecolor\": \"#2a3f5f\", \"gridcolor\": \"white\", \"linecolor\": \"white\", \"minorgridcolor\": \"white\", \"startlinecolor\": \"#2a3f5f\"}, \"baxis\": {\"endlinecolor\": \"#2a3f5f\", \"gridcolor\": \"white\", \"linecolor\": \"white\", \"minorgridcolor\": \"white\", \"startlinecolor\": \"#2a3f5f\"}, \"type\": \"carpet\"}], \"choropleth\": [{\"colorbar\": {\"outlinewidth\": 0, \"ticks\": \"\"}, \"type\": \"choropleth\"}], \"contour\": [{\"colorbar\": {\"outlinewidth\": 0, \"ticks\": \"\"}, \"colorscale\": [[0.0, \"#0d0887\"], [0.1111111111111111, \"#46039f\"], [0.2222222222222222, \"#7201a8\"], [0.3333333333333333, \"#9c179e\"], [0.4444444444444444, \"#bd3786\"], [0.5555555555555556, \"#d8576b\"], [0.6666666666666666, \"#ed7953\"], [0.7777777777777778, \"#fb9f3a\"], [0.8888888888888888, \"#fdca26\"], [1.0, \"#f0f921\"]], \"type\": \"contour\"}], \"contourcarpet\": [{\"colorbar\": {\"outlinewidth\": 0, \"ticks\": \"\"}, \"type\": \"contourcarpet\"}], \"heatmap\": [{\"colorbar\": {\"outlinewidth\": 0, \"ticks\": \"\"}, \"colorscale\": [[0.0, \"#0d0887\"], [0.1111111111111111, \"#46039f\"], [0.2222222222222222, \"#7201a8\"], [0.3333333333333333, \"#9c179e\"], [0.4444444444444444, \"#bd3786\"], [0.5555555555555556, \"#d8576b\"], [0.6666666666666666, \"#ed7953\"], [0.7777777777777778, \"#fb9f3a\"], [0.8888888888888888, \"#fdca26\"], [1.0, \"#f0f921\"]], \"type\": \"heatmap\"}], \"heatmapgl\": [{\"colorbar\": {\"outlinewidth\": 0, \"ticks\": \"\"}, \"colorscale\": [[0.0, \"#0d0887\"], [0.1111111111111111, \"#46039f\"], [0.2222222222222222, \"#7201a8\"], [0.3333333333333333, \"#9c179e\"], [0.4444444444444444, \"#bd3786\"], [0.5555555555555556, \"#d8576b\"], [0.6666666666666666, \"#ed7953\"], [0.7777777777777778, \"#fb9f3a\"], [0.8888888888888888, \"#fdca26\"], [1.0, \"#f0f921\"]], \"type\": \"heatmapgl\"}], \"histogram\": [{\"marker\": {\"colorbar\": {\"outlinewidth\": 0, \"ticks\": \"\"}}, \"type\": \"histogram\"}], \"histogram2d\": [{\"colorbar\": {\"outlinewidth\": 0, \"ticks\": \"\"}, \"colorscale\": [[0.0, \"#0d0887\"], [0.1111111111111111, \"#46039f\"], [0.2222222222222222, \"#7201a8\"], [0.3333333333333333, \"#9c179e\"], [0.4444444444444444, \"#bd3786\"], [0.5555555555555556, \"#d8576b\"], [0.6666666666666666, \"#ed7953\"], [0.7777777777777778, \"#fb9f3a\"], [0.8888888888888888, \"#fdca26\"], [1.0, \"#f0f921\"]], \"type\": \"histogram2d\"}], \"histogram2dcontour\": [{\"colorbar\": {\"outlinewidth\": 0, \"ticks\": \"\"}, \"colorscale\": [[0.0, \"#0d0887\"], [0.1111111111111111, \"#46039f\"], [0.2222222222222222, \"#7201a8\"], [0.3333333333333333, \"#9c179e\"], [0.4444444444444444, \"#bd3786\"], [0.5555555555555556, \"#d8576b\"], [0.6666666666666666, \"#ed7953\"], [0.7777777777777778, \"#fb9f3a\"], [0.8888888888888888, \"#fdca26\"], [1.0, \"#f0f921\"]], \"type\": \"histogram2dcontour\"}], \"mesh3d\": [{\"colorbar\": {\"outlinewidth\": 0, \"ticks\": \"\"}, \"type\": \"mesh3d\"}], \"parcoords\": [{\"line\": {\"colorbar\": {\"outlinewidth\": 0, \"ticks\": \"\"}}, \"type\": \"parcoords\"}], \"pie\": [{\"automargin\": true, \"type\": \"pie\"}], \"scatter\": [{\"marker\": {\"colorbar\": {\"outlinewidth\": 0, \"ticks\": \"\"}}, \"type\": \"scatter\"}], \"scatter3d\": [{\"line\": {\"colorbar\": {\"outlinewidth\": 0, \"ticks\": \"\"}}, \"marker\": {\"colorbar\": {\"outlinewidth\": 0, \"ticks\": \"\"}}, \"type\": \"scatter3d\"}], \"scattercarpet\": [{\"marker\": {\"colorbar\": {\"outlinewidth\": 0, \"ticks\": \"\"}}, \"type\": \"scattercarpet\"}], \"scattergeo\": [{\"marker\": {\"colorbar\": {\"outlinewidth\": 0, \"ticks\": \"\"}}, \"type\": \"scattergeo\"}], \"scattergl\": [{\"marker\": {\"colorbar\": {\"outlinewidth\": 0, \"ticks\": \"\"}}, \"type\": \"scattergl\"}], \"scattermapbox\": [{\"marker\": {\"colorbar\": {\"outlinewidth\": 0, \"ticks\": \"\"}}, \"type\": \"scattermapbox\"}], \"scatterpolar\": [{\"marker\": {\"colorbar\": {\"outlinewidth\": 0, \"ticks\": \"\"}}, \"type\": \"scatterpolar\"}], \"scatterpolargl\": [{\"marker\": {\"colorbar\": {\"outlinewidth\": 0, \"ticks\": \"\"}}, \"type\": \"scatterpolargl\"}], \"scatterternary\": [{\"marker\": {\"colorbar\": {\"outlinewidth\": 0, \"ticks\": \"\"}}, \"type\": \"scatterternary\"}], \"surface\": [{\"colorbar\": {\"outlinewidth\": 0, \"ticks\": \"\"}, \"colorscale\": [[0.0, \"#0d0887\"], [0.1111111111111111, \"#46039f\"], [0.2222222222222222, \"#7201a8\"], [0.3333333333333333, \"#9c179e\"], [0.4444444444444444, \"#bd3786\"], [0.5555555555555556, \"#d8576b\"], [0.6666666666666666, \"#ed7953\"], [0.7777777777777778, \"#fb9f3a\"], [0.8888888888888888, \"#fdca26\"], [1.0, \"#f0f921\"]], \"type\": \"surface\"}], \"table\": [{\"cells\": {\"fill\": {\"color\": \"#EBF0F8\"}, \"line\": {\"color\": \"white\"}}, \"header\": {\"fill\": {\"color\": \"#C8D4E3\"}, \"line\": {\"color\": \"white\"}}, \"type\": \"table\"}]}, \"layout\": {\"annotationdefaults\": {\"arrowcolor\": \"#2a3f5f\", \"arrowhead\": 0, \"arrowwidth\": 1}, \"coloraxis\": {\"colorbar\": {\"outlinewidth\": 0, \"ticks\": \"\"}}, \"colorscale\": {\"diverging\": [[0, \"#8e0152\"], [0.1, \"#c51b7d\"], [0.2, \"#de77ae\"], [0.3, \"#f1b6da\"], [0.4, \"#fde0ef\"], [0.5, \"#f7f7f7\"], [0.6, \"#e6f5d0\"], [0.7, \"#b8e186\"], [0.8, \"#7fbc41\"], [0.9, \"#4d9221\"], [1, \"#276419\"]], \"sequential\": [[0.0, \"#0d0887\"], [0.1111111111111111, \"#46039f\"], [0.2222222222222222, \"#7201a8\"], [0.3333333333333333, \"#9c179e\"], [0.4444444444444444, \"#bd3786\"], [0.5555555555555556, \"#d8576b\"], [0.6666666666666666, \"#ed7953\"], [0.7777777777777778, \"#fb9f3a\"], [0.8888888888888888, \"#fdca26\"], [1.0, \"#f0f921\"]], \"sequentialminus\": [[0.0, \"#0d0887\"], [0.1111111111111111, \"#46039f\"], [0.2222222222222222, \"#7201a8\"], [0.3333333333333333, \"#9c179e\"], [0.4444444444444444, \"#bd3786\"], [0.5555555555555556, \"#d8576b\"], [0.6666666666666666, \"#ed7953\"], [0.7777777777777778, \"#fb9f3a\"], [0.8888888888888888, \"#fdca26\"], [1.0, \"#f0f921\"]]}, \"colorway\": [\"#636efa\", \"#EF553B\", \"#00cc96\", \"#ab63fa\", \"#FFA15A\", \"#19d3f3\", \"#FF6692\", \"#B6E880\", \"#FF97FF\", \"#FECB52\"], \"font\": {\"color\": \"#2a3f5f\"}, \"geo\": {\"bgcolor\": \"white\", \"lakecolor\": \"white\", \"landcolor\": \"#E5ECF6\", \"showlakes\": true, \"showland\": true, \"subunitcolor\": \"white\"}, \"hoverlabel\": {\"align\": \"left\"}, \"hovermode\": \"closest\", \"mapbox\": {\"style\": \"light\"}, \"paper_bgcolor\": \"white\", \"plot_bgcolor\": \"#E5ECF6\", \"polar\": {\"angularaxis\": {\"gridcolor\": \"white\", \"linecolor\": \"white\", \"ticks\": \"\"}, \"bgcolor\": \"#E5ECF6\", \"radialaxis\": {\"gridcolor\": \"white\", \"linecolor\": \"white\", \"ticks\": \"\"}}, \"scene\": {\"xaxis\": {\"backgroundcolor\": \"#E5ECF6\", \"gridcolor\": \"white\", \"gridwidth\": 2, \"linecolor\": \"white\", \"showbackground\": true, \"ticks\": \"\", \"zerolinecolor\": \"white\"}, \"yaxis\": {\"backgroundcolor\": \"#E5ECF6\", \"gridcolor\": \"white\", \"gridwidth\": 2, \"linecolor\": \"white\", \"showbackground\": true, \"ticks\": \"\", \"zerolinecolor\": \"white\"}, \"zaxis\": {\"backgroundcolor\": \"#E5ECF6\", \"gridcolor\": \"white\", \"gridwidth\": 2, \"linecolor\": \"white\", \"showbackground\": true, \"ticks\": \"\", \"zerolinecolor\": \"white\"}}, \"shapedefaults\": {\"line\": {\"color\": \"#2a3f5f\"}}, \"ternary\": {\"aaxis\": {\"gridcolor\": \"white\", \"linecolor\": \"white\", \"ticks\": \"\"}, \"baxis\": {\"gridcolor\": \"white\", \"linecolor\": \"white\", \"ticks\": \"\"}, \"bgcolor\": \"#E5ECF6\", \"caxis\": {\"gridcolor\": \"white\", \"linecolor\": \"white\", \"ticks\": \"\"}}, \"title\": {\"x\": 0.05}, \"xaxis\": {\"automargin\": true, \"gridcolor\": \"white\", \"linecolor\": \"white\", \"ticks\": \"\", \"title\": {\"standoff\": 15}, \"zerolinecolor\": \"white\", \"zerolinewidth\": 2}, \"yaxis\": {\"automargin\": true, \"gridcolor\": \"white\", \"linecolor\": \"white\", \"ticks\": \"\", \"title\": {\"standoff\": 15}, \"zerolinecolor\": \"white\", \"zerolinewidth\": 2}}}},\n",
       "                        {\"responsive\": true}\n",
       "                    ).then(function(){\n",
       "                            \n",
       "var gd = document.getElementById('70dee918-47b0-4acb-bcc3-fe8d7a8fa60e');\n",
       "var x = new MutationObserver(function (mutations, observer) {{\n",
       "        var display = window.getComputedStyle(gd).display;\n",
       "        if (!display || display === 'none') {{\n",
       "            console.log([gd, 'removed!']);\n",
       "            Plotly.purge(gd);\n",
       "            observer.disconnect();\n",
       "        }}\n",
       "}});\n",
       "\n",
       "// Listen for the removal of the full notebook cells\n",
       "var notebookContainer = gd.closest('#notebook-container');\n",
       "if (notebookContainer) {{\n",
       "    x.observe(notebookContainer, {childList: true});\n",
       "}}\n",
       "\n",
       "// Listen for the clearing of the current output cell\n",
       "var outputEl = gd.closest('.output');\n",
       "if (outputEl) {{\n",
       "    x.observe(outputEl, {childList: true});\n",
       "}}\n",
       "\n",
       "                        })\n",
       "                };\n",
       "                });\n",
       "            </script>\n",
       "        </div>"
      ]
     },
     "metadata": {},
     "output_type": "display_data"
    }
   ],
   "source": [
    "hyperparameters = [   'batch_size', 'dropout',\n",
    "                      'max_pool', 'num_modules',\n",
    "                      'learning_rate',\n",
    "                       'spatial_dropout' ]\n",
    "data = results\n",
    "log_scale_vars = ['learning_rate']\n",
    "score_col = 'f1_val'\n",
    "analyze_hyperparameters(data,score_col,hyperparameters,log_scale_vars)"
   ]
  },
  {
   "cell_type": "code",
   "execution_count": 78,
   "metadata": {},
   "outputs": [
    {
     "data": {
      "text/plain": [
       "<matplotlib.axes._subplots.AxesSubplot at 0x7f7471aa3050>"
      ]
     },
     "execution_count": 78,
     "metadata": {},
     "output_type": "execute_result"
    },
    {
     "data": {
      "image/png": "[encoded data removed]",
      "text/plain": [
       "<Figure size 432x288 with 1 Axes>"
      ]
     },
     "metadata": {
      "needs_background": "light"
     },
     "output_type": "display_data"
    }
   ],
   "source": [
    "(results['max_pool']*1).hist()"
   ]
  },
  {
   "cell_type": "markdown",
   "metadata": {},
   "source": [
    "# Learning Rate decay"
   ]
  },
  {
   "cell_type": "code",
   "execution_count": 26,
   "metadata": {},
   "outputs": [
    {
     "data": {
      "text/plain": [
       "[0.8062088489532471,\n",
       " 0.8057096600532532,\n",
       " 0.8052108287811279,\n",
       " 0.8129705190658569,\n",
       " 0.8077196478843689,\n",
       " 0.8039025664329529,\n",
       " 0.8097567558288574,\n",
       " 0.8125963807106018,\n",
       " 0.8078747987747192,\n",
       " 0.8152490258216858,\n",
       " 0.8123054504394531,\n",
       " 0.808692216873169,\n",
       " 0.8091004490852356,\n",
       " 0.8109654784202576,\n",
       " 0.8082376718521118]"
      ]
     },
     "execution_count": 26,
     "metadata": {},
     "output_type": "execute_result"
    }
   ],
   "source": [
    "[1-i['loss'] for i in trials]"
   ]
  },
  {
   "cell_type": "markdown",
   "metadata": {},
   "source": [
    "# ======================================================================================="
   ]
  },
  {
   "cell_type": "markdown",
   "metadata": {},
   "source": [
    "# Evaluate"
   ]
  },
  {
   "cell_type": "code",
   "execution_count": 15,
   "metadata": {},
   "outputs": [
    {
     "name": "stdout",
     "output_type": "stream",
     "text": [
      "Executing op RandomUniform in device /job:localhost/replica:0/task:0/device:CPU:0\n",
      "Executing op Sub in device /job:localhost/replica:0/task:0/device:CPU:0\n",
      "Executing op Mul in device /job:localhost/replica:0/task:0/device:CPU:0\n",
      "Executing op Add in device /job:localhost/replica:0/task:0/device:CPU:0\n",
      "Executing op VarHandleOp in device /job:localhost/replica:0/task:0/device:CPU:0\n",
      "Executing op VarIsInitializedOp in device /job:localhost/replica:0/task:0/device:CPU:0\n",
      "Executing op LogicalNot in device /job:localhost/replica:0/task:0/device:CPU:0\n",
      "Executing op Assert in device /job:localhost/replica:0/task:0/device:CPU:0\n",
      "Executing op AssignVariableOp in device /job:localhost/replica:0/task:0/device:CPU:0\n",
      "Executing op RandomUniform in device /job:localhost/replica:0/task:0/device:GPU:0\n",
      "Executing op Sub in device /job:localhost/replica:0/task:0/device:GPU:0\n",
      "Executing op Mul in device /job:localhost/replica:0/task:0/device:GPU:0\n",
      "Executing op Add in device /job:localhost/replica:0/task:0/device:GPU:0\n",
      "Executing op VarHandleOp in device /job:localhost/replica:0/task:0/device:GPU:0\n",
      "Executing op VarIsInitializedOp in device /job:localhost/replica:0/task:0/device:GPU:0\n",
      "Executing op LogicalNot in device /job:localhost/replica:0/task:0/device:GPU:0\n",
      "Executing op Assert in device /job:localhost/replica:0/task:0/device:GPU:0\n",
      "Executing op AssignVariableOp in device /job:localhost/replica:0/task:0/device:GPU:0\n",
      "Executing op RandomStandardNormal in device /job:localhost/replica:0/task:0/device:GPU:0\n",
      "Executing op Qr in device /job:localhost/replica:0/task:0/device:GPU:0\n",
      "Executing op DiagPart in device /job:localhost/replica:0/task:0/device:GPU:0\n",
      "Executing op Sign in device /job:localhost/replica:0/task:0/device:GPU:0\n",
      "Executing op Transpose in device /job:localhost/replica:0/task:0/device:GPU:0\n",
      "Executing op Reshape in device /job:localhost/replica:0/task:0/device:GPU:0\n",
      "Executing op VarHandleOp in device /job:localhost/replica:0/task:0/device:GPU:0\n",
      "Executing op Fill in device /job:localhost/replica:0/task:0/device:GPU:0\n",
      "Executing op ConcatV2 in device /job:localhost/replica:0/task:0/device:GPU:0\n",
      "Executing op VarHandleOp in device /job:localhost/replica:0/task:0/device:GPU:0\n",
      "Executing op VarHandleOp in device /job:localhost/replica:0/task:0/device:GPU:0\n",
      "Executing op VarHandleOp in device /job:localhost/replica:0/task:0/device:GPU:0\n",
      "Executing op VarHandleOp in device /job:localhost/replica:0/task:0/device:GPU:0\n",
      "Executing op VarHandleOp in device /job:localhost/replica:0/task:0/device:GPU:0\n",
      "Executing op VarHandleOp in device /job:localhost/replica:0/task:0/device:GPU:0\n",
      "Executing op VarHandleOp in device /job:localhost/replica:0/task:0/device:GPU:0\n",
      "Executing op Fill in device /job:localhost/replica:0/task:0/device:GPU:0\n",
      "Executing op VarHandleOp in device /job:localhost/replica:0/task:0/device:GPU:0\n",
      "Executing op AssignVariableOp in device /job:localhost/replica:0/task:0/device:GPU:0\n",
      "Executing op Fill in device /job:localhost/replica:0/task:0/device:GPU:0\n",
      "Executing op VarHandleOp in device /job:localhost/replica:0/task:0/device:GPU:0\n",
      "Executing op LogicalNot in device /job:localhost/replica:0/task:0/device:GPU:0\n",
      "Executing op Assert in device /job:localhost/replica:0/task:0/device:GPU:0\n",
      "Executing op VarHandleOp in device /job:localhost/replica:0/task:0/device:GPU:0\n",
      "Executing op VarHandleOp in device /job:localhost/replica:0/task:0/device:GPU:0\n",
      "Executing op VarHandleOp in device /job:localhost/replica:0/task:0/device:GPU:0\n",
      "Executing op VarHandleOp in device /job:localhost/replica:0/task:0/device:GPU:0\n",
      "Executing op VarHandleOp in device /job:localhost/replica:0/task:0/device:GPU:0\n",
      "Executing op VarHandleOp in device /job:localhost/replica:0/task:0/device:GPU:0\n",
      "Executing op VarHandleOp in device /job:localhost/replica:0/task:0/device:GPU:0\n",
      "Executing op ReadVariableOp in device /job:localhost/replica:0/task:0/device:GPU:0\n",
      "Executing op Identity in device /job:localhost/replica:0/task:0/device:GPU:0\n",
      "Executing op ReadVariableOp in device /job:localhost/replica:0/task:0/device:GPU:0\n",
      "Executing op Identity in device /job:localhost/replica:0/task:0/device:GPU:0\n"
     ]
    }
   ],
   "source": [
    "from src.code_snippets.evaluation.model_evaluation import f1_metric\n",
    "model = tf.keras.models.load_model('../../models/BidirectionalLSTM/model.h5',custom_objects={'f1_metric':f1_metric})\n",
    "\n",
    "trainer = BidirectionalLSTM(train_data,\n",
    "                            val_data,\n",
    "                            \"../../data/raw/pretrained_embeddings/glove.twitter.27B/glove.twitter.27B.200d.txt\",\n",
    "                            model=model)\n"
   ]
  },
  {
   "cell_type": "code",
   "execution_count": 16,
   "metadata": {},
   "outputs": [
    {
     "name": "stdout",
     "output_type": "stream",
     "text": [
      "Executing op RangeDataset in device /job:localhost/replica:0/task:0/device:CPU:0\n",
      "Executing op RepeatDataset in device /job:localhost/replica:0/task:0/device:CPU:0\n",
      "Executing op MapDataset in device /job:localhost/replica:0/task:0/device:CPU:0\n",
      "Executing op PrefetchDataset in device /job:localhost/replica:0/task:0/device:CPU:0\n",
      "Executing op FlatMapDataset in device /job:localhost/replica:0/task:0/device:CPU:0\n",
      "Executing op TensorDataset in device /job:localhost/replica:0/task:0/device:CPU:0\n",
      "Executing op RepeatDataset in device /job:localhost/replica:0/task:0/device:CPU:0\n",
      "Executing op ZipDataset in device /job:localhost/replica:0/task:0/device:CPU:0\n",
      "Executing op ParallelMapDataset in device /job:localhost/replica:0/task:0/device:CPU:0\n",
      "Executing op ModelDataset in device /job:localhost/replica:0/task:0/device:CPU:0\n",
      "Executing op AnonymousIteratorV2 in device /job:localhost/replica:0/task:0/device:CPU:0\n",
      "Executing op MakeIterator in device /job:localhost/replica:0/task:0/device:CPU:0\n",
      "Executing op __inference_predict_function_14722 in device /job:localhost/replica:0/task:0/device:GPU:0\n",
      "Executing op ConcatV2 in device /job:localhost/replica:0/task:0/device:GPU:0\n",
      "Executing op DeleteIterator in device /job:localhost/replica:0/task:0/device:CPU:0\n",
      "Executing op Minimum in device /job:localhost/replica:0/task:0/device:GPU:0\n",
      "Executing op Maximum in device /job:localhost/replica:0/task:0/device:GPU:0\n",
      "Executing op Round in device /job:localhost/replica:0/task:0/device:GPU:0\n",
      "Executing op Sum in device /job:localhost/replica:0/task:0/device:GPU:0\n",
      "Executing op AddV2 in device /job:localhost/replica:0/task:0/device:GPU:0\n",
      "Executing op RealDiv in device /job:localhost/replica:0/task:0/device:GPU:0\n"
     ]
    },
    {
     "data": {
      "text/plain": [
       "0.8225806"
      ]
     },
     "execution_count": 16,
     "metadata": {},
     "output_type": "execute_result"
    }
   ],
   "source": [
    "trainer.generate_metrics(trainer.val_data['X_indices'],y_test = trainer.val_data['y'])"
   ]
  },
  {
   "cell_type": "code",
   "execution_count": 18,
   "metadata": {},
   "outputs": [
    {
     "name": "stdout",
     "output_type": "stream",
     "text": [
      "Executing op RangeDataset in device /job:localhost/replica:0/task:0/device:CPU:0\n",
      "Executing op RepeatDataset in device /job:localhost/replica:0/task:0/device:CPU:0\n",
      "Executing op MapDataset in device /job:localhost/replica:0/task:0/device:CPU:0\n",
      "Executing op PrefetchDataset in device /job:localhost/replica:0/task:0/device:CPU:0\n",
      "Executing op FlatMapDataset in device /job:localhost/replica:0/task:0/device:CPU:0\n",
      "Executing op TensorDataset in device /job:localhost/replica:0/task:0/device:CPU:0\n",
      "Executing op RepeatDataset in device /job:localhost/replica:0/task:0/device:CPU:0\n",
      "Executing op ZipDataset in device /job:localhost/replica:0/task:0/device:CPU:0\n",
      "Executing op ParallelMapDataset in device /job:localhost/replica:0/task:0/device:CPU:0\n",
      "Executing op ModelDataset in device /job:localhost/replica:0/task:0/device:CPU:0\n",
      "Executing op ConcatV2 in device /job:localhost/replica:0/task:0/device:GPU:0\n"
     ]
    },
    {
     "data": {
      "text/plain": [
       "<tf.Tensor: shape=(), dtype=float32, numpy=0.8157349>"
      ]
     },
     "execution_count": 18,
     "metadata": {},
     "output_type": "execute_result"
    }
   ],
   "source": [
    "preds = model.predict(test_data['X_indices'])\n",
    "f1_metric(test_data['y'].astype('float32'),preds)"
   ]
  },
  {
   "cell_type": "code",
   "execution_count": 19,
   "metadata": {},
   "outputs": [],
   "source": [
    "from scikitplot.metrics import plot_confusion_matrix"
   ]
  },
  {
   "cell_type": "code",
   "execution_count": 20,
   "metadata": {},
   "outputs": [
    {
     "data": {
      "text/plain": [
       "<matplotlib.axes._subplots.AxesSubplot at 0x7f0a6d4bbcd0>"
      ]
     },
     "execution_count": 20,
     "metadata": {},
     "output_type": "execute_result"
    },
    {
     "data": {
      "image/png": "[encoded data removed]",
      "text/plain": [
       "<Figure size 432x288 with 2 Axes>"
      ]
     },
     "metadata": {
      "needs_background": "light"
     },
     "output_type": "display_data"
    }
   ],
   "source": [
    "plot_confusion_matrix(test_data['y'],(preds>=0.5)*1,normalize=True)"
   ]
  },
  {
   "cell_type": "code",
   "execution_count": 105,
   "metadata": {},
   "outputs": [
    {
     "name": "stdout",
     "output_type": "stream",
     "text": [
      "Executing op RangeDataset in device /job:localhost/replica:0/task:0/device:CPU:0\n",
      "Executing op RepeatDataset in device /job:localhost/replica:0/task:0/device:CPU:0\n",
      "Executing op MapDataset in device /job:localhost/replica:0/task:0/device:CPU:0\n",
      "Executing op PrefetchDataset in device /job:localhost/replica:0/task:0/device:CPU:0\n",
      "Executing op FlatMapDataset in device /job:localhost/replica:0/task:0/device:CPU:0\n",
      "Executing op TensorDataset in device /job:localhost/replica:0/task:0/device:CPU:0\n",
      "Executing op RepeatDataset in device /job:localhost/replica:0/task:0/device:CPU:0\n",
      "Executing op ZipDataset in device /job:localhost/replica:0/task:0/device:CPU:0\n",
      "Executing op ParallelMapDataset in device /job:localhost/replica:0/task:0/device:CPU:0\n",
      "Executing op ModelDataset in device /job:localhost/replica:0/task:0/device:CPU:0\n"
     ]
    },
    {
     "data": {
      "text/plain": [
       "<matplotlib.axes._subplots.AxesSubplot at 0x7f0eeab9a6d8>"
      ]
     },
     "execution_count": 105,
     "metadata": {},
     "output_type": "execute_result"
    },
    {
     "data": {
      "image/png": "[encoded data removed]",
      "text/plain": [
       "<Figure size 432x288 with 2 Axes>"
      ]
     },
     "metadata": {
      "needs_background": "light"
     },
     "output_type": "display_data"
    }
   ],
   "source": [
    "plot_confusion_matrix(val_data['y'],(model.predict(val_data['X_indices'])>=0.5)*1,normalize=True)"
   ]
  },
  {
   "cell_type": "code",
   "execution_count": 91,
   "metadata": {},
   "outputs": [
    {
     "name": "stdout",
     "output_type": "stream",
     "text": [
      "Executing op RangeDataset in device /job:localhost/replica:0/task:0/device:CPU:0\n",
      "Executing op RepeatDataset in device /job:localhost/replica:0/task:0/device:CPU:0\n",
      "Executing op MapDataset in device /job:localhost/replica:0/task:0/device:CPU:0\n",
      "Executing op PrefetchDataset in device /job:localhost/replica:0/task:0/device:CPU:0\n",
      "Executing op FlatMapDataset in device /job:localhost/replica:0/task:0/device:CPU:0\n",
      "Executing op TensorDataset in device /job:localhost/replica:0/task:0/device:CPU:0\n",
      "Executing op RepeatDataset in device /job:localhost/replica:0/task:0/device:CPU:0\n",
      "Executing op ZipDataset in device /job:localhost/replica:0/task:0/device:CPU:0\n",
      "Executing op ParallelMapDataset in device /job:localhost/replica:0/task:0/device:CPU:0\n",
      "Executing op ModelDataset in device /job:localhost/replica:0/task:0/device:CPU:0\n"
     ]
    },
    {
     "data": {
      "text/plain": [
       "0.9875213572949819"
      ]
     },
     "execution_count": 91,
     "metadata": {},
     "output_type": "execute_result"
    }
   ],
   "source": [
    "roc_auc_score(val_data['y'],model.predict(val_data['X_indices']))"
   ]
  },
  {
   "cell_type": "code",
   "execution_count": null,
   "metadata": {},
   "outputs": [],
   "source": [
    "def get_layer_output(model,layer,input_):\n",
    "    get_layer_output = K.function([model.layers[0].input],\n",
    "                      [model.layers[layer].output])\n",
    "\n",
    "    layer_output = get_layer_output(input_)\n",
    "    return layer_output[0]"
   ]
  },
  {
   "cell_type": "code",
   "execution_count": 19,
   "metadata": {},
   "outputs": [],
   "source": [
    "trainer.model(n_units=256,\n",
    "             add_recurrent_layer=True,\n",
    "             dropout=0.4,\n",
    "             spatial_dropout=0.4,\n",
    "             hidden_dense_units=128,\n",
    "             learning_rate=0.0017436142055397088,\n",
    "             global_avg_pool=False,\n",
    "             global_max_pool=False\n",
    "    )\n",
    "\n"
   ]
  },
  {
   "cell_type": "code",
   "execution_count": 20,
   "metadata": {},
   "outputs": [
    {
     "name": "stdout",
     "output_type": "stream",
     "text": [
      "Model: \"model_1\"\n",
      "_________________________________________________________________\n",
      "Layer (type)                 Output Shape              Param #   \n",
      "=================================================================\n",
      "input_2 (InputLayer)         [(None, 115)]             0         \n",
      "_________________________________________________________________\n",
      "embedding_1 (Embedding)      (None, 115, 200)          238703000 \n",
      "_________________________________________________________________\n",
      "spatial_dropout1d_1 (Spatial (None, 115, 200)          0         \n",
      "_________________________________________________________________\n",
      "bidirectional_2 (Bidirection (None, 115, 512)          935936    \n",
      "_________________________________________________________________\n",
      "bidirectional_3 (Bidirection (None, 512)               1574912   \n",
      "_________________________________________________________________\n",
      "dense_2 (Dense)              (None, 128)               65664     \n",
      "_________________________________________________________________\n",
      "batch_normalization_1 (Batch (None, 128)               512       \n",
      "_________________________________________________________________\n",
      "activation_1 (Activation)    (None, 128)               0         \n",
      "_________________________________________________________________\n",
      "dropout_1 (Dropout)          (None, 128)               0         \n",
      "_________________________________________________________________\n",
      "dense_3 (Dense)              (None, 1)                 129       \n",
      "=================================================================\n",
      "Total params: 241,280,153\n",
      "Trainable params: 2,576,897\n",
      "Non-trainable params: 238,703,256\n",
      "_________________________________________________________________\n"
     ]
    }
   ],
   "source": [
    "trainer.model.summary()"
   ]
  },
  {
   "cell_type": "code",
   "execution_count": 21,
   "metadata": {},
   "outputs": [
    {
     "name": "stdout",
     "output_type": "stream",
     "text": [
      "Executing op RangeDataset in device /job:localhost/replica:0/task:0/device:CPU:0\n",
      "Executing op RepeatDataset in device /job:localhost/replica:0/task:0/device:CPU:0\n",
      "Executing op MapDataset in device /job:localhost/replica:0/task:0/device:CPU:0\n",
      "Executing op PrefetchDataset in device /job:localhost/replica:0/task:0/device:CPU:0\n",
      "Executing op FlatMapDataset in device /job:localhost/replica:0/task:0/device:CPU:0\n",
      "Executing op TensorDataset in device /job:localhost/replica:0/task:0/device:CPU:0\n",
      "Executing op RepeatDataset in device /job:localhost/replica:0/task:0/device:CPU:0\n",
      "Executing op ZipDataset in device /job:localhost/replica:0/task:0/device:CPU:0\n",
      "Executing op ParallelMapDataset in device /job:localhost/replica:0/task:0/device:CPU:0\n",
      "Executing op RangeDataset in device /job:localhost/replica:0/task:0/device:CPU:0\n",
      "Executing op RepeatDataset in device /job:localhost/replica:0/task:0/device:CPU:0\n",
      "Executing op MapDataset in device /job:localhost/replica:0/task:0/device:CPU:0\n",
      "Executing op PrefetchDataset in device /job:localhost/replica:0/task:0/device:CPU:0\n",
      "Executing op FlatMapDataset in device /job:localhost/replica:0/task:0/device:CPU:0\n",
      "Executing op TensorDataset in device /job:localhost/replica:0/task:0/device:CPU:0\n",
      "Executing op RepeatDataset in device /job:localhost/replica:0/task:0/device:CPU:0\n",
      "Executing op ZipDataset in device /job:localhost/replica:0/task:0/device:CPU:0\n",
      "Executing op ParallelMapDataset in device /job:localhost/replica:0/task:0/device:CPU:0\n",
      "Executing op DatasetCardinality in device /job:localhost/replica:0/task:0/device:CPU:0\n",
      "Train on 122920 samples, validate on 6489 samples\n",
      "Epoch 1/100\n",
      "Executing op ModelDataset in device /job:localhost/replica:0/task:0/device:CPU:0\n",
      "Executing op AnonymousIteratorV2 in device /job:localhost/replica:0/task:0/device:CPU:0\n",
      "Executing op MakeIterator in device /job:localhost/replica:0/task:0/device:CPU:0\n",
      "Executing op VarHandleOp in device /job:localhost/replica:0/task:0/device:GPU:0\n",
      "Executing op AssignVariableOp in device /job:localhost/replica:0/task:0/device:GPU:0\n",
      "Executing op VarHandleOp in device /job:localhost/replica:0/task:0/device:GPU:0\n",
      "Executing op VarHandleOp in device /job:localhost/replica:0/task:0/device:GPU:0\n",
      "Executing op VarHandleOp in device /job:localhost/replica:0/task:0/device:GPU:0\n",
      "Executing op VarHandleOp in device /job:localhost/replica:0/task:0/device:GPU:0\n",
      "Executing op VarHandleOp in device /job:localhost/replica:0/task:0/device:GPU:0\n",
      "Executing op LogicalNot in device /job:localhost/replica:0/task:0/device:GPU:0\n",
      "Executing op Assert in device /job:localhost/replica:0/task:0/device:GPU:0\n",
      "Executing op VarHandleOp in device /job:localhost/replica:0/task:0/device:GPU:0\n",
      "Executing op VarHandleOp in device /job:localhost/replica:0/task:0/device:GPU:0\n",
      "Executing op VarHandleOp in device /job:localhost/replica:0/task:0/device:GPU:0\n",
      "Executing op VarHandleOp in device /job:localhost/replica:0/task:0/device:GPU:0\n",
      "Executing op VarHandleOp in device /job:localhost/replica:0/task:0/device:GPU:0\n",
      "Executing op VarHandleOp in device /job:localhost/replica:0/task:0/device:GPU:0\n",
      "Executing op VarHandleOp in device /job:localhost/replica:0/task:0/device:GPU:0\n",
      "Executing op VarHandleOp in device /job:localhost/replica:0/task:0/device:GPU:0\n",
      "Executing op VarHandleOp in device /job:localhost/replica:0/task:0/device:GPU:0\n",
      "Executing op VarHandleOp in device /job:localhost/replica:0/task:0/device:GPU:0\n",
      "Executing op VarHandleOp in device /job:localhost/replica:0/task:0/device:GPU:0\n",
      "Executing op VarHandleOp in device /job:localhost/replica:0/task:0/device:GPU:0\n",
      "Executing op VarHandleOp in device /job:localhost/replica:0/task:0/device:GPU:0\n",
      "Executing op VarHandleOp in device /job:localhost/replica:0/task:0/device:GPU:0\n",
      "Executing op VarHandleOp in device /job:localhost/replica:0/task:0/device:GPU:0\n",
      "Executing op VarHandleOp in device /job:localhost/replica:0/task:0/device:GPU:0\n",
      "Executing op VarHandleOp in device /job:localhost/replica:0/task:0/device:GPU:0\n",
      "Executing op VarHandleOp in device /job:localhost/replica:0/task:0/device:GPU:0\n",
      "Executing op VarHandleOp in device /job:localhost/replica:0/task:0/device:GPU:0\n",
      "Executing op VarHandleOp in device /job:localhost/replica:0/task:0/device:GPU:0\n",
      "Executing op VarHandleOp in device /job:localhost/replica:0/task:0/device:GPU:0\n",
      "Executing op VarHandleOp in device /job:localhost/replica:0/task:0/device:GPU:0\n",
      "Executing op VarHandleOp in device /job:localhost/replica:0/task:0/device:GPU:0\n",
      "Executing op VarHandleOp in device /job:localhost/replica:0/task:0/device:GPU:0\n",
      "Executing op VarHandleOp in device /job:localhost/replica:0/task:0/device:GPU:0\n",
      "Executing op VarHandleOp in device /job:localhost/replica:0/task:0/device:GPU:0\n",
      "Executing op VarHandleOp in device /job:localhost/replica:0/task:0/device:GPU:0\n",
      "Executing op VarHandleOp in device /job:localhost/replica:0/task:0/device:GPU:0\n",
      "Executing op VarHandleOp in device /job:localhost/replica:0/task:0/device:GPU:0\n",
      "Executing op VarHandleOp in device /job:localhost/replica:0/task:0/device:GPU:0\n",
      "Executing op VarHandleOp in device /job:localhost/replica:0/task:0/device:GPU:0\n",
      "Executing op VarHandleOp in device /job:localhost/replica:0/task:0/device:GPU:0\n",
      "Executing op VarHandleOp in device /job:localhost/replica:0/task:0/device:GPU:0\n",
      "Executing op VarHandleOp in device /job:localhost/replica:0/task:0/device:GPU:0\n",
      "Executing op VarHandleOp in device /job:localhost/replica:0/task:0/device:GPU:0\n",
      "Executing op __inference_distributed_function_32170 in device /job:localhost/replica:0/task:0/device:GPU:0\n",
      "122880/122920 [============================>.] - ETA: 0s - loss: 0.1569 - f1_metric: 0.7195 - auc_1: 0.9465Executing op ModelDataset in device /job:localhost/replica:0/task:0/device:CPU:0\n",
      "Executing op __inference_distributed_function_42300 in device /job:localhost/replica:0/task:0/device:GPU:0\n",
      "Executing op ReadVariableOp in device /job:localhost/replica:0/task:0/device:CPU:0\n",
      "Executing op Identity in device /job:localhost/replica:0/task:0/device:GPU:0\n",
      "Executing op ReadVariableOp in device /job:localhost/replica:0/task:0/device:GPU:0\n",
      "122920/122920 [==============================] - 144s 1ms/sample - loss: 0.1569 - f1_metric: 0.7197 - auc_1: 0.9465 - val_loss: 0.1019 - val_f1_metric: 0.8166 - val_auc_1: 0.9775\n",
      "Epoch 2/100\n",
      "122880/122920 [============================>.] - ETA: 0s - loss: 0.1115 - f1_metric: 0.7959 - auc_1: 0.9723Executing op ModelDataset in device /job:localhost/replica:0/task:0/device:CPU:0\n",
      "Executing op DeleteIterator in device /job:localhost/replica:0/task:0/device:CPU:0\n",
      "122920/122920 [==============================] - 154s 1ms/sample - loss: 0.1115 - f1_metric: 0.7956 - auc_1: 0.9723 - val_loss: 0.0959 - val_f1_metric: 0.8205 - val_auc_1: 0.9829\n",
      "Epoch 3/100\n",
      "122880/122920 [============================>.] - ETA: 0s - loss: 0.1009 - f1_metric: 0.8142 - auc_1: 0.9779Executing op ModelDataset in device /job:localhost/replica:0/task:0/device:CPU:0\n",
      "122920/122920 [==============================] - 120s 974us/sample - loss: 0.1009 - f1_metric: 0.8144 - auc_1: 0.9779 - val_loss: 0.1111 - val_f1_metric: 0.8183 - val_auc_1: 0.9854\n",
      "Epoch 4/100\n",
      "122880/122920 [============================>.] - ETA: 0s - loss: 0.0940 - f1_metric: 0.8252 - auc_1: 0.9809Executing op ModelDataset in device /job:localhost/replica:0/task:0/device:CPU:0\n",
      "122920/122920 [==============================] - 105s 858us/sample - loss: 0.0940 - f1_metric: 0.8252 - auc_1: 0.9809 - val_loss: 0.0946 - val_f1_metric: 0.8305 - val_auc_1: 0.9828\n",
      "Epoch 5/100\n",
      "122880/122920 [============================>.] - ETA: 0s - loss: 0.0882 - f1_metric: 0.8345 - auc_1: 0.9833Executing op ModelDataset in device /job:localhost/replica:0/task:0/device:CPU:0\n",
      "122920/122920 [==============================] - 100s 817us/sample - loss: 0.0882 - f1_metric: 0.8343 - auc_1: 0.9833 - val_loss: 0.0952 - val_f1_metric: 0.8283 - val_auc_1: 0.9792\n",
      "Epoch 6/100\n",
      "122880/122920 [============================>.] - ETA: 0s - loss: 0.0827 - f1_metric: 0.8455 - auc_1: 0.9856Executing op ModelDataset in device /job:localhost/replica:0/task:0/device:CPU:0\n",
      "122920/122920 [==============================] - 105s 856us/sample - loss: 0.0827 - f1_metric: 0.8457 - auc_1: 0.9856 - val_loss: 0.0885 - val_f1_metric: 0.8320 - val_auc_1: 0.9837\n",
      "Epoch 7/100\n",
      "122880/122920 [============================>.] - ETA: 0s - loss: 0.0770 - f1_metric: 0.8532 - auc_1: 0.9877Executing op ModelDataset in device /job:localhost/replica:0/task:0/device:CPU:0\n",
      "122920/122920 [==============================] - 103s 842us/sample - loss: 0.0769 - f1_metric: 0.8533 - auc_1: 0.9877 - val_loss: 0.0901 - val_f1_metric: 0.8509 - val_auc_1: 0.9834\n",
      "Epoch 8/100\n",
      "122880/122920 [============================>.] - ETA: 0s - loss: 0.0720 - f1_metric: 0.8627 - auc_1: 0.9894Executing op ModelDataset in device /job:localhost/replica:0/task:0/device:CPU:0\n",
      "122920/122920 [==============================] - 101s 819us/sample - loss: 0.0720 - f1_metric: 0.8626 - auc_1: 0.9894 - val_loss: 0.0941 - val_f1_metric: 0.8357 - val_auc_1: 0.9830\n",
      "Epoch 9/100\n",
      "122880/122920 [============================>.] - ETA: 0s - loss: 0.0650 - f1_metric: 0.8761 - auc_1: 0.9913Executing op ModelDataset in device /job:localhost/replica:0/task:0/device:CPU:0\n",
      "122920/122920 [==============================] - 101s 822us/sample - loss: 0.0650 - f1_metric: 0.8761 - auc_1: 0.9913 - val_loss: 0.0953 - val_f1_metric: 0.8371 - val_auc_1: 0.9839\n",
      "Epoch 10/100\n",
      "122880/122920 [============================>.] - ETA: 0s - loss: 0.0606 - f1_metric: 0.8872 - auc_1: 0.9921Executing op ModelDataset in device /job:localhost/replica:0/task:0/device:CPU:0\n",
      "122920/122920 [==============================] - 101s 822us/sample - loss: 0.0606 - f1_metric: 0.8871 - auc_1: 0.9921 - val_loss: 0.0959 - val_f1_metric: 0.8507 - val_auc_1: 0.9848\n",
      "Epoch 11/100\n",
      "122880/122920 [============================>.] - ETA: 0s - loss: 0.0548 - f1_metric: 0.8984 - auc_1: 0.9939Executing op ModelDataset in device /job:localhost/replica:0/task:0/device:CPU:0\n",
      "122920/122920 [==============================] - 101s 823us/sample - loss: 0.0548 - f1_metric: 0.8985 - auc_1: 0.9939 - val_loss: 0.0973 - val_f1_metric: 0.8420 - val_auc_1: 0.9790\n",
      "Epoch 12/100\n",
      "122880/122920 [============================>.] - ETA: 0s - loss: 0.0514 - f1_metric: 0.9037 - auc_1: 0.9943Executing op ModelDataset in device /job:localhost/replica:0/task:0/device:CPU:0\n",
      "122920/122920 [==============================] - 102s 828us/sample - loss: 0.0514 - f1_metric: 0.9038 - auc_1: 0.9943 - val_loss: 0.1054 - val_f1_metric: 0.8308 - val_auc_1: 0.9798\n",
      "Epoch 13/100\n",
      "122880/122920 [============================>.] - ETA: 0s - loss: 0.0483 - f1_metric: 0.9108 - auc_1: 0.9948Executing op ModelDataset in device /job:localhost/replica:0/task:0/device:CPU:0\n",
      "122920/122920 [==============================] - 103s 836us/sample - loss: 0.0483 - f1_metric: 0.9109 - auc_1: 0.9948 - val_loss: 0.1179 - val_f1_metric: 0.8377 - val_auc_1: 0.9724\n",
      "Epoch 14/100\n",
      "122880/122920 [============================>.] - ETA: 0s - loss: 0.0421 - f1_metric: 0.9208 - auc_1: 0.9964Executing op ModelDataset in device /job:localhost/replica:0/task:0/device:CPU:0\n",
      "122920/122920 [==============================] - 103s 838us/sample - loss: 0.0421 - f1_metric: 0.9207 - auc_1: 0.9964 - val_loss: 0.1148 - val_f1_metric: 0.8348 - val_auc_1: 0.9741\n",
      "Epoch 15/100\n",
      "122880/122920 [============================>.] - ETA: 0s - loss: 0.0407 - f1_metric: 0.9262 - auc_1: 0.9962Executing op ModelDataset in device /job:localhost/replica:0/task:0/device:CPU:0\n",
      "122920/122920 [==============================] - 102s 833us/sample - loss: 0.0407 - f1_metric: 0.9262 - auc_1: 0.9962 - val_loss: 0.1129 - val_f1_metric: 0.8246 - val_auc_1: 0.9724\n",
      "Epoch 16/100\n",
      "122880/122920 [============================>.] - ETA: 0s - loss: 0.0372 - f1_metric: 0.9335 - auc_1: 0.9967Executing op ModelDataset in device /job:localhost/replica:0/task:0/device:CPU:0\n",
      "122920/122920 [==============================] - 103s 837us/sample - loss: 0.0372 - f1_metric: 0.9336 - auc_1: 0.9967 - val_loss: 0.1283 - val_f1_metric: 0.8269 - val_auc_1: 0.9711\n",
      "Epoch 17/100\n",
      "122880/122920 [============================>.] - ETA: 0s - loss: 0.0359 - f1_metric: 0.9339 - auc_1: 0.9970Executing op ModelDataset in device /job:localhost/replica:0/task:0/device:CPU:0\n",
      "122920/122920 [==============================] - 103s 836us/sample - loss: 0.0359 - f1_metric: 0.9339 - auc_1: 0.9970 - val_loss: 0.1264 - val_f1_metric: 0.8295 - val_auc_1: 0.9706\n",
      "Epoch 18/100\n",
      "122880/122920 [============================>.] - ETA: 0s - loss: 0.0323 - f1_metric: 0.9418 - auc_1: 0.9974Executing op ModelDataset in device /job:localhost/replica:0/task:0/device:CPU:0\n",
      "122920/122920 [==============================] - 103s 837us/sample - loss: 0.0323 - f1_metric: 0.9418 - auc_1: 0.9974 - val_loss: 0.1489 - val_f1_metric: 0.8199 - val_auc_1: 0.9755\n",
      "Epoch 19/100\n",
      "122880/122920 [============================>.] - ETA: 0s - loss: 0.0305 - f1_metric: 0.9461 - auc_1: 0.9974Executing op ModelDataset in device /job:localhost/replica:0/task:0/device:CPU:0\n",
      "122920/122920 [==============================] - 103s 840us/sample - loss: 0.0305 - f1_metric: 0.9462 - auc_1: 0.9974 - val_loss: 0.1428 - val_f1_metric: 0.8224 - val_auc_1: 0.9725\n",
      "Epoch 20/100\n",
      "122880/122920 [============================>.] - ETA: 0s - loss: 0.0290 - f1_metric: 0.9495 - auc_1: 0.9980Executing op ModelDataset in device /job:localhost/replica:0/task:0/device:CPU:0\n",
      "122920/122920 [==============================] - 104s 847us/sample - loss: 0.0290 - f1_metric: 0.9495 - auc_1: 0.9980 - val_loss: 0.1500 - val_f1_metric: 0.8244 - val_auc_1: 0.9697\n",
      "Epoch 21/100\n",
      "122880/122920 [============================>.] - ETA: 0s - loss: 0.0275 - f1_metric: 0.9527 - auc_1: 0.9978Executing op ModelDataset in device /job:localhost/replica:0/task:0/device:CPU:0\n",
      "122920/122920 [==============================] - 104s 846us/sample - loss: 0.0275 - f1_metric: 0.9527 - auc_1: 0.9978 - val_loss: 0.1378 - val_f1_metric: 0.8316 - val_auc_1: 0.9709\n",
      "Epoch 22/100\n",
      "122880/122920 [============================>.] - ETA: 0s - loss: 0.0269 - f1_metric: 0.9526 - auc_1: 0.9982Executing op ModelDataset in device /job:localhost/replica:0/task:0/device:CPU:0\n",
      "Restoring model weights from the end of the best epoch.\n",
      "122920/122920 [==============================] - 104s 850us/sample - loss: 0.0269 - f1_metric: 0.9527 - auc_1: 0.9982 - val_loss: 0.1448 - val_f1_metric: 0.8354 - val_auc_1: 0.9637\n",
      "Epoch 00022: early stopping\n"
     ]
    }
   ],
   "source": [
    "trainer.fit_model(epochs=100,batch_size = 128)"
   ]
  },
  {
   "cell_type": "code",
   "execution_count": 31,
   "metadata": {},
   "outputs": [
    {
     "name": "stdout",
     "output_type": "stream",
     "text": [
      "Executing op RangeDataset in device /job:localhost/replica:0/task:0/device:CPU:0\n",
      "Executing op RepeatDataset in device /job:localhost/replica:0/task:0/device:CPU:0\n",
      "Executing op MapDataset in device /job:localhost/replica:0/task:0/device:CPU:0\n",
      "Executing op PrefetchDataset in device /job:localhost/replica:0/task:0/device:CPU:0\n",
      "Executing op FlatMapDataset in device /job:localhost/replica:0/task:0/device:CPU:0\n",
      "Executing op TensorDataset in device /job:localhost/replica:0/task:0/device:CPU:0\n",
      "Executing op RepeatDataset in device /job:localhost/replica:0/task:0/device:CPU:0\n",
      "Executing op ZipDataset in device /job:localhost/replica:0/task:0/device:CPU:0\n",
      "Executing op ParallelMapDataset in device /job:localhost/replica:0/task:0/device:CPU:0\n",
      "Executing op ModelDataset in device /job:localhost/replica:0/task:0/device:CPU:0\n"
     ]
    }
   ],
   "source": [
    "test = trainer.val_data['X_indices']\n",
    "y_true = trainer.val_data['y'].astype('float32')\n",
    "\n",
    "y_pred = trainer.model.predict(test)\n",
    "\n",
    "score = f1_metric(y_true,y_pred).numpy()"
   ]
  },
  {
   "cell_type": "code",
   "execution_count": 45,
   "metadata": {},
   "outputs": [
    {
     "name": "stdout",
     "output_type": "stream",
     "text": [
      "Executing op DestroyResourceOp in device /job:localhost/replica:0/task:0/device:GPU:0\n",
      "Executing op VarHandleOp in device /job:localhost/replica:0/task:0/device:GPU:0\n",
      "Executing op Fill in device /job:localhost/replica:0/task:0/device:GPU:0\n",
      "Executing op VarHandleOp in device /job:localhost/replica:0/task:0/device:GPU:0\n",
      "Executing op VarHandleOp in device /job:localhost/replica:0/task:0/device:GPU:0\n",
      "Executing op VarHandleOp in device /job:localhost/replica:0/task:0/device:GPU:0\n",
      "Executing op VarHandleOp in device /job:localhost/replica:0/task:0/device:GPU:0\n",
      "Executing op VarHandleOp in device /job:localhost/replica:0/task:0/device:GPU:0\n",
      "Executing op VarHandleOp in device /job:localhost/replica:0/task:0/device:GPU:0\n",
      "Executing op VarHandleOp in device /job:localhost/replica:0/task:0/device:GPU:0\n",
      "Executing op Reshape in device /job:localhost/replica:0/task:0/device:GPU:0\n",
      "Executing op VarHandleOp in device /job:localhost/replica:0/task:0/device:GPU:0\n",
      "Executing op ReadVariableOp in device /job:localhost/replica:0/task:0/device:GPU:0\n",
      "Executing op Identity in device /job:localhost/replica:0/task:0/device:GPU:0\n"
     ]
    }
   ],
   "source": [
    "model = tf.keras.models.load_model('../../models/many_to_one_LSTM/model.h5',custom_objects={'f1_metric':f1_metric})"
   ]
  },
  {
   "cell_type": "code",
   "execution_count": 46,
   "metadata": {},
   "outputs": [],
   "source": [
    "trainer.model = model"
   ]
  },
  {
   "cell_type": "code",
   "execution_count": 47,
   "metadata": {},
   "outputs": [
    {
     "name": "stdout",
     "output_type": "stream",
     "text": [
      "Executing op RangeDataset in device /job:localhost/replica:0/task:0/device:CPU:0\n",
      "Executing op RepeatDataset in device /job:localhost/replica:0/task:0/device:CPU:0\n",
      "Executing op MapDataset in device /job:localhost/replica:0/task:0/device:CPU:0\n",
      "Executing op PrefetchDataset in device /job:localhost/replica:0/task:0/device:CPU:0\n",
      "Executing op FlatMapDataset in device /job:localhost/replica:0/task:0/device:CPU:0\n",
      "Executing op TensorDataset in device /job:localhost/replica:0/task:0/device:CPU:0\n",
      "Executing op RepeatDataset in device /job:localhost/replica:0/task:0/device:CPU:0\n",
      "Executing op ZipDataset in device /job:localhost/replica:0/task:0/device:CPU:0\n",
      "Executing op ParallelMapDataset in device /job:localhost/replica:0/task:0/device:CPU:0\n",
      "Executing op ModelDataset in device /job:localhost/replica:0/task:0/device:CPU:0\n",
      "Executing op __inference_distributed_function_143037 in device /job:localhost/replica:0/task:0/device:GPU:0\n"
     ]
    },
    {
     "data": {
      "text/plain": [
       "0.8555478"
      ]
     },
     "execution_count": 47,
     "metadata": {},
     "output_type": "execute_result"
    }
   ],
   "source": [
    "trainer.generate_metrics(trainer.val_data['X_indices'],y_test = trainer.val_data['y'])"
   ]
  },
  {
   "cell_type": "code",
   "execution_count": null,
   "metadata": {},
   "outputs": [],
   "source": [
    "plt.figure(figsize=(10,10))\n",
    "sns.lineplot(x='learning_rate',y='f1_val',data = results)\n",
    "plt.xscale('log')\n",
    "plt.axvline(3.5e-3)\n",
    "plt.show()"
   ]
  },
  {
   "cell_type": "code",
   "execution_count": null,
   "metadata": {},
   "outputs": [],
   "source": [
    "np.round(np.log10(3.5e-3),4)"
   ]
  },
  {
   "cell_type": "code",
   "execution_count": 43,
   "metadata": {},
   "outputs": [
    {
     "data": {
      "text/plain": [
       "'/home/samir/temp/toxic_comments/src/models'"
      ]
     },
     "execution_count": 43,
     "metadata": {},
     "output_type": "execute_result"
    }
   ],
   "source": [
    "os.getcwd()"
   ]
  },
  {
   "cell_type": "code",
   "execution_count": null,
   "metadata": {},
   "outputs": [],
   "source": [
    "10**-2.5"
   ]
  }
 ],
 "metadata": {
  "environment": {
   "name": "tf2-2-2-gpu.2-2.m48",
   "type": "gcloud",
   "uri": "gcr.io/deeplearning-platform-release/tf2-2-2-gpu.2-2:m48"
  },
  "kernelspec": {
   "display_name": "Python 3",
   "language": "python",
   "name": "python3"
  },
  "language_info": {
   "codemirror_mode": {
    "name": "ipython",
    "version": 3
   },
   "file_extension": ".py",
   "mimetype": "text/x-python",
   "name": "python",
   "nbconvert_exporter": "python",
   "pygments_lexer": "ipython3",
   "version": "3.7.6"
  }
 },
 "nbformat": 4,
 "nbformat_minor": 4
}
