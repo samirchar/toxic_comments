{
 "cells": [
  {
   "cell_type": "code",
   "execution_count": 1,
   "metadata": {},
   "outputs": [],
   "source": [
    "import tensorflow as tf\n",
    "tf.debugging.set_log_device_placement(True)\n",
    "import logging\n",
    "\n",
    "\n",
    "def allow_soft_placement():\n",
    "    physical_devices = tf.config.experimental.list_physical_devices('GPU')\n",
    "    if  len(physical_devices) == 0:\n",
    "        logging.warning(\"Not enough GPU hardware devices available\")\n",
    "    else:\n",
    "        tf.config.experimental.set_memory_growth(physical_devices[0], True)\n",
    "\n",
    "allow_soft_placement()\n",
    "\n",
    "import os\n",
    "os.chdir('../src/models/')\n",
    "\n",
    "import sys\n",
    "from dotenv import load_dotenv, find_dotenv\n",
    "import numpy as np\n",
    "import pandas as pd\n",
    "from hyperopt import space_eval\n",
    "sys.path.append(os.path.abspath(\"../..\"))\n",
    "sys.path.append(os.path.abspath('../code_snippets/'))\n",
    "\n",
    "# find .env automagically by walking up directories until it's found\n",
    "dotenv_path = find_dotenv()\n",
    "# load up the entries as environment variables\n",
    "load_dotenv(dotenv_path)\n",
    "# import pandas as pd\n",
    "\n",
    "import random\n",
    "import matplotlib.pyplot as plt\n",
    "from src.code_snippets.utils.data_handler import read_pickle,save_to_pickle\n",
    "from src.code_snippets.models.many_to_one_models import BidirectionalLSTM\n",
    "from src.code_snippets.models.hyperparameter_tuning import safeHyperopt,extract_trial_results\n",
    "import seaborn as sns\n",
    "from hyperopt import hp, space_eval\n",
    "from src.code_snippets.visualization.hyperparameter_tuning import analyze_hyperparameters\n",
    "from itertools import product"
   ]
  },
  {
   "cell_type": "code",
   "execution_count": 2,
   "metadata": {},
   "outputs": [],
   "source": [
    "from tensorflow.nn import relu"
   ]
  },
  {
   "cell_type": "code",
   "execution_count": 3,
   "metadata": {},
   "outputs": [],
   "source": [
    "from src.code_snippets.evaluation.model_evaluation import plot_metrics"
   ]
  },
  {
   "cell_type": "code",
   "execution_count": 4,
   "metadata": {},
   "outputs": [],
   "source": [
    "seed = 100\n",
    "random.seed(seed)\n",
    "np.random.seed(seed)"
   ]
  },
  {
   "cell_type": "code",
   "execution_count": 5,
   "metadata": {},
   "outputs": [],
   "source": [
    "train_data = read_pickle('../../data/processed/processed_data_train.pickle')\n",
    "val_data = read_pickle('../../data/processed/processed_data_val.pickle')\n",
    "test_data = read_pickle('../../data/processed/processed_data_test.pickle')\n"
   ]
  },
  {
   "cell_type": "code",
   "execution_count": 6,
   "metadata": {},
   "outputs": [
    {
     "name": "stdout",
     "output_type": "stream",
     "text": [
      "Num GPUs Available:  1\n"
     ]
    }
   ],
   "source": [
    "num_gpus_available = len(tf.config.experimental.list_physical_devices('GPU'))\n",
    "assert num_gpus_available == 1, 'GPU IS NOT AVAILABLE' \n",
    "print(\"Num GPUs Available: \",num_gpus_available )"
   ]
  },
  {
   "cell_type": "code",
   "execution_count": 8,
   "metadata": {},
   "outputs": [],
   "source": [
    "trials = read_pickle('../../models/InceptionTime//V1/trials.pickle')\n",
    "space = read_pickle('../../models/InceptionTime/V1/space_hyperopt.pickle')"
   ]
  },
  {
   "cell_type": "code",
   "execution_count": 13,
   "metadata": {},
   "outputs": [
    {
     "data": {
      "text/plain": [
       "100"
      ]
     },
     "execution_count": 13,
     "metadata": {},
     "output_type": "execute_result"
    }
   ],
   "source": [
    "len(trials.trials)"
   ]
  },
  {
   "cell_type": "code",
   "execution_count": 14,
   "metadata": {},
   "outputs": [
    {
     "data": {
      "text/plain": [
       "'experiments_dict= {}\\nfor k in space.keys():\\n    experiments_dict[k] = [sample(space)[k] for i in range(1000)]'"
      ]
     },
     "execution_count": 14,
     "metadata": {},
     "output_type": "execute_result"
    }
   ],
   "source": [
    "'''experiments_dict= {}\n",
    "for k in space.keys():\n",
    "    experiments_dict[k] = [sample(space)[k] for i in range(1000)]'''"
   ]
  },
  {
   "cell_type": "code",
   "execution_count": 15,
   "metadata": {},
   "outputs": [
    {
     "data": {
      "text/plain": [
       "'{k:[min(v),max(v)] for k,v in experiments_dict.items()}'"
      ]
     },
     "execution_count": 15,
     "metadata": {},
     "output_type": "execute_result"
    }
   ],
   "source": [
    "'''{k:[min(v),max(v)] for k,v in experiments_dict.items()}'''"
   ]
  },
  {
   "cell_type": "code",
   "execution_count": 16,
   "metadata": {},
   "outputs": [
    {
     "name": "stdout",
     "output_type": "stream",
     "text": [
      "0.1915948987007141\n"
     ]
    },
    {
     "data": {
      "text/plain": [
       "{'batch_size': 512,\n",
       " 'dropout': 0.30000000000000004,\n",
       " 'epochs': 100,\n",
       " 'learning_rate': 0.0037443089842123757,\n",
       " 'max_pool': False,\n",
       " 'num_modules': 6,\n",
       " 'spatial_dropout': 0.30000000000000004}"
      ]
     },
     "execution_count": 16,
     "metadata": {},
     "output_type": "execute_result"
    }
   ],
   "source": [
    "best_params = space_eval(space,trials.argmin) \n",
    "print(trials.best_trial['result']['loss'])\n",
    "best_params\n"
   ]
  },
  {
   "cell_type": "code",
   "execution_count": 17,
   "metadata": {},
   "outputs": [
    {
     "data": {
      "image/png": "[encoded data removed]",
      "text/plain": [
       "<Figure size 432x288 with 1 Axes>"
      ]
     },
     "metadata": {
      "needs_background": "light"
     },
     "output_type": "display_data"
    }
   ],
   "source": [
    "plot_metrics(\n",
    "             trials.best_trial['result']['model_history'],\n",
    "             ylim=(0,0.4)\n",
    "                )"
   ]
  },
  {
   "cell_type": "code",
   "execution_count": 18,
   "metadata": {},
   "outputs": [],
   "source": [
    "results = list(map(lambda x: extract_trial_results(x,space),trials.trials))"
   ]
  },
  {
   "cell_type": "code",
   "execution_count": 19,
   "metadata": {},
   "outputs": [],
   "source": [
    "results = pd.DataFrame(results)\n",
    "results.drop('epochs',axis=1,inplace=True)\n",
    "results.sort_values(by='f1_val',inplace=True,ascending=False)"
   ]
  },
  {
   "cell_type": "code",
   "execution_count": 22,
   "metadata": {},
   "outputs": [
    {
     "data": {
      "text/plain": [
       "Index(['batch_size', 'dropout', 'learning_rate', 'max_pool', 'num_modules',\n",
       "       'spatial_dropout', 'num_epochs', 'f1_train', 'f1_val'],\n",
       "      dtype='object')"
      ]
     },
     "execution_count": 22,
     "metadata": {},
     "output_type": "execute_result"
    }
   ],
   "source": [
    "results.columns"
   ]
  },
  {
   "cell_type": "code",
   "execution_count": 32,
   "metadata": {},
   "outputs": [
    {
     "data": {
      "image/png": "[encoded data removed]",
      "text/plain": [
       "<Figure size 432x288 with 1 Axes>"
      ]
     },
     "metadata": {
      "needs_background": "light"
     },
     "output_type": "display_data"
    },
    {
     "data": {
      "image/png": "[encoded data removed]",
      "text/plain": [
       "<Figure size 432x288 with 1 Axes>"
      ]
     },
     "metadata": {
      "needs_background": "light"
     },
     "output_type": "display_data"
    },
    {
     "data": {
      "image/png": "[encoded data removed]",
      "text/plain": [
       "<Figure size 432x288 with 1 Axes>"
      ]
     },
     "metadata": {
      "needs_background": "light"
     },
     "output_type": "display_data"
    },
    {
     "data": {
      "image/png": "[encoded data removed]",
      "text/plain": [
       "<Figure size 432x288 with 1 Axes>"
      ]
     },
     "metadata": {
      "needs_background": "light"
     },
     "output_type": "display_data"
    },
    {
     "data": {
      "image/png": "[encoded data removed]",
      "text/plain": [
       "<Figure size 432x288 with 1 Axes>"
      ]
     },
     "metadata": {
      "needs_background": "light"
     },
     "output_type": "display_data"
    },
    {
     "data": {
      "image/png": "[encoded data removed]",
      "text/plain": [
       "<Figure size 432x288 with 1 Axes>"
      ]
     },
     "metadata": {
      "needs_background": "light"
     },
     "output_type": "display_data"
    },
    {
     "data": {
      "application/vnd.plotly.v1+json": {
       "config": {
        "plotlyServerURL": "https://plot.ly"
       },
       "data": [
        {
         "dimensions": [
          {
           "label": "batch_size",
           "values": [
            512,
            256,
            512,
            512,
            512,
            512,
            512,
            512,
            512,
            256,
            512,
            512,
            512,
            256,
            512,
            256,
            512,
            512,
            512,
            512,
            256,
            512,
            512,
            256,
            512,
            512,
            256,
            512,
            512,
            512,
            512,
            256,
            256,
            512,
            512,
            256,
            256,
            512,
            256,
            512,
            128,
            256,
            512,
            128,
            512,
            256,
            512,
            256,
            256,
            256,
            256,
            64,
            256,
            512,
            128,
            256,
            64,
            512,
            256,
            64,
            512,
            128,
            64,
            128,
            256,
            128,
            256,
            64,
            512,
            256,
            64,
            256,
            128,
            64,
            64,
            512,
            256,
            128,
            128,
            64,
            128,
            64,
            128,
            256,
            256,
            64,
            64,
            128,
            32,
            32,
            32,
            32,
            32,
            32,
            32,
            32,
            32,
            32,
            32,
            32
           ]
          },
          {
           "label": "dropout",
           "values": [
            0.30000000000000004,
            0.30000000000000004,
            0.4,
            0.30000000000000004,
            0.30000000000000004,
            0.4,
            0.2,
            0.4,
            0.5,
            0.5,
            0.30000000000000004,
            0.4,
            0.2,
            0.30000000000000004,
            0.4,
            0.1,
            0.4,
            0.30000000000000004,
            0.30000000000000004,
            0.4,
            0.5,
            0.30000000000000004,
            0.5,
            0.30000000000000004,
            0.30000000000000004,
            0.4,
            0.30000000000000004,
            0.30000000000000004,
            0.4,
            0.4,
            0.4,
            0.5,
            0.30000000000000004,
            0.4,
            0.4,
            0.30000000000000004,
            0.4,
            0.4,
            0.5,
            0.30000000000000004,
            0.2,
            0.2,
            0.30000000000000004,
            0.2,
            0.30000000000000004,
            0.5,
            0.4,
            0.1,
            0.2,
            0.5,
            0.30000000000000004,
            0.4,
            0.2,
            0.4,
            0.30000000000000004,
            0.30000000000000004,
            0.2,
            0.4,
            0.30000000000000004,
            0.4,
            0.5,
            0.30000000000000004,
            0.2,
            0.4,
            0.30000000000000004,
            0.5,
            0.30000000000000004,
            0.4,
            0.1,
            0.2,
            0.1,
            0.5,
            0.5,
            0.4,
            0.1,
            0.2,
            0.30000000000000004,
            0.30000000000000004,
            0.30000000000000004,
            0.1,
            0.5,
            0.30000000000000004,
            0.30000000000000004,
            0.5,
            0.1,
            0.4,
            0.30000000000000004,
            0.4,
            0.1,
            0.30000000000000004,
            0.5,
            0.1,
            0.1,
            0.4,
            0.30000000000000004,
            0.2,
            0.30000000000000004,
            0.1,
            0.30000000000000004,
            0.1
           ]
          },
          {
           "label": "num_modules",
           "values": [
            6,
            6,
            6,
            6,
            6,
            6,
            6,
            6,
            6,
            6,
            6,
            5,
            6,
            6,
            6,
            6,
            6,
            5,
            5,
            6,
            6,
            4,
            4,
            6,
            6,
            4,
            6,
            5,
            6,
            6,
            6,
            5,
            4,
            6,
            3,
            6,
            3,
            3,
            5,
            4,
            6,
            6,
            4,
            5,
            6,
            4,
            6,
            6,
            6,
            3,
            5,
            5,
            4,
            3,
            6,
            3,
            5,
            6,
            6,
            5,
            6,
            6,
            6,
            6,
            6,
            6,
            3,
            6,
            3,
            5,
            6,
            5,
            3,
            6,
            3,
            6,
            4,
            4,
            6,
            6,
            3,
            6,
            4,
            6,
            3,
            3,
            5,
            3,
            6,
            6,
            6,
            6,
            6,
            6,
            6,
            4,
            4,
            6,
            6,
            4
           ]
          },
          {
           "label": "learning_rate",
           "values": [
            0.0037443089842123757,
            0.004388798202983572,
            0.002639759705141015,
            0.0022180972353988467,
            0.0009817143466676807,
            0.006414480550566434,
            0.00683680449029466,
            0.006142701830013672,
            0.003785118205132636,
            0.0015920559243939492,
            0.0030253743264204614,
            0.007796604284308798,
            0.0032286742173960508,
            0.015207400600473887,
            0.022638222608174687,
            0.012917413728306168,
            0.03628139028248157,
            0.016386335252519046,
            0.005696981041490976,
            0.004405130769714169,
            0.0045111335963292105,
            0.009822197728433414,
            0.00409614776697774,
            0.001054787422790489,
            0.005550004461060854,
            0.09937295214910655,
            0.0010073940850050791,
            0.0003668203584169181,
            0.00855783338597642,
            0.0016231734359129619,
            0.0025023874171455902,
            0.0006588588057616496,
            0.0018014271378653539,
            0.0070726089187094195,
            0.0003994455791838722,
            0.0021186440956880563,
            0.0028796459093592005,
            0.0035692652307585553,
            0.018059998433435424,
            0.0025555764276097475,
            0.00958741798103806,
            0.0012712843397019902,
            0.0008158447650284373,
            0.01355724929603143,
            0.0005633321892402265,
            0.038265172813121244,
            0.00500398762311798,
            0.0006722083035154799,
            0.00014399543293665151,
            0.001913270690277023,
            0.0019460707288971961,
            0.003349045397528512,
            0.018038589676066284,
            0.03037725719401157,
            0.01206749831357562,
            0.007780509749000752,
            0.0013253519475507354,
            0.0008824270722522982,
            0.0050822203943401935,
            0.06186017496331449,
            0.09000710306270314,
            0.028061069551080318,
            0.006094278968424228,
            0.043714412114443255,
            0.0003510876916187352,
            0.09777871284567038,
            0.0005362779846419909,
            0.012081898342633353,
            0.0011040110597538785,
            0.00143724787879328,
            0.0003106434536882349,
            0.0034395697332251806,
            0.0004923501243956402,
            0.001184278120194759,
            0.00020534695362478005,
            0.00024701572148111195,
            0.0014848653132469019,
            0.00042879845708589933,
            0.00010237090806493241,
            0.01031265026038364,
            0.004621142243949263,
            0.00025091786736729726,
            0.02089791383614657,
            0.00011402833164550048,
            0.0006795611289892227,
            0.013697825494201153,
            0.00012118335177375412,
            0.06728547140610654,
            0.0008863556595309614,
            0.0019200563344792725,
            0.051127299910047656,
            0.0021186971118277364,
            0.0025166408393582397,
            0.010669832803455175,
            0.001650496407725512,
            0.009296557336662374,
            0.0024848904272210598,
            0.000739222807757126,
            0.02385558194308577,
            0.0001484785352168857
           ]
          },
          {
           "label": "spatial_dropout",
           "values": [
            0.30000000000000004,
            0.1,
            0.1,
            0.30000000000000004,
            0.30000000000000004,
            0.1,
            0.2,
            0.1,
            0.1,
            0.5,
            0.5,
            0.1,
            0.1,
            0.2,
            0.2,
            0.30000000000000004,
            0.1,
            0.1,
            0.5,
            0.1,
            0.5,
            0.4,
            0.2,
            0.1,
            0.4,
            0.30000000000000004,
            0.30000000000000004,
            0.30000000000000004,
            0.4,
            0.1,
            0.1,
            0.5,
            0.1,
            0.1,
            0.5,
            0.1,
            0.1,
            0.5,
            0.5,
            0.30000000000000004,
            0.1,
            0.4,
            0.30000000000000004,
            0.5,
            0.1,
            0.5,
            0.1,
            0.4,
            0.4,
            0.2,
            0.1,
            0.1,
            0.1,
            0.1,
            0.2,
            0.5,
            0.4,
            0.5,
            0.1,
            0.4,
            0.2,
            0.30000000000000004,
            0.4,
            0.5,
            0.1,
            0.2,
            0.30000000000000004,
            0.30000000000000004,
            0.1,
            0.1,
            0.4,
            0.2,
            0.2,
            0.5,
            0.4,
            0.1,
            0.1,
            0.1,
            0.30000000000000004,
            0.1,
            0.2,
            0.30000000000000004,
            0.1,
            0.1,
            0.1,
            0.4,
            0.1,
            0.2,
            0.30000000000000004,
            0.5,
            0.30000000000000004,
            0.1,
            0.30000000000000004,
            0.30000000000000004,
            0.30000000000000004,
            0.30000000000000004,
            0.30000000000000004,
            0.30000000000000004,
            0.1,
            0.1
           ]
          },
          {
           "label": "f1_val",
           "values": [
            0.8084051012992859,
            0.805159330368042,
            0.80495285987854,
            0.8047364354133606,
            0.8045629858970642,
            0.8026236295700073,
            0.8023583889007568,
            0.8020058870315552,
            0.8017029166221619,
            0.801254153251648,
            0.800725519657135,
            0.8006432056427002,
            0.8006422519683838,
            0.8003798723220825,
            0.8000986576080322,
            0.7995765209197998,
            0.7991899847984314,
            0.7987058162689209,
            0.797726571559906,
            0.7977170944213867,
            0.7975701689720154,
            0.7975485324859619,
            0.7974715828895569,
            0.7973015904426575,
            0.7972511649131775,
            0.7971441745758057,
            0.7969485521316528,
            0.7968613505363464,
            0.7966217398643494,
            0.7963996529579163,
            0.7959312200546265,
            0.7957517504692078,
            0.7954263091087341,
            0.7954205274581909,
            0.7953059673309326,
            0.7951084971427917,
            0.7950398325920105,
            0.7944891452789307,
            0.7942550778388977,
            0.7941405773162842,
            0.7940191030502319,
            0.7939849495887756,
            0.7939053177833557,
            0.7937390208244324,
            0.7937110662460327,
            0.7934523820877075,
            0.7933753132820129,
            0.793123722076416,
            0.7928788661956787,
            0.7925084829330444,
            0.7924225330352783,
            0.7918649315834045,
            0.7913466095924377,
            0.7908074259757996,
            0.7903281450271606,
            0.7901580333709717,
            0.7900702357292175,
            0.7900143265724182,
            0.7900092601776123,
            0.7899804711341858,
            0.7897903919219971,
            0.7896725535392761,
            0.7895908355712891,
            0.7893642783164978,
            0.7886198163032532,
            0.788123607635498,
            0.7880241870880127,
            0.7879756689071655,
            0.7879225015640259,
            0.7874876260757446,
            0.7872183918952942,
            0.7867581248283386,
            0.7864251732826233,
            0.7859784364700317,
            0.7859293222427368,
            0.7859145402908325,
            0.7851005792617798,
            0.7841276526451111,
            0.7841254472732544,
            0.7813572287559509,
            0.7813053727149963,
            0.7805613875389099,
            0.7786435484886169,
            0.7773001194000244,
            0.7769205570220947,
            0.7764263153076172,
            0.7753174901008606,
            0.7752726674079895,
            0.7541355490684509,
            0.7481382489204407,
            0.7453245520591736,
            0.7445951700210571,
            0.7444002628326416,
            0.74299156665802,
            0.7424903512001038,
            0.7419580221176147,
            0.7413766384124756,
            0.7404516935348511,
            0.7371312975883484,
            0.7315676808357239
           ]
          }
         ],
         "domain": {
          "x": [
           0,
           1
          ],
          "y": [
           0,
           1
          ]
         },
         "line": {
          "color": [
           0.8084051012992859,
           0.805159330368042,
           0.80495285987854,
           0.8047364354133606,
           0.8045629858970642,
           0.8026236295700073,
           0.8023583889007568,
           0.8020058870315552,
           0.8017029166221619,
           0.801254153251648,
           0.800725519657135,
           0.8006432056427002,
           0.8006422519683838,
           0.8003798723220825,
           0.8000986576080322,
           0.7995765209197998,
           0.7991899847984314,
           0.7987058162689209,
           0.797726571559906,
           0.7977170944213867,
           0.7975701689720154,
           0.7975485324859619,
           0.7974715828895569,
           0.7973015904426575,
           0.7972511649131775,
           0.7971441745758057,
           0.7969485521316528,
           0.7968613505363464,
           0.7966217398643494,
           0.7963996529579163,
           0.7959312200546265,
           0.7957517504692078,
           0.7954263091087341,
           0.7954205274581909,
           0.7953059673309326,
           0.7951084971427917,
           0.7950398325920105,
           0.7944891452789307,
           0.7942550778388977,
           0.7941405773162842,
           0.7940191030502319,
           0.7939849495887756,
           0.7939053177833557,
           0.7937390208244324,
           0.7937110662460327,
           0.7934523820877075,
           0.7933753132820129,
           0.793123722076416,
           0.7928788661956787,
           0.7925084829330444,
           0.7924225330352783,
           0.7918649315834045,
           0.7913466095924377,
           0.7908074259757996,
           0.7903281450271606,
           0.7901580333709717,
           0.7900702357292175,
           0.7900143265724182,
           0.7900092601776123,
           0.7899804711341858,
           0.7897903919219971,
           0.7896725535392761,
           0.7895908355712891,
           0.7893642783164978,
           0.7886198163032532,
           0.788123607635498,
           0.7880241870880127,
           0.7879756689071655,
           0.7879225015640259,
           0.7874876260757446,
           0.7872183918952942,
           0.7867581248283386,
           0.7864251732826233,
           0.7859784364700317,
           0.7859293222427368,
           0.7859145402908325,
           0.7851005792617798,
           0.7841276526451111,
           0.7841254472732544,
           0.7813572287559509,
           0.7813053727149963,
           0.7805613875389099,
           0.7786435484886169,
           0.7773001194000244,
           0.7769205570220947,
           0.7764263153076172,
           0.7753174901008606,
           0.7752726674079895,
           0.7541355490684509,
           0.7481382489204407,
           0.7453245520591736,
           0.7445951700210571,
           0.7444002628326416,
           0.74299156665802,
           0.7424903512001038,
           0.7419580221176147,
           0.7413766384124756,
           0.7404516935348511,
           0.7371312975883484,
           0.7315676808357239
          ],
          "coloraxis": "coloraxis"
         },
         "name": "",
         "type": "parcoords"
        }
       ],
       "layout": {
        "autosize": true,
        "coloraxis": {
         "colorbar": {
          "title": {
           "text": "f1_val"
          }
         },
         "colorscale": [
          [
           0,
           "rgb(165,0,38)"
          ],
          [
           0.1,
           "rgb(215,48,39)"
          ],
          [
           0.2,
           "rgb(244,109,67)"
          ],
          [
           0.3,
           "rgb(253,174,97)"
          ],
          [
           0.4,
           "rgb(254,224,139)"
          ],
          [
           0.5,
           "rgb(255,255,191)"
          ],
          [
           0.6,
           "rgb(217,239,139)"
          ],
          [
           0.7,
           "rgb(166,217,106)"
          ],
          [
           0.8,
           "rgb(102,189,99)"
          ],
          [
           0.9,
           "rgb(26,152,80)"
          ],
          [
           1,
           "rgb(0,104,55)"
          ]
         ]
        },
        "legend": {
         "tracegroupgap": 0
        },
        "margin": {
         "t": 60
        },
        "template": {
         "data": {
          "bar": [
           {
            "error_x": {
             "color": "#2a3f5f"
            },
            "error_y": {
             "color": "#2a3f5f"
            },
            "marker": {
             "line": {
              "color": "#E5ECF6",
              "width": 0.5
             }
            },
            "type": "bar"
           }
          ],
          "barpolar": [
           {
            "marker": {
             "line": {
              "color": "#E5ECF6",
              "width": 0.5
             }
            },
            "type": "barpolar"
           }
          ],
          "carpet": [
           {
            "aaxis": {
             "endlinecolor": "#2a3f5f",
             "gridcolor": "white",
             "linecolor": "white",
             "minorgridcolor": "white",
             "startlinecolor": "#2a3f5f"
            },
            "baxis": {
             "endlinecolor": "#2a3f5f",
             "gridcolor": "white",
             "linecolor": "white",
             "minorgridcolor": "white",
             "startlinecolor": "#2a3f5f"
            },
            "type": "carpet"
           }
          ],
          "choropleth": [
           {
            "colorbar": {
             "outlinewidth": 0,
             "ticks": ""
            },
            "type": "choropleth"
           }
          ],
          "contour": [
           {
            "colorbar": {
             "outlinewidth": 0,
             "ticks": ""
            },
            "colorscale": [
             [
              0,
              "#0d0887"
             ],
             [
              0.1111111111111111,
              "#46039f"
             ],
             [
              0.2222222222222222,
              "#7201a8"
             ],
             [
              0.3333333333333333,
              "#9c179e"
             ],
             [
              0.4444444444444444,
              "#bd3786"
             ],
             [
              0.5555555555555556,
              "#d8576b"
             ],
             [
              0.6666666666666666,
              "#ed7953"
             ],
             [
              0.7777777777777778,
              "#fb9f3a"
             ],
             [
              0.8888888888888888,
              "#fdca26"
             ],
             [
              1,
              "#f0f921"
             ]
            ],
            "type": "contour"
           }
          ],
          "contourcarpet": [
           {
            "colorbar": {
             "outlinewidth": 0,
             "ticks": ""
            },
            "type": "contourcarpet"
           }
          ],
          "heatmap": [
           {
            "colorbar": {
             "outlinewidth": 0,
             "ticks": ""
            },
            "colorscale": [
             [
              0,
              "#0d0887"
             ],
             [
              0.1111111111111111,
              "#46039f"
             ],
             [
              0.2222222222222222,
              "#7201a8"
             ],
             [
              0.3333333333333333,
              "#9c179e"
             ],
             [
              0.4444444444444444,
              "#bd3786"
             ],
             [
              0.5555555555555556,
              "#d8576b"
             ],
             [
              0.6666666666666666,
              "#ed7953"
             ],
             [
              0.7777777777777778,
              "#fb9f3a"
             ],
             [
              0.8888888888888888,
              "#fdca26"
             ],
             [
              1,
              "#f0f921"
             ]
            ],
            "type": "heatmap"
           }
          ],
          "heatmapgl": [
           {
            "colorbar": {
             "outlinewidth": 0,
             "ticks": ""
            },
            "colorscale": [
             [
              0,
              "#0d0887"
             ],
             [
              0.1111111111111111,
              "#46039f"
             ],
             [
              0.2222222222222222,
              "#7201a8"
             ],
             [
              0.3333333333333333,
              "#9c179e"
             ],
             [
              0.4444444444444444,
              "#bd3786"
             ],
             [
              0.5555555555555556,
              "#d8576b"
             ],
             [
              0.6666666666666666,
              "#ed7953"
             ],
             [
              0.7777777777777778,
              "#fb9f3a"
             ],
             [
              0.8888888888888888,
              "#fdca26"
             ],
             [
              1,
              "#f0f921"
             ]
            ],
            "type": "heatmapgl"
           }
          ],
          "histogram": [
           {
            "marker": {
             "colorbar": {
              "outlinewidth": 0,
              "ticks": ""
             }
            },
            "type": "histogram"
           }
          ],
          "histogram2d": [
           {
            "colorbar": {
             "outlinewidth": 0,
             "ticks": ""
            },
            "colorscale": [
             [
              0,
              "#0d0887"
             ],
             [
              0.1111111111111111,
              "#46039f"
             ],
             [
              0.2222222222222222,
              "#7201a8"
             ],
             [
              0.3333333333333333,
              "#9c179e"
             ],
             [
              0.4444444444444444,
              "#bd3786"
             ],
             [
              0.5555555555555556,
              "#d8576b"
             ],
             [
              0.6666666666666666,
              "#ed7953"
             ],
             [
              0.7777777777777778,
              "#fb9f3a"
             ],
             [
              0.8888888888888888,
              "#fdca26"
             ],
             [
              1,
              "#f0f921"
             ]
            ],
            "type": "histogram2d"
           }
          ],
          "histogram2dcontour": [
           {
            "colorbar": {
             "outlinewidth": 0,
             "ticks": ""
            },
            "colorscale": [
             [
              0,
              "#0d0887"
             ],
             [
              0.1111111111111111,
              "#46039f"
             ],
             [
              0.2222222222222222,
              "#7201a8"
             ],
             [
              0.3333333333333333,
              "#9c179e"
             ],
             [
              0.4444444444444444,
              "#bd3786"
             ],
             [
              0.5555555555555556,
              "#d8576b"
             ],
             [
              0.6666666666666666,
              "#ed7953"
             ],
             [
              0.7777777777777778,
              "#fb9f3a"
             ],
             [
              0.8888888888888888,
              "#fdca26"
             ],
             [
              1,
              "#f0f921"
             ]
            ],
            "type": "histogram2dcontour"
           }
          ],
          "mesh3d": [
           {
            "colorbar": {
             "outlinewidth": 0,
             "ticks": ""
            },
            "type": "mesh3d"
           }
          ],
          "parcoords": [
           {
            "line": {
             "colorbar": {
              "outlinewidth": 0,
              "ticks": ""
             }
            },
            "type": "parcoords"
           }
          ],
          "pie": [
           {
            "automargin": true,
            "type": "pie"
           }
          ],
          "scatter": [
           {
            "marker": {
             "colorbar": {
              "outlinewidth": 0,
              "ticks": ""
             }
            },
            "type": "scatter"
           }
          ],
          "scatter3d": [
           {
            "line": {
             "colorbar": {
              "outlinewidth": 0,
              "ticks": ""
             }
            },
            "marker": {
             "colorbar": {
              "outlinewidth": 0,
              "ticks": ""
             }
            },
            "type": "scatter3d"
           }
          ],
          "scattercarpet": [
           {
            "marker": {
             "colorbar": {
              "outlinewidth": 0,
              "ticks": ""
             }
            },
            "type": "scattercarpet"
           }
          ],
          "scattergeo": [
           {
            "marker": {
             "colorbar": {
              "outlinewidth": 0,
              "ticks": ""
             }
            },
            "type": "scattergeo"
           }
          ],
          "scattergl": [
           {
            "marker": {
             "colorbar": {
              "outlinewidth": 0,
              "ticks": ""
             }
            },
            "type": "scattergl"
           }
          ],
          "scattermapbox": [
           {
            "marker": {
             "colorbar": {
              "outlinewidth": 0,
              "ticks": ""
             }
            },
            "type": "scattermapbox"
           }
          ],
          "scatterpolar": [
           {
            "marker": {
             "colorbar": {
              "outlinewidth": 0,
              "ticks": ""
             }
            },
            "type": "scatterpolar"
           }
          ],
          "scatterpolargl": [
           {
            "marker": {
             "colorbar": {
              "outlinewidth": 0,
              "ticks": ""
             }
            },
            "type": "scatterpolargl"
           }
          ],
          "scatterternary": [
           {
            "marker": {
             "colorbar": {
              "outlinewidth": 0,
              "ticks": ""
             }
            },
            "type": "scatterternary"
           }
          ],
          "surface": [
           {
            "colorbar": {
             "outlinewidth": 0,
             "ticks": ""
            },
            "colorscale": [
             [
              0,
              "#0d0887"
             ],
             [
              0.1111111111111111,
              "#46039f"
             ],
             [
              0.2222222222222222,
              "#7201a8"
             ],
             [
              0.3333333333333333,
              "#9c179e"
             ],
             [
              0.4444444444444444,
              "#bd3786"
             ],
             [
              0.5555555555555556,
              "#d8576b"
             ],
             [
              0.6666666666666666,
              "#ed7953"
             ],
             [
              0.7777777777777778,
              "#fb9f3a"
             ],
             [
              0.8888888888888888,
              "#fdca26"
             ],
             [
              1,
              "#f0f921"
             ]
            ],
            "type": "surface"
           }
          ],
          "table": [
           {
            "cells": {
             "fill": {
              "color": "#EBF0F8"
             },
             "line": {
              "color": "white"
             }
            },
            "header": {
             "fill": {
              "color": "#C8D4E3"
             },
             "line": {
              "color": "white"
             }
            },
            "type": "table"
           }
          ]
         },
         "layout": {
          "annotationdefaults": {
           "arrowcolor": "#2a3f5f",
           "arrowhead": 0,
           "arrowwidth": 1
          },
          "coloraxis": {
           "colorbar": {
            "outlinewidth": 0,
            "ticks": ""
           }
          },
          "colorscale": {
           "diverging": [
            [
             0,
             "#8e0152"
            ],
            [
             0.1,
             "#c51b7d"
            ],
            [
             0.2,
             "#de77ae"
            ],
            [
             0.3,
             "#f1b6da"
            ],
            [
             0.4,
             "#fde0ef"
            ],
            [
             0.5,
             "#f7f7f7"
            ],
            [
             0.6,
             "#e6f5d0"
            ],
            [
             0.7,
             "#b8e186"
            ],
            [
             0.8,
             "#7fbc41"
            ],
            [
             0.9,
             "#4d9221"
            ],
            [
             1,
             "#276419"
            ]
           ],
           "sequential": [
            [
             0,
             "#0d0887"
            ],
            [
             0.1111111111111111,
             "#46039f"
            ],
            [
             0.2222222222222222,
             "#7201a8"
            ],
            [
             0.3333333333333333,
             "#9c179e"
            ],
            [
             0.4444444444444444,
             "#bd3786"
            ],
            [
             0.5555555555555556,
             "#d8576b"
            ],
            [
             0.6666666666666666,
             "#ed7953"
            ],
            [
             0.7777777777777778,
             "#fb9f3a"
            ],
            [
             0.8888888888888888,
             "#fdca26"
            ],
            [
             1,
             "#f0f921"
            ]
           ],
           "sequentialminus": [
            [
             0,
             "#0d0887"
            ],
            [
             0.1111111111111111,
             "#46039f"
            ],
            [
             0.2222222222222222,
             "#7201a8"
            ],
            [
             0.3333333333333333,
             "#9c179e"
            ],
            [
             0.4444444444444444,
             "#bd3786"
            ],
            [
             0.5555555555555556,
             "#d8576b"
            ],
            [
             0.6666666666666666,
             "#ed7953"
            ],
            [
             0.7777777777777778,
             "#fb9f3a"
            ],
            [
             0.8888888888888888,
             "#fdca26"
            ],
            [
             1,
             "#f0f921"
            ]
           ]
          },
          "colorway": [
           "#636efa",
           "#EF553B",
           "#00cc96",
           "#ab63fa",
           "#FFA15A",
           "#19d3f3",
           "#FF6692",
           "#B6E880",
           "#FF97FF",
           "#FECB52"
          ],
          "font": {
           "color": "#2a3f5f"
          },
          "geo": {
           "bgcolor": "white",
           "lakecolor": "white",
           "landcolor": "#E5ECF6",
           "showlakes": true,
           "showland": true,
           "subunitcolor": "white"
          },
          "hoverlabel": {
           "align": "left"
          },
          "hovermode": "closest",
          "mapbox": {
           "style": "light"
          },
          "paper_bgcolor": "white",
          "plot_bgcolor": "#E5ECF6",
          "polar": {
           "angularaxis": {
            "gridcolor": "white",
            "linecolor": "white",
            "ticks": ""
           },
           "bgcolor": "#E5ECF6",
           "radialaxis": {
            "gridcolor": "white",
            "linecolor": "white",
            "ticks": ""
           }
          },
          "scene": {
           "xaxis": {
            "backgroundcolor": "#E5ECF6",
            "gridcolor": "white",
            "gridwidth": 2,
            "linecolor": "white",
            "showbackground": true,
            "ticks": "",
            "zerolinecolor": "white"
           },
           "yaxis": {
            "backgroundcolor": "#E5ECF6",
            "gridcolor": "white",
            "gridwidth": 2,
            "linecolor": "white",
            "showbackground": true,
            "ticks": "",
            "zerolinecolor": "white"
           },
           "zaxis": {
            "backgroundcolor": "#E5ECF6",
            "gridcolor": "white",
            "gridwidth": 2,
            "linecolor": "white",
            "showbackground": true,
            "ticks": "",
            "zerolinecolor": "white"
           }
          },
          "shapedefaults": {
           "line": {
            "color": "#2a3f5f"
           }
          },
          "ternary": {
           "aaxis": {
            "gridcolor": "white",
            "linecolor": "white",
            "ticks": ""
           },
           "baxis": {
            "gridcolor": "white",
            "linecolor": "white",
            "ticks": ""
           },
           "bgcolor": "#E5ECF6",
           "caxis": {
            "gridcolor": "white",
            "linecolor": "white",
            "ticks": ""
           }
          },
          "title": {
           "x": 0.05
          },
          "xaxis": {
           "automargin": true,
           "gridcolor": "white",
           "linecolor": "white",
           "ticks": "",
           "title": {
            "standoff": 15
           },
           "zerolinecolor": "white",
           "zerolinewidth": 2
          },
          "yaxis": {
           "automargin": true,
           "gridcolor": "white",
           "linecolor": "white",
           "ticks": "",
           "title": {
            "standoff": 15
           },
           "zerolinecolor": "white",
           "zerolinewidth": 2
          }
         }
        }
       }
      },
      "image/png": "[encoded data removed]",
      "text/html": [
       "<div>\n",
       "        \n",
       "        \n",
       "            <div id=\"c1286b6c-dbe6-4c3c-bac2-2c9cea7f1fb5\" class=\"plotly-graph-div\" style=\"height:525px; width:100%;\"></div>\n",
       "            <script type=\"text/javascript\">\n",
       "                require([\"plotly\"], function(Plotly) {\n",
       "                    window.PLOTLYENV=window.PLOTLYENV || {};\n",
       "                    \n",
       "                if (document.getElementById(\"c1286b6c-dbe6-4c3c-bac2-2c9cea7f1fb5\")) {\n",
       "                    Plotly.newPlot(\n",
       "                        'c1286b6c-dbe6-4c3c-bac2-2c9cea7f1fb5',\n",
       "                        [{\"dimensions\": [{\"label\": \"batch_size\", \"values\": [512, 256, 512, 512, 512, 512, 512, 512, 512, 256, 512, 512, 512, 256, 512, 256, 512, 512, 512, 512, 256, 512, 512, 256, 512, 512, 256, 512, 512, 512, 512, 256, 256, 512, 512, 256, 256, 512, 256, 512, 128, 256, 512, 128, 512, 256, 512, 256, 256, 256, 256, 64, 256, 512, 128, 256, 64, 512, 256, 64, 512, 128, 64, 128, 256, 128, 256, 64, 512, 256, 64, 256, 128, 64, 64, 512, 256, 128, 128, 64, 128, 64, 128, 256, 256, 64, 64, 128, 32, 32, 32, 32, 32, 32, 32, 32, 32, 32, 32, 32]}, {\"label\": \"dropout\", \"values\": [0.30000000000000004, 0.30000000000000004, 0.4, 0.30000000000000004, 0.30000000000000004, 0.4, 0.2, 0.4, 0.5, 0.5, 0.30000000000000004, 0.4, 0.2, 0.30000000000000004, 0.4, 0.1, 0.4, 0.30000000000000004, 0.30000000000000004, 0.4, 0.5, 0.30000000000000004, 0.5, 0.30000000000000004, 0.30000000000000004, 0.4, 0.30000000000000004, 0.30000000000000004, 0.4, 0.4, 0.4, 0.5, 0.30000000000000004, 0.4, 0.4, 0.30000000000000004, 0.4, 0.4, 0.5, 0.30000000000000004, 0.2, 0.2, 0.30000000000000004, 0.2, 0.30000000000000004, 0.5, 0.4, 0.1, 0.2, 0.5, 0.30000000000000004, 0.4, 0.2, 0.4, 0.30000000000000004, 0.30000000000000004, 0.2, 0.4, 0.30000000000000004, 0.4, 0.5, 0.30000000000000004, 0.2, 0.4, 0.30000000000000004, 0.5, 0.30000000000000004, 0.4, 0.1, 0.2, 0.1, 0.5, 0.5, 0.4, 0.1, 0.2, 0.30000000000000004, 0.30000000000000004, 0.30000000000000004, 0.1, 0.5, 0.30000000000000004, 0.30000000000000004, 0.5, 0.1, 0.4, 0.30000000000000004, 0.4, 0.1, 0.30000000000000004, 0.5, 0.1, 0.1, 0.4, 0.30000000000000004, 0.2, 0.30000000000000004, 0.1, 0.30000000000000004, 0.1]}, {\"label\": \"num_modules\", \"values\": [6, 6, 6, 6, 6, 6, 6, 6, 6, 6, 6, 5, 6, 6, 6, 6, 6, 5, 5, 6, 6, 4, 4, 6, 6, 4, 6, 5, 6, 6, 6, 5, 4, 6, 3, 6, 3, 3, 5, 4, 6, 6, 4, 5, 6, 4, 6, 6, 6, 3, 5, 5, 4, 3, 6, 3, 5, 6, 6, 5, 6, 6, 6, 6, 6, 6, 3, 6, 3, 5, 6, 5, 3, 6, 3, 6, 4, 4, 6, 6, 3, 6, 4, 6, 3, 3, 5, 3, 6, 6, 6, 6, 6, 6, 6, 4, 4, 6, 6, 4]}, {\"label\": \"learning_rate\", \"values\": [0.0037443089842123757, 0.004388798202983572, 0.002639759705141015, 0.0022180972353988467, 0.0009817143466676807, 0.006414480550566434, 0.00683680449029466, 0.006142701830013672, 0.003785118205132636, 0.0015920559243939492, 0.0030253743264204614, 0.007796604284308798, 0.0032286742173960508, 0.015207400600473887, 0.022638222608174687, 0.012917413728306168, 0.03628139028248157, 0.016386335252519046, 0.005696981041490976, 0.004405130769714169, 0.0045111335963292105, 0.009822197728433414, 0.00409614776697774, 0.001054787422790489, 0.005550004461060854, 0.09937295214910655, 0.0010073940850050791, 0.0003668203584169181, 0.00855783338597642, 0.0016231734359129619, 0.0025023874171455902, 0.0006588588057616496, 0.0018014271378653539, 0.0070726089187094195, 0.0003994455791838722, 0.0021186440956880563, 0.0028796459093592005, 0.0035692652307585553, 0.018059998433435424, 0.0025555764276097475, 0.00958741798103806, 0.0012712843397019902, 0.0008158447650284373, 0.01355724929603143, 0.0005633321892402265, 0.038265172813121244, 0.00500398762311798, 0.0006722083035154799, 0.00014399543293665151, 0.001913270690277023, 0.0019460707288971961, 0.003349045397528512, 0.018038589676066284, 0.03037725719401157, 0.01206749831357562, 0.007780509749000752, 0.0013253519475507354, 0.0008824270722522982, 0.0050822203943401935, 0.06186017496331449, 0.09000710306270314, 0.028061069551080318, 0.006094278968424228, 0.043714412114443255, 0.0003510876916187352, 0.09777871284567038, 0.0005362779846419909, 0.012081898342633353, 0.0011040110597538785, 0.00143724787879328, 0.0003106434536882349, 0.0034395697332251806, 0.0004923501243956402, 0.001184278120194759, 0.00020534695362478005, 0.00024701572148111195, 0.0014848653132469019, 0.00042879845708589933, 0.00010237090806493241, 0.01031265026038364, 0.004621142243949263, 0.00025091786736729726, 0.02089791383614657, 0.00011402833164550048, 0.0006795611289892227, 0.013697825494201153, 0.00012118335177375412, 0.06728547140610654, 0.0008863556595309614, 0.0019200563344792725, 0.051127299910047656, 0.0021186971118277364, 0.0025166408393582397, 0.010669832803455175, 0.001650496407725512, 0.009296557336662374, 0.0024848904272210598, 0.000739222807757126, 0.02385558194308577, 0.0001484785352168857]}, {\"label\": \"spatial_dropout\", \"values\": [0.30000000000000004, 0.1, 0.1, 0.30000000000000004, 0.30000000000000004, 0.1, 0.2, 0.1, 0.1, 0.5, 0.5, 0.1, 0.1, 0.2, 0.2, 0.30000000000000004, 0.1, 0.1, 0.5, 0.1, 0.5, 0.4, 0.2, 0.1, 0.4, 0.30000000000000004, 0.30000000000000004, 0.30000000000000004, 0.4, 0.1, 0.1, 0.5, 0.1, 0.1, 0.5, 0.1, 0.1, 0.5, 0.5, 0.30000000000000004, 0.1, 0.4, 0.30000000000000004, 0.5, 0.1, 0.5, 0.1, 0.4, 0.4, 0.2, 0.1, 0.1, 0.1, 0.1, 0.2, 0.5, 0.4, 0.5, 0.1, 0.4, 0.2, 0.30000000000000004, 0.4, 0.5, 0.1, 0.2, 0.30000000000000004, 0.30000000000000004, 0.1, 0.1, 0.4, 0.2, 0.2, 0.5, 0.4, 0.1, 0.1, 0.1, 0.30000000000000004, 0.1, 0.2, 0.30000000000000004, 0.1, 0.1, 0.1, 0.4, 0.1, 0.2, 0.30000000000000004, 0.5, 0.30000000000000004, 0.1, 0.30000000000000004, 0.30000000000000004, 0.30000000000000004, 0.30000000000000004, 0.30000000000000004, 0.30000000000000004, 0.1, 0.1]}, {\"label\": \"f1_val\", \"values\": [0.8084051012992859, 0.805159330368042, 0.80495285987854, 0.8047364354133606, 0.8045629858970642, 0.8026236295700073, 0.8023583889007568, 0.8020058870315552, 0.8017029166221619, 0.801254153251648, 0.800725519657135, 0.8006432056427002, 0.8006422519683838, 0.8003798723220825, 0.8000986576080322, 0.7995765209197998, 0.7991899847984314, 0.7987058162689209, 0.797726571559906, 0.7977170944213867, 0.7975701689720154, 0.7975485324859619, 0.7974715828895569, 0.7973015904426575, 0.7972511649131775, 0.7971441745758057, 0.7969485521316528, 0.7968613505363464, 0.7966217398643494, 0.7963996529579163, 0.7959312200546265, 0.7957517504692078, 0.7954263091087341, 0.7954205274581909, 0.7953059673309326, 0.7951084971427917, 0.7950398325920105, 0.7944891452789307, 0.7942550778388977, 0.7941405773162842, 0.7940191030502319, 0.7939849495887756, 0.7939053177833557, 0.7937390208244324, 0.7937110662460327, 0.7934523820877075, 0.7933753132820129, 0.793123722076416, 0.7928788661956787, 0.7925084829330444, 0.7924225330352783, 0.7918649315834045, 0.7913466095924377, 0.7908074259757996, 0.7903281450271606, 0.7901580333709717, 0.7900702357292175, 0.7900143265724182, 0.7900092601776123, 0.7899804711341858, 0.7897903919219971, 0.7896725535392761, 0.7895908355712891, 0.7893642783164978, 0.7886198163032532, 0.788123607635498, 0.7880241870880127, 0.7879756689071655, 0.7879225015640259, 0.7874876260757446, 0.7872183918952942, 0.7867581248283386, 0.7864251732826233, 0.7859784364700317, 0.7859293222427368, 0.7859145402908325, 0.7851005792617798, 0.7841276526451111, 0.7841254472732544, 0.7813572287559509, 0.7813053727149963, 0.7805613875389099, 0.7786435484886169, 0.7773001194000244, 0.7769205570220947, 0.7764263153076172, 0.7753174901008606, 0.7752726674079895, 0.7541355490684509, 0.7481382489204407, 0.7453245520591736, 0.7445951700210571, 0.7444002628326416, 0.74299156665802, 0.7424903512001038, 0.7419580221176147, 0.7413766384124756, 0.7404516935348511, 0.7371312975883484, 0.7315676808357239]}], \"domain\": {\"x\": [0.0, 1.0], \"y\": [0.0, 1.0]}, \"line\": {\"color\": [0.8084051012992859, 0.805159330368042, 0.80495285987854, 0.8047364354133606, 0.8045629858970642, 0.8026236295700073, 0.8023583889007568, 0.8020058870315552, 0.8017029166221619, 0.801254153251648, 0.800725519657135, 0.8006432056427002, 0.8006422519683838, 0.8003798723220825, 0.8000986576080322, 0.7995765209197998, 0.7991899847984314, 0.7987058162689209, 0.797726571559906, 0.7977170944213867, 0.7975701689720154, 0.7975485324859619, 0.7974715828895569, 0.7973015904426575, 0.7972511649131775, 0.7971441745758057, 0.7969485521316528, 0.7968613505363464, 0.7966217398643494, 0.7963996529579163, 0.7959312200546265, 0.7957517504692078, 0.7954263091087341, 0.7954205274581909, 0.7953059673309326, 0.7951084971427917, 0.7950398325920105, 0.7944891452789307, 0.7942550778388977, 0.7941405773162842, 0.7940191030502319, 0.7939849495887756, 0.7939053177833557, 0.7937390208244324, 0.7937110662460327, 0.7934523820877075, 0.7933753132820129, 0.793123722076416, 0.7928788661956787, 0.7925084829330444, 0.7924225330352783, 0.7918649315834045, 0.7913466095924377, 0.7908074259757996, 0.7903281450271606, 0.7901580333709717, 0.7900702357292175, 0.7900143265724182, 0.7900092601776123, 0.7899804711341858, 0.7897903919219971, 0.7896725535392761, 0.7895908355712891, 0.7893642783164978, 0.7886198163032532, 0.788123607635498, 0.7880241870880127, 0.7879756689071655, 0.7879225015640259, 0.7874876260757446, 0.7872183918952942, 0.7867581248283386, 0.7864251732826233, 0.7859784364700317, 0.7859293222427368, 0.7859145402908325, 0.7851005792617798, 0.7841276526451111, 0.7841254472732544, 0.7813572287559509, 0.7813053727149963, 0.7805613875389099, 0.7786435484886169, 0.7773001194000244, 0.7769205570220947, 0.7764263153076172, 0.7753174901008606, 0.7752726674079895, 0.7541355490684509, 0.7481382489204407, 0.7453245520591736, 0.7445951700210571, 0.7444002628326416, 0.74299156665802, 0.7424903512001038, 0.7419580221176147, 0.7413766384124756, 0.7404516935348511, 0.7371312975883484, 0.7315676808357239], \"coloraxis\": \"coloraxis\"}, \"name\": \"\", \"type\": \"parcoords\"}],\n",
       "                        {\"coloraxis\": {\"colorbar\": {\"title\": {\"text\": \"f1_val\"}}, \"colorscale\": [[0.0, \"rgb(165,0,38)\"], [0.1, \"rgb(215,48,39)\"], [0.2, \"rgb(244,109,67)\"], [0.3, \"rgb(253,174,97)\"], [0.4, \"rgb(254,224,139)\"], [0.5, \"rgb(255,255,191)\"], [0.6, \"rgb(217,239,139)\"], [0.7, \"rgb(166,217,106)\"], [0.8, \"rgb(102,189,99)\"], [0.9, \"rgb(26,152,80)\"], [1.0, \"rgb(0,104,55)\"]]}, \"legend\": {\"tracegroupgap\": 0}, \"margin\": {\"t\": 60}, \"template\": {\"data\": {\"bar\": [{\"error_x\": {\"color\": \"#2a3f5f\"}, \"error_y\": {\"color\": \"#2a3f5f\"}, \"marker\": {\"line\": {\"color\": \"#E5ECF6\", \"width\": 0.5}}, \"type\": \"bar\"}], \"barpolar\": [{\"marker\": {\"line\": {\"color\": \"#E5ECF6\", \"width\": 0.5}}, \"type\": \"barpolar\"}], \"carpet\": [{\"aaxis\": {\"endlinecolor\": \"#2a3f5f\", \"gridcolor\": \"white\", \"linecolor\": \"white\", \"minorgridcolor\": \"white\", \"startlinecolor\": \"#2a3f5f\"}, \"baxis\": {\"endlinecolor\": \"#2a3f5f\", \"gridcolor\": \"white\", \"linecolor\": \"white\", \"minorgridcolor\": \"white\", \"startlinecolor\": \"#2a3f5f\"}, \"type\": \"carpet\"}], \"choropleth\": [{\"colorbar\": {\"outlinewidth\": 0, \"ticks\": \"\"}, \"type\": \"choropleth\"}], \"contour\": [{\"colorbar\": {\"outlinewidth\": 0, \"ticks\": \"\"}, \"colorscale\": [[0.0, \"#0d0887\"], [0.1111111111111111, \"#46039f\"], [0.2222222222222222, \"#7201a8\"], [0.3333333333333333, \"#9c179e\"], [0.4444444444444444, \"#bd3786\"], [0.5555555555555556, \"#d8576b\"], [0.6666666666666666, \"#ed7953\"], [0.7777777777777778, \"#fb9f3a\"], [0.8888888888888888, \"#fdca26\"], [1.0, \"#f0f921\"]], \"type\": \"contour\"}], \"contourcarpet\": [{\"colorbar\": {\"outlinewidth\": 0, \"ticks\": \"\"}, \"type\": \"contourcarpet\"}], \"heatmap\": [{\"colorbar\": {\"outlinewidth\": 0, \"ticks\": \"\"}, \"colorscale\": [[0.0, \"#0d0887\"], [0.1111111111111111, \"#46039f\"], [0.2222222222222222, \"#7201a8\"], [0.3333333333333333, \"#9c179e\"], [0.4444444444444444, \"#bd3786\"], [0.5555555555555556, \"#d8576b\"], [0.6666666666666666, \"#ed7953\"], [0.7777777777777778, \"#fb9f3a\"], [0.8888888888888888, \"#fdca26\"], [1.0, \"#f0f921\"]], \"type\": \"heatmap\"}], \"heatmapgl\": [{\"colorbar\": {\"outlinewidth\": 0, \"ticks\": \"\"}, \"colorscale\": [[0.0, \"#0d0887\"], [0.1111111111111111, \"#46039f\"], [0.2222222222222222, \"#7201a8\"], [0.3333333333333333, \"#9c179e\"], [0.4444444444444444, \"#bd3786\"], [0.5555555555555556, \"#d8576b\"], [0.6666666666666666, \"#ed7953\"], [0.7777777777777778, \"#fb9f3a\"], [0.8888888888888888, \"#fdca26\"], [1.0, \"#f0f921\"]], \"type\": \"heatmapgl\"}], \"histogram\": [{\"marker\": {\"colorbar\": {\"outlinewidth\": 0, \"ticks\": \"\"}}, \"type\": \"histogram\"}], \"histogram2d\": [{\"colorbar\": {\"outlinewidth\": 0, \"ticks\": \"\"}, \"colorscale\": [[0.0, \"#0d0887\"], [0.1111111111111111, \"#46039f\"], [0.2222222222222222, \"#7201a8\"], [0.3333333333333333, \"#9c179e\"], [0.4444444444444444, \"#bd3786\"], [0.5555555555555556, \"#d8576b\"], [0.6666666666666666, \"#ed7953\"], [0.7777777777777778, \"#fb9f3a\"], [0.8888888888888888, \"#fdca26\"], [1.0, \"#f0f921\"]], \"type\": \"histogram2d\"}], \"histogram2dcontour\": [{\"colorbar\": {\"outlinewidth\": 0, \"ticks\": \"\"}, \"colorscale\": [[0.0, \"#0d0887\"], [0.1111111111111111, \"#46039f\"], [0.2222222222222222, \"#7201a8\"], [0.3333333333333333, \"#9c179e\"], [0.4444444444444444, \"#bd3786\"], [0.5555555555555556, \"#d8576b\"], [0.6666666666666666, \"#ed7953\"], [0.7777777777777778, \"#fb9f3a\"], [0.8888888888888888, \"#fdca26\"], [1.0, \"#f0f921\"]], \"type\": \"histogram2dcontour\"}], \"mesh3d\": [{\"colorbar\": {\"outlinewidth\": 0, \"ticks\": \"\"}, \"type\": \"mesh3d\"}], \"parcoords\": [{\"line\": {\"colorbar\": {\"outlinewidth\": 0, \"ticks\": \"\"}}, \"type\": \"parcoords\"}], \"pie\": [{\"automargin\": true, \"type\": \"pie\"}], \"scatter\": [{\"marker\": {\"colorbar\": {\"outlinewidth\": 0, \"ticks\": \"\"}}, \"type\": \"scatter\"}], \"scatter3d\": [{\"line\": {\"colorbar\": {\"outlinewidth\": 0, \"ticks\": \"\"}}, \"marker\": {\"colorbar\": {\"outlinewidth\": 0, \"ticks\": \"\"}}, \"type\": \"scatter3d\"}], \"scattercarpet\": [{\"marker\": {\"colorbar\": {\"outlinewidth\": 0, \"ticks\": \"\"}}, \"type\": \"scattercarpet\"}], \"scattergeo\": [{\"marker\": {\"colorbar\": {\"outlinewidth\": 0, \"ticks\": \"\"}}, \"type\": \"scattergeo\"}], \"scattergl\": [{\"marker\": {\"colorbar\": {\"outlinewidth\": 0, \"ticks\": \"\"}}, \"type\": \"scattergl\"}], \"scattermapbox\": [{\"marker\": {\"colorbar\": {\"outlinewidth\": 0, \"ticks\": \"\"}}, \"type\": \"scattermapbox\"}], \"scatterpolar\": [{\"marker\": {\"colorbar\": {\"outlinewidth\": 0, \"ticks\": \"\"}}, \"type\": \"scatterpolar\"}], \"scatterpolargl\": [{\"marker\": {\"colorbar\": {\"outlinewidth\": 0, \"ticks\": \"\"}}, \"type\": \"scatterpolargl\"}], \"scatterternary\": [{\"marker\": {\"colorbar\": {\"outlinewidth\": 0, \"ticks\": \"\"}}, \"type\": \"scatterternary\"}], \"surface\": [{\"colorbar\": {\"outlinewidth\": 0, \"ticks\": \"\"}, \"colorscale\": [[0.0, \"#0d0887\"], [0.1111111111111111, \"#46039f\"], [0.2222222222222222, \"#7201a8\"], [0.3333333333333333, \"#9c179e\"], [0.4444444444444444, \"#bd3786\"], [0.5555555555555556, \"#d8576b\"], [0.6666666666666666, \"#ed7953\"], [0.7777777777777778, \"#fb9f3a\"], [0.8888888888888888, \"#fdca26\"], [1.0, \"#f0f921\"]], \"type\": \"surface\"}], \"table\": [{\"cells\": {\"fill\": {\"color\": \"#EBF0F8\"}, \"line\": {\"color\": \"white\"}}, \"header\": {\"fill\": {\"color\": \"#C8D4E3\"}, \"line\": {\"color\": \"white\"}}, \"type\": \"table\"}]}, \"layout\": {\"annotationdefaults\": {\"arrowcolor\": \"#2a3f5f\", \"arrowhead\": 0, \"arrowwidth\": 1}, \"coloraxis\": {\"colorbar\": {\"outlinewidth\": 0, \"ticks\": \"\"}}, \"colorscale\": {\"diverging\": [[0, \"#8e0152\"], [0.1, \"#c51b7d\"], [0.2, \"#de77ae\"], [0.3, \"#f1b6da\"], [0.4, \"#fde0ef\"], [0.5, \"#f7f7f7\"], [0.6, \"#e6f5d0\"], [0.7, \"#b8e186\"], [0.8, \"#7fbc41\"], [0.9, \"#4d9221\"], [1, \"#276419\"]], \"sequential\": [[0.0, \"#0d0887\"], [0.1111111111111111, \"#46039f\"], [0.2222222222222222, \"#7201a8\"], [0.3333333333333333, \"#9c179e\"], [0.4444444444444444, \"#bd3786\"], [0.5555555555555556, \"#d8576b\"], [0.6666666666666666, \"#ed7953\"], [0.7777777777777778, \"#fb9f3a\"], [0.8888888888888888, \"#fdca26\"], [1.0, \"#f0f921\"]], \"sequentialminus\": [[0.0, \"#0d0887\"], [0.1111111111111111, \"#46039f\"], [0.2222222222222222, \"#7201a8\"], [0.3333333333333333, \"#9c179e\"], [0.4444444444444444, \"#bd3786\"], [0.5555555555555556, \"#d8576b\"], [0.6666666666666666, \"#ed7953\"], [0.7777777777777778, \"#fb9f3a\"], [0.8888888888888888, \"#fdca26\"], [1.0, \"#f0f921\"]]}, \"colorway\": [\"#636efa\", \"#EF553B\", \"#00cc96\", \"#ab63fa\", \"#FFA15A\", \"#19d3f3\", \"#FF6692\", \"#B6E880\", \"#FF97FF\", \"#FECB52\"], \"font\": {\"color\": \"#2a3f5f\"}, \"geo\": {\"bgcolor\": \"white\", \"lakecolor\": \"white\", \"landcolor\": \"#E5ECF6\", \"showlakes\": true, \"showland\": true, \"subunitcolor\": \"white\"}, \"hoverlabel\": {\"align\": \"left\"}, \"hovermode\": \"closest\", \"mapbox\": {\"style\": \"light\"}, \"paper_bgcolor\": \"white\", \"plot_bgcolor\": \"#E5ECF6\", \"polar\": {\"angularaxis\": {\"gridcolor\": \"white\", \"linecolor\": \"white\", \"ticks\": \"\"}, \"bgcolor\": \"#E5ECF6\", \"radialaxis\": {\"gridcolor\": \"white\", \"linecolor\": \"white\", \"ticks\": \"\"}}, \"scene\": {\"xaxis\": {\"backgroundcolor\": \"#E5ECF6\", \"gridcolor\": \"white\", \"gridwidth\": 2, \"linecolor\": \"white\", \"showbackground\": true, \"ticks\": \"\", \"zerolinecolor\": \"white\"}, \"yaxis\": {\"backgroundcolor\": \"#E5ECF6\", \"gridcolor\": \"white\", \"gridwidth\": 2, \"linecolor\": \"white\", \"showbackground\": true, \"ticks\": \"\", \"zerolinecolor\": \"white\"}, \"zaxis\": {\"backgroundcolor\": \"#E5ECF6\", \"gridcolor\": \"white\", \"gridwidth\": 2, \"linecolor\": \"white\", \"showbackground\": true, \"ticks\": \"\", \"zerolinecolor\": \"white\"}}, \"shapedefaults\": {\"line\": {\"color\": \"#2a3f5f\"}}, \"ternary\": {\"aaxis\": {\"gridcolor\": \"white\", \"linecolor\": \"white\", \"ticks\": \"\"}, \"baxis\": {\"gridcolor\": \"white\", \"linecolor\": \"white\", \"ticks\": \"\"}, \"bgcolor\": \"#E5ECF6\", \"caxis\": {\"gridcolor\": \"white\", \"linecolor\": \"white\", \"ticks\": \"\"}}, \"title\": {\"x\": 0.05}, \"xaxis\": {\"automargin\": true, \"gridcolor\": \"white\", \"linecolor\": \"white\", \"ticks\": \"\", \"title\": {\"standoff\": 15}, \"zerolinecolor\": \"white\", \"zerolinewidth\": 2}, \"yaxis\": {\"automargin\": true, \"gridcolor\": \"white\", \"linecolor\": \"white\", \"ticks\": \"\", \"title\": {\"standoff\": 15}, \"zerolinecolor\": \"white\", \"zerolinewidth\": 2}}}},\n",
       "                        {\"responsive\": true}\n",
       "                    ).then(function(){\n",
       "                            \n",
       "var gd = document.getElementById('c1286b6c-dbe6-4c3c-bac2-2c9cea7f1fb5');\n",
       "var x = new MutationObserver(function (mutations, observer) {{\n",
       "        var display = window.getComputedStyle(gd).display;\n",
       "        if (!display || display === 'none') {{\n",
       "            console.log([gd, 'removed!']);\n",
       "            Plotly.purge(gd);\n",
       "            observer.disconnect();\n",
       "        }}\n",
       "}});\n",
       "\n",
       "// Listen for the removal of the full notebook cells\n",
       "var notebookContainer = gd.closest('#notebook-container');\n",
       "if (notebookContainer) {{\n",
       "    x.observe(notebookContainer, {childList: true});\n",
       "}}\n",
       "\n",
       "// Listen for the clearing of the current output cell\n",
       "var outputEl = gd.closest('.output');\n",
       "if (outputEl) {{\n",
       "    x.observe(outputEl, {childList: true});\n",
       "}}\n",
       "\n",
       "                        })\n",
       "                };\n",
       "                });\n",
       "            </script>\n",
       "        </div>"
      ]
     },
     "metadata": {},
     "output_type": "display_data"
    }
   ],
   "source": [
    "hyperparameters = [   'batch_size', 'dropout',\n",
    "                      'max_pool', 'num_modules',\n",
    "                      'learning_rate',\n",
    "                       'spatial_dropout' ]\n",
    "data = results\n",
    "log_scale_vars = ['learning_rate']\n",
    "score_col = 'f1_val'\n",
    "analyze_hyperparameters(data,score_col,hyperparameters,log_scale_vars)"
   ]
  },
  {
   "cell_type": "markdown",
   "metadata": {},
   "source": [
    "# Learning Rate decay"
   ]
  },
  {
   "cell_type": "code",
   "execution_count": 26,
   "metadata": {},
   "outputs": [
    {
     "data": {
      "text/plain": [
       "[0.8062088489532471,\n",
       " 0.8057096600532532,\n",
       " 0.8052108287811279,\n",
       " 0.8129705190658569,\n",
       " 0.8077196478843689,\n",
       " 0.8039025664329529,\n",
       " 0.8097567558288574,\n",
       " 0.8125963807106018,\n",
       " 0.8078747987747192,\n",
       " 0.8152490258216858,\n",
       " 0.8123054504394531,\n",
       " 0.808692216873169,\n",
       " 0.8091004490852356,\n",
       " 0.8109654784202576,\n",
       " 0.8082376718521118]"
      ]
     },
     "execution_count": 26,
     "metadata": {},
     "output_type": "execute_result"
    }
   ],
   "source": [
    "[1-i['loss'] for i in trials]"
   ]
  },
  {
   "cell_type": "code",
   "execution_count": 41,
   "metadata": {},
   "outputs": [
    {
     "data": {
      "text/plain": [
       "0.05508076964054035"
      ]
     },
     "execution_count": 41,
     "metadata": {},
     "output_type": "execute_result"
    }
   ],
   "source": [
    "10**(-1.259)"
   ]
  },
  {
   "cell_type": "markdown",
   "metadata": {},
   "source": [
    "# ======================================================================================="
   ]
  },
  {
   "cell_type": "markdown",
   "metadata": {},
   "source": [
    "# Evaluate"
   ]
  },
  {
   "cell_type": "code",
   "execution_count": 15,
   "metadata": {},
   "outputs": [
    {
     "name": "stdout",
     "output_type": "stream",
     "text": [
      "Executing op RandomUniform in device /job:localhost/replica:0/task:0/device:CPU:0\n",
      "Executing op Sub in device /job:localhost/replica:0/task:0/device:CPU:0\n",
      "Executing op Mul in device /job:localhost/replica:0/task:0/device:CPU:0\n",
      "Executing op Add in device /job:localhost/replica:0/task:0/device:CPU:0\n",
      "Executing op VarHandleOp in device /job:localhost/replica:0/task:0/device:CPU:0\n",
      "Executing op VarIsInitializedOp in device /job:localhost/replica:0/task:0/device:CPU:0\n",
      "Executing op LogicalNot in device /job:localhost/replica:0/task:0/device:CPU:0\n",
      "Executing op Assert in device /job:localhost/replica:0/task:0/device:CPU:0\n",
      "Executing op AssignVariableOp in device /job:localhost/replica:0/task:0/device:CPU:0\n",
      "Executing op RandomUniform in device /job:localhost/replica:0/task:0/device:GPU:0\n",
      "Executing op Sub in device /job:localhost/replica:0/task:0/device:GPU:0\n",
      "Executing op Mul in device /job:localhost/replica:0/task:0/device:GPU:0\n",
      "Executing op Add in device /job:localhost/replica:0/task:0/device:GPU:0\n",
      "Executing op VarHandleOp in device /job:localhost/replica:0/task:0/device:GPU:0\n",
      "Executing op VarIsInitializedOp in device /job:localhost/replica:0/task:0/device:GPU:0\n",
      "Executing op LogicalNot in device /job:localhost/replica:0/task:0/device:GPU:0\n",
      "Executing op Assert in device /job:localhost/replica:0/task:0/device:GPU:0\n",
      "Executing op AssignVariableOp in device /job:localhost/replica:0/task:0/device:GPU:0\n",
      "Executing op RandomStandardNormal in device /job:localhost/replica:0/task:0/device:GPU:0\n",
      "Executing op Qr in device /job:localhost/replica:0/task:0/device:GPU:0\n",
      "Executing op DiagPart in device /job:localhost/replica:0/task:0/device:GPU:0\n",
      "Executing op Sign in device /job:localhost/replica:0/task:0/device:GPU:0\n",
      "Executing op Transpose in device /job:localhost/replica:0/task:0/device:GPU:0\n",
      "Executing op Reshape in device /job:localhost/replica:0/task:0/device:GPU:0\n",
      "Executing op VarHandleOp in device /job:localhost/replica:0/task:0/device:GPU:0\n",
      "Executing op Fill in device /job:localhost/replica:0/task:0/device:GPU:0\n",
      "Executing op ConcatV2 in device /job:localhost/replica:0/task:0/device:GPU:0\n",
      "Executing op VarHandleOp in device /job:localhost/replica:0/task:0/device:GPU:0\n",
      "Executing op VarHandleOp in device /job:localhost/replica:0/task:0/device:GPU:0\n",
      "Executing op VarHandleOp in device /job:localhost/replica:0/task:0/device:GPU:0\n",
      "Executing op VarHandleOp in device /job:localhost/replica:0/task:0/device:GPU:0\n",
      "Executing op VarHandleOp in device /job:localhost/replica:0/task:0/device:GPU:0\n",
      "Executing op VarHandleOp in device /job:localhost/replica:0/task:0/device:GPU:0\n",
      "Executing op VarHandleOp in device /job:localhost/replica:0/task:0/device:GPU:0\n",
      "Executing op Fill in device /job:localhost/replica:0/task:0/device:GPU:0\n",
      "Executing op VarHandleOp in device /job:localhost/replica:0/task:0/device:GPU:0\n",
      "Executing op AssignVariableOp in device /job:localhost/replica:0/task:0/device:GPU:0\n",
      "Executing op Fill in device /job:localhost/replica:0/task:0/device:GPU:0\n",
      "Executing op VarHandleOp in device /job:localhost/replica:0/task:0/device:GPU:0\n",
      "Executing op LogicalNot in device /job:localhost/replica:0/task:0/device:GPU:0\n",
      "Executing op Assert in device /job:localhost/replica:0/task:0/device:GPU:0\n",
      "Executing op VarHandleOp in device /job:localhost/replica:0/task:0/device:GPU:0\n",
      "Executing op VarHandleOp in device /job:localhost/replica:0/task:0/device:GPU:0\n",
      "Executing op VarHandleOp in device /job:localhost/replica:0/task:0/device:GPU:0\n",
      "Executing op VarHandleOp in device /job:localhost/replica:0/task:0/device:GPU:0\n",
      "Executing op VarHandleOp in device /job:localhost/replica:0/task:0/device:GPU:0\n",
      "Executing op VarHandleOp in device /job:localhost/replica:0/task:0/device:GPU:0\n",
      "Executing op VarHandleOp in device /job:localhost/replica:0/task:0/device:GPU:0\n",
      "Executing op ReadVariableOp in device /job:localhost/replica:0/task:0/device:GPU:0\n",
      "Executing op Identity in device /job:localhost/replica:0/task:0/device:GPU:0\n",
      "Executing op ReadVariableOp in device /job:localhost/replica:0/task:0/device:GPU:0\n",
      "Executing op Identity in device /job:localhost/replica:0/task:0/device:GPU:0\n"
     ]
    }
   ],
   "source": [
    "from src.code_snippets.evaluation.model_evaluation import f1_metric\n",
    "model = tf.keras.models.load_model('../../models/BidirectionalLSTM/model.h5',custom_objects={'f1_metric':f1_metric})\n",
    "\n",
    "trainer = BidirectionalLSTM(train_data,\n",
    "                            val_data,\n",
    "                            \"../../data/raw/pretrained_embeddings/glove.twitter.27B/glove.twitter.27B.200d.txt\",\n",
    "                            model=model)\n"
   ]
  },
  {
   "cell_type": "code",
   "execution_count": 16,
   "metadata": {},
   "outputs": [
    {
     "name": "stdout",
     "output_type": "stream",
     "text": [
      "Executing op RangeDataset in device /job:localhost/replica:0/task:0/device:CPU:0\n",
      "Executing op RepeatDataset in device /job:localhost/replica:0/task:0/device:CPU:0\n",
      "Executing op MapDataset in device /job:localhost/replica:0/task:0/device:CPU:0\n",
      "Executing op PrefetchDataset in device /job:localhost/replica:0/task:0/device:CPU:0\n",
      "Executing op FlatMapDataset in device /job:localhost/replica:0/task:0/device:CPU:0\n",
      "Executing op TensorDataset in device /job:localhost/replica:0/task:0/device:CPU:0\n",
      "Executing op RepeatDataset in device /job:localhost/replica:0/task:0/device:CPU:0\n",
      "Executing op ZipDataset in device /job:localhost/replica:0/task:0/device:CPU:0\n",
      "Executing op ParallelMapDataset in device /job:localhost/replica:0/task:0/device:CPU:0\n",
      "Executing op ModelDataset in device /job:localhost/replica:0/task:0/device:CPU:0\n",
      "Executing op AnonymousIteratorV2 in device /job:localhost/replica:0/task:0/device:CPU:0\n",
      "Executing op MakeIterator in device /job:localhost/replica:0/task:0/device:CPU:0\n",
      "Executing op __inference_predict_function_14722 in device /job:localhost/replica:0/task:0/device:GPU:0\n",
      "Executing op ConcatV2 in device /job:localhost/replica:0/task:0/device:GPU:0\n",
      "Executing op DeleteIterator in device /job:localhost/replica:0/task:0/device:CPU:0\n",
      "Executing op Minimum in device /job:localhost/replica:0/task:0/device:GPU:0\n",
      "Executing op Maximum in device /job:localhost/replica:0/task:0/device:GPU:0\n",
      "Executing op Round in device /job:localhost/replica:0/task:0/device:GPU:0\n",
      "Executing op Sum in device /job:localhost/replica:0/task:0/device:GPU:0\n",
      "Executing op AddV2 in device /job:localhost/replica:0/task:0/device:GPU:0\n",
      "Executing op RealDiv in device /job:localhost/replica:0/task:0/device:GPU:0\n"
     ]
    },
    {
     "data": {
      "text/plain": [
       "0.8225806"
      ]
     },
     "execution_count": 16,
     "metadata": {},
     "output_type": "execute_result"
    }
   ],
   "source": [
    "trainer.generate_metrics(trainer.val_data['X_indices'],y_test = trainer.val_data['y'])"
   ]
  },
  {
   "cell_type": "code",
   "execution_count": 18,
   "metadata": {},
   "outputs": [
    {
     "name": "stdout",
     "output_type": "stream",
     "text": [
      "Executing op RangeDataset in device /job:localhost/replica:0/task:0/device:CPU:0\n",
      "Executing op RepeatDataset in device /job:localhost/replica:0/task:0/device:CPU:0\n",
      "Executing op MapDataset in device /job:localhost/replica:0/task:0/device:CPU:0\n",
      "Executing op PrefetchDataset in device /job:localhost/replica:0/task:0/device:CPU:0\n",
      "Executing op FlatMapDataset in device /job:localhost/replica:0/task:0/device:CPU:0\n",
      "Executing op TensorDataset in device /job:localhost/replica:0/task:0/device:CPU:0\n",
      "Executing op RepeatDataset in device /job:localhost/replica:0/task:0/device:CPU:0\n",
      "Executing op ZipDataset in device /job:localhost/replica:0/task:0/device:CPU:0\n",
      "Executing op ParallelMapDataset in device /job:localhost/replica:0/task:0/device:CPU:0\n",
      "Executing op ModelDataset in device /job:localhost/replica:0/task:0/device:CPU:0\n",
      "Executing op ConcatV2 in device /job:localhost/replica:0/task:0/device:GPU:0\n"
     ]
    },
    {
     "data": {
      "text/plain": [
       "<tf.Tensor: shape=(), dtype=float32, numpy=0.8157349>"
      ]
     },
     "execution_count": 18,
     "metadata": {},
     "output_type": "execute_result"
    }
   ],
   "source": [
    "preds = model.predict(test_data['X_indices'])\n",
    "f1_metric(test_data['y'].astype('float32'),preds)"
   ]
  },
  {
   "cell_type": "code",
   "execution_count": 19,
   "metadata": {},
   "outputs": [],
   "source": [
    "from scikitplot.metrics import plot_confusion_matrix"
   ]
  },
  {
   "cell_type": "code",
   "execution_count": 20,
   "metadata": {},
   "outputs": [
    {
     "data": {
      "text/plain": [
       "<matplotlib.axes._subplots.AxesSubplot at 0x7f0a6d4bbcd0>"
      ]
     },
     "execution_count": 20,
     "metadata": {},
     "output_type": "execute_result"
    },
    {
     "data": {
      "image/png": "[encoded data removed]",
      "text/plain": [
       "<Figure size 432x288 with 2 Axes>"
      ]
     },
     "metadata": {
      "needs_background": "light"
     },
     "output_type": "display_data"
    }
   ],
   "source": [
    "plot_confusion_matrix(test_data['y'],(preds>=0.5)*1,normalize=True)"
   ]
  },
  {
   "cell_type": "code",
   "execution_count": 105,
   "metadata": {},
   "outputs": [
    {
     "name": "stdout",
     "output_type": "stream",
     "text": [
      "Executing op RangeDataset in device /job:localhost/replica:0/task:0/device:CPU:0\n",
      "Executing op RepeatDataset in device /job:localhost/replica:0/task:0/device:CPU:0\n",
      "Executing op MapDataset in device /job:localhost/replica:0/task:0/device:CPU:0\n",
      "Executing op PrefetchDataset in device /job:localhost/replica:0/task:0/device:CPU:0\n",
      "Executing op FlatMapDataset in device /job:localhost/replica:0/task:0/device:CPU:0\n",
      "Executing op TensorDataset in device /job:localhost/replica:0/task:0/device:CPU:0\n",
      "Executing op RepeatDataset in device /job:localhost/replica:0/task:0/device:CPU:0\n",
      "Executing op ZipDataset in device /job:localhost/replica:0/task:0/device:CPU:0\n",
      "Executing op ParallelMapDataset in device /job:localhost/replica:0/task:0/device:CPU:0\n",
      "Executing op ModelDataset in device /job:localhost/replica:0/task:0/device:CPU:0\n"
     ]
    },
    {
     "data": {
      "text/plain": [
       "<matplotlib.axes._subplots.AxesSubplot at 0x7f0eeab9a6d8>"
      ]
     },
     "execution_count": 105,
     "metadata": {},
     "output_type": "execute_result"
    },
    {
     "data": {
      "image/png": "[encoded data removed]",
      "text/plain": [
       "<Figure size 432x288 with 2 Axes>"
      ]
     },
     "metadata": {
      "needs_background": "light"
     },
     "output_type": "display_data"
    }
   ],
   "source": [
    "plot_confusion_matrix(val_data['y'],(model.predict(val_data['X_indices'])>=0.5)*1,normalize=True)"
   ]
  },
  {
   "cell_type": "code",
   "execution_count": 91,
   "metadata": {},
   "outputs": [
    {
     "name": "stdout",
     "output_type": "stream",
     "text": [
      "Executing op RangeDataset in device /job:localhost/replica:0/task:0/device:CPU:0\n",
      "Executing op RepeatDataset in device /job:localhost/replica:0/task:0/device:CPU:0\n",
      "Executing op MapDataset in device /job:localhost/replica:0/task:0/device:CPU:0\n",
      "Executing op PrefetchDataset in device /job:localhost/replica:0/task:0/device:CPU:0\n",
      "Executing op FlatMapDataset in device /job:localhost/replica:0/task:0/device:CPU:0\n",
      "Executing op TensorDataset in device /job:localhost/replica:0/task:0/device:CPU:0\n",
      "Executing op RepeatDataset in device /job:localhost/replica:0/task:0/device:CPU:0\n",
      "Executing op ZipDataset in device /job:localhost/replica:0/task:0/device:CPU:0\n",
      "Executing op ParallelMapDataset in device /job:localhost/replica:0/task:0/device:CPU:0\n",
      "Executing op ModelDataset in device /job:localhost/replica:0/task:0/device:CPU:0\n"
     ]
    },
    {
     "data": {
      "text/plain": [
       "0.9875213572949819"
      ]
     },
     "execution_count": 91,
     "metadata": {},
     "output_type": "execute_result"
    }
   ],
   "source": [
    "roc_auc_score(val_data['y'],model.predict(val_data['X_indices']))"
   ]
  },
  {
   "cell_type": "code",
   "execution_count": null,
   "metadata": {},
   "outputs": [],
   "source": [
    "def get_layer_output(model,layer,input_):\n",
    "    get_layer_output = K.function([model.layers[0].input],\n",
    "                      [model.layers[layer].output])\n",
    "\n",
    "    layer_output = get_layer_output(input_)\n",
    "    return layer_output[0]"
   ]
  },
  {
   "cell_type": "code",
   "execution_count": 19,
   "metadata": {},
   "outputs": [],
   "source": [
    "trainer.model(n_units=256,\n",
    "             add_recurrent_layer=True,\n",
    "             dropout=0.4,\n",
    "             spatial_dropout=0.4,\n",
    "             hidden_dense_units=128,\n",
    "             learning_rate=0.0017436142055397088,\n",
    "             global_avg_pool=False,\n",
    "             global_max_pool=False\n",
    "    )\n",
    "\n"
   ]
  },
  {
   "cell_type": "code",
   "execution_count": 20,
   "metadata": {},
   "outputs": [
    {
     "name": "stdout",
     "output_type": "stream",
     "text": [
      "Model: \"model_1\"\n",
      "_________________________________________________________________\n",
      "Layer (type)                 Output Shape              Param #   \n",
      "=================================================================\n",
      "input_2 (InputLayer)         [(None, 115)]             0         \n",
      "_________________________________________________________________\n",
      "embedding_1 (Embedding)      (None, 115, 200)          238703000 \n",
      "_________________________________________________________________\n",
      "spatial_dropout1d_1 (Spatial (None, 115, 200)          0         \n",
      "_________________________________________________________________\n",
      "bidirectional_2 (Bidirection (None, 115, 512)          935936    \n",
      "_________________________________________________________________\n",
      "bidirectional_3 (Bidirection (None, 512)               1574912   \n",
      "_________________________________________________________________\n",
      "dense_2 (Dense)              (None, 128)               65664     \n",
      "_________________________________________________________________\n",
      "batch_normalization_1 (Batch (None, 128)               512       \n",
      "_________________________________________________________________\n",
      "activation_1 (Activation)    (None, 128)               0         \n",
      "_________________________________________________________________\n",
      "dropout_1 (Dropout)          (None, 128)               0         \n",
      "_________________________________________________________________\n",
      "dense_3 (Dense)              (None, 1)                 129       \n",
      "=================================================================\n",
      "Total params: 241,280,153\n",
      "Trainable params: 2,576,897\n",
      "Non-trainable params: 238,703,256\n",
      "_________________________________________________________________\n"
     ]
    }
   ],
   "source": [
    "trainer.model.summary()"
   ]
  },
  {
   "cell_type": "code",
   "execution_count": 21,
   "metadata": {},
   "outputs": [
    {
     "name": "stdout",
     "output_type": "stream",
     "text": [
      "Executing op RangeDataset in device /job:localhost/replica:0/task:0/device:CPU:0\n",
      "Executing op RepeatDataset in device /job:localhost/replica:0/task:0/device:CPU:0\n",
      "Executing op MapDataset in device /job:localhost/replica:0/task:0/device:CPU:0\n",
      "Executing op PrefetchDataset in device /job:localhost/replica:0/task:0/device:CPU:0\n",
      "Executing op FlatMapDataset in device /job:localhost/replica:0/task:0/device:CPU:0\n",
      "Executing op TensorDataset in device /job:localhost/replica:0/task:0/device:CPU:0\n",
      "Executing op RepeatDataset in device /job:localhost/replica:0/task:0/device:CPU:0\n",
      "Executing op ZipDataset in device /job:localhost/replica:0/task:0/device:CPU:0\n",
      "Executing op ParallelMapDataset in device /job:localhost/replica:0/task:0/device:CPU:0\n",
      "Executing op RangeDataset in device /job:localhost/replica:0/task:0/device:CPU:0\n",
      "Executing op RepeatDataset in device /job:localhost/replica:0/task:0/device:CPU:0\n",
      "Executing op MapDataset in device /job:localhost/replica:0/task:0/device:CPU:0\n",
      "Executing op PrefetchDataset in device /job:localhost/replica:0/task:0/device:CPU:0\n",
      "Executing op FlatMapDataset in device /job:localhost/replica:0/task:0/device:CPU:0\n",
      "Executing op TensorDataset in device /job:localhost/replica:0/task:0/device:CPU:0\n",
      "Executing op RepeatDataset in device /job:localhost/replica:0/task:0/device:CPU:0\n",
      "Executing op ZipDataset in device /job:localhost/replica:0/task:0/device:CPU:0\n",
      "Executing op ParallelMapDataset in device /job:localhost/replica:0/task:0/device:CPU:0\n",
      "Executing op DatasetCardinality in device /job:localhost/replica:0/task:0/device:CPU:0\n",
      "Train on 122920 samples, validate on 6489 samples\n",
      "Epoch 1/100\n",
      "Executing op ModelDataset in device /job:localhost/replica:0/task:0/device:CPU:0\n",
      "Executing op AnonymousIteratorV2 in device /job:localhost/replica:0/task:0/device:CPU:0\n",
      "Executing op MakeIterator in device /job:localhost/replica:0/task:0/device:CPU:0\n",
      "Executing op VarHandleOp in device /job:localhost/replica:0/task:0/device:GPU:0\n",
      "Executing op AssignVariableOp in device /job:localhost/replica:0/task:0/device:GPU:0\n",
      "Executing op VarHandleOp in device /job:localhost/replica:0/task:0/device:GPU:0\n",
      "Executing op VarHandleOp in device /job:localhost/replica:0/task:0/device:GPU:0\n",
      "Executing op VarHandleOp in device /job:localhost/replica:0/task:0/device:GPU:0\n",
      "Executing op VarHandleOp in device /job:localhost/replica:0/task:0/device:GPU:0\n",
      "Executing op VarHandleOp in device /job:localhost/replica:0/task:0/device:GPU:0\n",
      "Executing op LogicalNot in device /job:localhost/replica:0/task:0/device:GPU:0\n",
      "Executing op Assert in device /job:localhost/replica:0/task:0/device:GPU:0\n",
      "Executing op VarHandleOp in device /job:localhost/replica:0/task:0/device:GPU:0\n",
      "Executing op VarHandleOp in device /job:localhost/replica:0/task:0/device:GPU:0\n",
      "Executing op VarHandleOp in device /job:localhost/replica:0/task:0/device:GPU:0\n",
      "Executing op VarHandleOp in device /job:localhost/replica:0/task:0/device:GPU:0\n",
      "Executing op VarHandleOp in device /job:localhost/replica:0/task:0/device:GPU:0\n",
      "Executing op VarHandleOp in device /job:localhost/replica:0/task:0/device:GPU:0\n",
      "Executing op VarHandleOp in device /job:localhost/replica:0/task:0/device:GPU:0\n",
      "Executing op VarHandleOp in device /job:localhost/replica:0/task:0/device:GPU:0\n",
      "Executing op VarHandleOp in device /job:localhost/replica:0/task:0/device:GPU:0\n",
      "Executing op VarHandleOp in device /job:localhost/replica:0/task:0/device:GPU:0\n",
      "Executing op VarHandleOp in device /job:localhost/replica:0/task:0/device:GPU:0\n",
      "Executing op VarHandleOp in device /job:localhost/replica:0/task:0/device:GPU:0\n",
      "Executing op VarHandleOp in device /job:localhost/replica:0/task:0/device:GPU:0\n",
      "Executing op VarHandleOp in device /job:localhost/replica:0/task:0/device:GPU:0\n",
      "Executing op VarHandleOp in device /job:localhost/replica:0/task:0/device:GPU:0\n",
      "Executing op VarHandleOp in device /job:localhost/replica:0/task:0/device:GPU:0\n",
      "Executing op VarHandleOp in device /job:localhost/replica:0/task:0/device:GPU:0\n",
      "Executing op VarHandleOp in device /job:localhost/replica:0/task:0/device:GPU:0\n",
      "Executing op VarHandleOp in device /job:localhost/replica:0/task:0/device:GPU:0\n",
      "Executing op VarHandleOp in device /job:localhost/replica:0/task:0/device:GPU:0\n",
      "Executing op VarHandleOp in device /job:localhost/replica:0/task:0/device:GPU:0\n",
      "Executing op VarHandleOp in device /job:localhost/replica:0/task:0/device:GPU:0\n",
      "Executing op VarHandleOp in device /job:localhost/replica:0/task:0/device:GPU:0\n",
      "Executing op VarHandleOp in device /job:localhost/replica:0/task:0/device:GPU:0\n",
      "Executing op VarHandleOp in device /job:localhost/replica:0/task:0/device:GPU:0\n",
      "Executing op VarHandleOp in device /job:localhost/replica:0/task:0/device:GPU:0\n",
      "Executing op VarHandleOp in device /job:localhost/replica:0/task:0/device:GPU:0\n",
      "Executing op VarHandleOp in device /job:localhost/replica:0/task:0/device:GPU:0\n",
      "Executing op VarHandleOp in device /job:localhost/replica:0/task:0/device:GPU:0\n",
      "Executing op VarHandleOp in device /job:localhost/replica:0/task:0/device:GPU:0\n",
      "Executing op VarHandleOp in device /job:localhost/replica:0/task:0/device:GPU:0\n",
      "Executing op VarHandleOp in device /job:localhost/replica:0/task:0/device:GPU:0\n",
      "Executing op VarHandleOp in device /job:localhost/replica:0/task:0/device:GPU:0\n",
      "Executing op VarHandleOp in device /job:localhost/replica:0/task:0/device:GPU:0\n",
      "Executing op VarHandleOp in device /job:localhost/replica:0/task:0/device:GPU:0\n",
      "Executing op __inference_distributed_function_32170 in device /job:localhost/replica:0/task:0/device:GPU:0\n",
      "122880/122920 [============================>.] - ETA: 0s - loss: 0.1569 - f1_metric: 0.7195 - auc_1: 0.9465Executing op ModelDataset in device /job:localhost/replica:0/task:0/device:CPU:0\n",
      "Executing op __inference_distributed_function_42300 in device /job:localhost/replica:0/task:0/device:GPU:0\n",
      "Executing op ReadVariableOp in device /job:localhost/replica:0/task:0/device:CPU:0\n",
      "Executing op Identity in device /job:localhost/replica:0/task:0/device:GPU:0\n",
      "Executing op ReadVariableOp in device /job:localhost/replica:0/task:0/device:GPU:0\n",
      "122920/122920 [==============================] - 144s 1ms/sample - loss: 0.1569 - f1_metric: 0.7197 - auc_1: 0.9465 - val_loss: 0.1019 - val_f1_metric: 0.8166 - val_auc_1: 0.9775\n",
      "Epoch 2/100\n",
      "122880/122920 [============================>.] - ETA: 0s - loss: 0.1115 - f1_metric: 0.7959 - auc_1: 0.9723Executing op ModelDataset in device /job:localhost/replica:0/task:0/device:CPU:0\n",
      "Executing op DeleteIterator in device /job:localhost/replica:0/task:0/device:CPU:0\n",
      "122920/122920 [==============================] - 154s 1ms/sample - loss: 0.1115 - f1_metric: 0.7956 - auc_1: 0.9723 - val_loss: 0.0959 - val_f1_metric: 0.8205 - val_auc_1: 0.9829\n",
      "Epoch 3/100\n",
      "122880/122920 [============================>.] - ETA: 0s - loss: 0.1009 - f1_metric: 0.8142 - auc_1: 0.9779Executing op ModelDataset in device /job:localhost/replica:0/task:0/device:CPU:0\n",
      "122920/122920 [==============================] - 120s 974us/sample - loss: 0.1009 - f1_metric: 0.8144 - auc_1: 0.9779 - val_loss: 0.1111 - val_f1_metric: 0.8183 - val_auc_1: 0.9854\n",
      "Epoch 4/100\n",
      "122880/122920 [============================>.] - ETA: 0s - loss: 0.0940 - f1_metric: 0.8252 - auc_1: 0.9809Executing op ModelDataset in device /job:localhost/replica:0/task:0/device:CPU:0\n",
      "122920/122920 [==============================] - 105s 858us/sample - loss: 0.0940 - f1_metric: 0.8252 - auc_1: 0.9809 - val_loss: 0.0946 - val_f1_metric: 0.8305 - val_auc_1: 0.9828\n",
      "Epoch 5/100\n",
      "122880/122920 [============================>.] - ETA: 0s - loss: 0.0882 - f1_metric: 0.8345 - auc_1: 0.9833Executing op ModelDataset in device /job:localhost/replica:0/task:0/device:CPU:0\n",
      "122920/122920 [==============================] - 100s 817us/sample - loss: 0.0882 - f1_metric: 0.8343 - auc_1: 0.9833 - val_loss: 0.0952 - val_f1_metric: 0.8283 - val_auc_1: 0.9792\n",
      "Epoch 6/100\n",
      "122880/122920 [============================>.] - ETA: 0s - loss: 0.0827 - f1_metric: 0.8455 - auc_1: 0.9856Executing op ModelDataset in device /job:localhost/replica:0/task:0/device:CPU:0\n",
      "122920/122920 [==============================] - 105s 856us/sample - loss: 0.0827 - f1_metric: 0.8457 - auc_1: 0.9856 - val_loss: 0.0885 - val_f1_metric: 0.8320 - val_auc_1: 0.9837\n",
      "Epoch 7/100\n",
      "122880/122920 [============================>.] - ETA: 0s - loss: 0.0770 - f1_metric: 0.8532 - auc_1: 0.9877Executing op ModelDataset in device /job:localhost/replica:0/task:0/device:CPU:0\n",
      "122920/122920 [==============================] - 103s 842us/sample - loss: 0.0769 - f1_metric: 0.8533 - auc_1: 0.9877 - val_loss: 0.0901 - val_f1_metric: 0.8509 - val_auc_1: 0.9834\n",
      "Epoch 8/100\n",
      "122880/122920 [============================>.] - ETA: 0s - loss: 0.0720 - f1_metric: 0.8627 - auc_1: 0.9894Executing op ModelDataset in device /job:localhost/replica:0/task:0/device:CPU:0\n",
      "122920/122920 [==============================] - 101s 819us/sample - loss: 0.0720 - f1_metric: 0.8626 - auc_1: 0.9894 - val_loss: 0.0941 - val_f1_metric: 0.8357 - val_auc_1: 0.9830\n",
      "Epoch 9/100\n",
      "122880/122920 [============================>.] - ETA: 0s - loss: 0.0650 - f1_metric: 0.8761 - auc_1: 0.9913Executing op ModelDataset in device /job:localhost/replica:0/task:0/device:CPU:0\n",
      "122920/122920 [==============================] - 101s 822us/sample - loss: 0.0650 - f1_metric: 0.8761 - auc_1: 0.9913 - val_loss: 0.0953 - val_f1_metric: 0.8371 - val_auc_1: 0.9839\n",
      "Epoch 10/100\n",
      "122880/122920 [============================>.] - ETA: 0s - loss: 0.0606 - f1_metric: 0.8872 - auc_1: 0.9921Executing op ModelDataset in device /job:localhost/replica:0/task:0/device:CPU:0\n",
      "122920/122920 [==============================] - 101s 822us/sample - loss: 0.0606 - f1_metric: 0.8871 - auc_1: 0.9921 - val_loss: 0.0959 - val_f1_metric: 0.8507 - val_auc_1: 0.9848\n",
      "Epoch 11/100\n",
      "122880/122920 [============================>.] - ETA: 0s - loss: 0.0548 - f1_metric: 0.8984 - auc_1: 0.9939Executing op ModelDataset in device /job:localhost/replica:0/task:0/device:CPU:0\n",
      "122920/122920 [==============================] - 101s 823us/sample - loss: 0.0548 - f1_metric: 0.8985 - auc_1: 0.9939 - val_loss: 0.0973 - val_f1_metric: 0.8420 - val_auc_1: 0.9790\n",
      "Epoch 12/100\n",
      "122880/122920 [============================>.] - ETA: 0s - loss: 0.0514 - f1_metric: 0.9037 - auc_1: 0.9943Executing op ModelDataset in device /job:localhost/replica:0/task:0/device:CPU:0\n",
      "122920/122920 [==============================] - 102s 828us/sample - loss: 0.0514 - f1_metric: 0.9038 - auc_1: 0.9943 - val_loss: 0.1054 - val_f1_metric: 0.8308 - val_auc_1: 0.9798\n",
      "Epoch 13/100\n",
      "122880/122920 [============================>.] - ETA: 0s - loss: 0.0483 - f1_metric: 0.9108 - auc_1: 0.9948Executing op ModelDataset in device /job:localhost/replica:0/task:0/device:CPU:0\n",
      "122920/122920 [==============================] - 103s 836us/sample - loss: 0.0483 - f1_metric: 0.9109 - auc_1: 0.9948 - val_loss: 0.1179 - val_f1_metric: 0.8377 - val_auc_1: 0.9724\n",
      "Epoch 14/100\n",
      "122880/122920 [============================>.] - ETA: 0s - loss: 0.0421 - f1_metric: 0.9208 - auc_1: 0.9964Executing op ModelDataset in device /job:localhost/replica:0/task:0/device:CPU:0\n",
      "122920/122920 [==============================] - 103s 838us/sample - loss: 0.0421 - f1_metric: 0.9207 - auc_1: 0.9964 - val_loss: 0.1148 - val_f1_metric: 0.8348 - val_auc_1: 0.9741\n",
      "Epoch 15/100\n",
      "122880/122920 [============================>.] - ETA: 0s - loss: 0.0407 - f1_metric: 0.9262 - auc_1: 0.9962Executing op ModelDataset in device /job:localhost/replica:0/task:0/device:CPU:0\n",
      "122920/122920 [==============================] - 102s 833us/sample - loss: 0.0407 - f1_metric: 0.9262 - auc_1: 0.9962 - val_loss: 0.1129 - val_f1_metric: 0.8246 - val_auc_1: 0.9724\n",
      "Epoch 16/100\n",
      "122880/122920 [============================>.] - ETA: 0s - loss: 0.0372 - f1_metric: 0.9335 - auc_1: 0.9967Executing op ModelDataset in device /job:localhost/replica:0/task:0/device:CPU:0\n",
      "122920/122920 [==============================] - 103s 837us/sample - loss: 0.0372 - f1_metric: 0.9336 - auc_1: 0.9967 - val_loss: 0.1283 - val_f1_metric: 0.8269 - val_auc_1: 0.9711\n",
      "Epoch 17/100\n",
      "122880/122920 [============================>.] - ETA: 0s - loss: 0.0359 - f1_metric: 0.9339 - auc_1: 0.9970Executing op ModelDataset in device /job:localhost/replica:0/task:0/device:CPU:0\n",
      "122920/122920 [==============================] - 103s 836us/sample - loss: 0.0359 - f1_metric: 0.9339 - auc_1: 0.9970 - val_loss: 0.1264 - val_f1_metric: 0.8295 - val_auc_1: 0.9706\n",
      "Epoch 18/100\n",
      "122880/122920 [============================>.] - ETA: 0s - loss: 0.0323 - f1_metric: 0.9418 - auc_1: 0.9974Executing op ModelDataset in device /job:localhost/replica:0/task:0/device:CPU:0\n",
      "122920/122920 [==============================] - 103s 837us/sample - loss: 0.0323 - f1_metric: 0.9418 - auc_1: 0.9974 - val_loss: 0.1489 - val_f1_metric: 0.8199 - val_auc_1: 0.9755\n",
      "Epoch 19/100\n",
      "122880/122920 [============================>.] - ETA: 0s - loss: 0.0305 - f1_metric: 0.9461 - auc_1: 0.9974Executing op ModelDataset in device /job:localhost/replica:0/task:0/device:CPU:0\n",
      "122920/122920 [==============================] - 103s 840us/sample - loss: 0.0305 - f1_metric: 0.9462 - auc_1: 0.9974 - val_loss: 0.1428 - val_f1_metric: 0.8224 - val_auc_1: 0.9725\n",
      "Epoch 20/100\n",
      "122880/122920 [============================>.] - ETA: 0s - loss: 0.0290 - f1_metric: 0.9495 - auc_1: 0.9980Executing op ModelDataset in device /job:localhost/replica:0/task:0/device:CPU:0\n",
      "122920/122920 [==============================] - 104s 847us/sample - loss: 0.0290 - f1_metric: 0.9495 - auc_1: 0.9980 - val_loss: 0.1500 - val_f1_metric: 0.8244 - val_auc_1: 0.9697\n",
      "Epoch 21/100\n",
      "122880/122920 [============================>.] - ETA: 0s - loss: 0.0275 - f1_metric: 0.9527 - auc_1: 0.9978Executing op ModelDataset in device /job:localhost/replica:0/task:0/device:CPU:0\n",
      "122920/122920 [==============================] - 104s 846us/sample - loss: 0.0275 - f1_metric: 0.9527 - auc_1: 0.9978 - val_loss: 0.1378 - val_f1_metric: 0.8316 - val_auc_1: 0.9709\n",
      "Epoch 22/100\n",
      "122880/122920 [============================>.] - ETA: 0s - loss: 0.0269 - f1_metric: 0.9526 - auc_1: 0.9982Executing op ModelDataset in device /job:localhost/replica:0/task:0/device:CPU:0\n",
      "Restoring model weights from the end of the best epoch.\n",
      "122920/122920 [==============================] - 104s 850us/sample - loss: 0.0269 - f1_metric: 0.9527 - auc_1: 0.9982 - val_loss: 0.1448 - val_f1_metric: 0.8354 - val_auc_1: 0.9637\n",
      "Epoch 00022: early stopping\n"
     ]
    }
   ],
   "source": [
    "trainer.fit_model(epochs=100,batch_size = 128)"
   ]
  },
  {
   "cell_type": "code",
   "execution_count": 31,
   "metadata": {},
   "outputs": [
    {
     "name": "stdout",
     "output_type": "stream",
     "text": [
      "Executing op RangeDataset in device /job:localhost/replica:0/task:0/device:CPU:0\n",
      "Executing op RepeatDataset in device /job:localhost/replica:0/task:0/device:CPU:0\n",
      "Executing op MapDataset in device /job:localhost/replica:0/task:0/device:CPU:0\n",
      "Executing op PrefetchDataset in device /job:localhost/replica:0/task:0/device:CPU:0\n",
      "Executing op FlatMapDataset in device /job:localhost/replica:0/task:0/device:CPU:0\n",
      "Executing op TensorDataset in device /job:localhost/replica:0/task:0/device:CPU:0\n",
      "Executing op RepeatDataset in device /job:localhost/replica:0/task:0/device:CPU:0\n",
      "Executing op ZipDataset in device /job:localhost/replica:0/task:0/device:CPU:0\n",
      "Executing op ParallelMapDataset in device /job:localhost/replica:0/task:0/device:CPU:0\n",
      "Executing op ModelDataset in device /job:localhost/replica:0/task:0/device:CPU:0\n"
     ]
    }
   ],
   "source": [
    "test = trainer.val_data['X_indices']\n",
    "y_true = trainer.val_data['y'].astype('float32')\n",
    "\n",
    "y_pred = trainer.model.predict(test)\n",
    "\n",
    "score = f1_metric(y_true,y_pred).numpy()"
   ]
  },
  {
   "cell_type": "code",
   "execution_count": 45,
   "metadata": {},
   "outputs": [
    {
     "name": "stdout",
     "output_type": "stream",
     "text": [
      "Executing op DestroyResourceOp in device /job:localhost/replica:0/task:0/device:GPU:0\n",
      "Executing op VarHandleOp in device /job:localhost/replica:0/task:0/device:GPU:0\n",
      "Executing op Fill in device /job:localhost/replica:0/task:0/device:GPU:0\n",
      "Executing op VarHandleOp in device /job:localhost/replica:0/task:0/device:GPU:0\n",
      "Executing op VarHandleOp in device /job:localhost/replica:0/task:0/device:GPU:0\n",
      "Executing op VarHandleOp in device /job:localhost/replica:0/task:0/device:GPU:0\n",
      "Executing op VarHandleOp in device /job:localhost/replica:0/task:0/device:GPU:0\n",
      "Executing op VarHandleOp in device /job:localhost/replica:0/task:0/device:GPU:0\n",
      "Executing op VarHandleOp in device /job:localhost/replica:0/task:0/device:GPU:0\n",
      "Executing op VarHandleOp in device /job:localhost/replica:0/task:0/device:GPU:0\n",
      "Executing op Reshape in device /job:localhost/replica:0/task:0/device:GPU:0\n",
      "Executing op VarHandleOp in device /job:localhost/replica:0/task:0/device:GPU:0\n",
      "Executing op ReadVariableOp in device /job:localhost/replica:0/task:0/device:GPU:0\n",
      "Executing op Identity in device /job:localhost/replica:0/task:0/device:GPU:0\n"
     ]
    }
   ],
   "source": [
    "model = tf.keras.models.load_model('../../models/many_to_one_LSTM/model.h5',custom_objects={'f1_metric':f1_metric})"
   ]
  },
  {
   "cell_type": "code",
   "execution_count": 46,
   "metadata": {},
   "outputs": [],
   "source": [
    "trainer.model = model"
   ]
  },
  {
   "cell_type": "code",
   "execution_count": 47,
   "metadata": {},
   "outputs": [
    {
     "name": "stdout",
     "output_type": "stream",
     "text": [
      "Executing op RangeDataset in device /job:localhost/replica:0/task:0/device:CPU:0\n",
      "Executing op RepeatDataset in device /job:localhost/replica:0/task:0/device:CPU:0\n",
      "Executing op MapDataset in device /job:localhost/replica:0/task:0/device:CPU:0\n",
      "Executing op PrefetchDataset in device /job:localhost/replica:0/task:0/device:CPU:0\n",
      "Executing op FlatMapDataset in device /job:localhost/replica:0/task:0/device:CPU:0\n",
      "Executing op TensorDataset in device /job:localhost/replica:0/task:0/device:CPU:0\n",
      "Executing op RepeatDataset in device /job:localhost/replica:0/task:0/device:CPU:0\n",
      "Executing op ZipDataset in device /job:localhost/replica:0/task:0/device:CPU:0\n",
      "Executing op ParallelMapDataset in device /job:localhost/replica:0/task:0/device:CPU:0\n",
      "Executing op ModelDataset in device /job:localhost/replica:0/task:0/device:CPU:0\n",
      "Executing op __inference_distributed_function_143037 in device /job:localhost/replica:0/task:0/device:GPU:0\n"
     ]
    },
    {
     "data": {
      "text/plain": [
       "0.8555478"
      ]
     },
     "execution_count": 47,
     "metadata": {},
     "output_type": "execute_result"
    }
   ],
   "source": [
    "trainer.generate_metrics(trainer.val_data['X_indices'],y_test = trainer.val_data['y'])"
   ]
  },
  {
   "cell_type": "code",
   "execution_count": null,
   "metadata": {},
   "outputs": [],
   "source": [
    "plt.figure(figsize=(10,10))\n",
    "sns.lineplot(x='learning_rate',y='f1_val',data = results)\n",
    "plt.xscale('log')\n",
    "plt.axvline(3.5e-3)\n",
    "plt.show()"
   ]
  },
  {
   "cell_type": "code",
   "execution_count": null,
   "metadata": {},
   "outputs": [],
   "source": [
    "np.round(np.log10(3.5e-3),4)"
   ]
  },
  {
   "cell_type": "code",
   "execution_count": 43,
   "metadata": {},
   "outputs": [
    {
     "data": {
      "text/plain": [
       "'/home/samir/temp/toxic_comments/src/models'"
      ]
     },
     "execution_count": 43,
     "metadata": {},
     "output_type": "execute_result"
    }
   ],
   "source": [
    "os.getcwd()"
   ]
  },
  {
   "cell_type": "code",
   "execution_count": null,
   "metadata": {},
   "outputs": [],
   "source": [
    "10**-2.5"
   ]
  }
 ],
 "metadata": {
  "environment": {
   "name": "tf2-2-2-gpu.2-2.m48",
   "type": "gcloud",
   "uri": "gcr.io/deeplearning-platform-release/tf2-2-2-gpu.2-2:m48"
  },
  "kernelspec": {
   "display_name": "Python 3",
   "language": "python",
   "name": "python3"
  },
  "language_info": {
   "codemirror_mode": {
    "name": "ipython",
    "version": 3
   },
   "file_extension": ".py",
   "mimetype": "text/x-python",
   "name": "python",
   "nbconvert_exporter": "python",
   "pygments_lexer": "ipython3",
   "version": "3.7.6"
  }
 },
 "nbformat": 4,
 "nbformat_minor": 4
}
